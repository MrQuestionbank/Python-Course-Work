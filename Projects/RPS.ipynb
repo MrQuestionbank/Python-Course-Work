{
 "cells": [
  {
   "cell_type": "markdown",
   "id": "41e9bb2f",
   "metadata": {},
   "source": [
    "# Rock, Paper, Scissor game"
   ]
  },
  {
   "cell_type": "code",
   "execution_count": 1,
   "id": "501dfeb4",
   "metadata": {},
   "outputs": [],
   "source": [
    "r = 1 \n",
    "p = 2\n",
    "s = 3"
   ]
  },
  {
   "cell_type": "code",
   "execution_count": 2,
   "id": "c9ac2f15",
   "metadata": {},
   "outputs": [],
   "source": [
    "# RPS game logic :\n",
    "import random  \n",
    "\n",
    "def rps(user_choice):\n",
    "    comp_choice =  random.randint(1,3)\n",
    "    if user_choice == 1: \n",
    "        print(\"User choice = Rock\")\n",
    "        if comp_choice == 1:\n",
    "            print(\"Computer Choice = Rock\")\n",
    "            print(\"Draw\")\n",
    "        elif comp_choice == 2: \n",
    "            print(\"Computer Choice = Paper\")\n",
    "            print(\"Computer Wins\")\n",
    "        else : \n",
    "            print(\"Computer Choice = Scissor\")\n",
    "            print (\"User wins\")\n",
    "\n",
    "    elif user_choice == 2 : \n",
    "        print(\"User Choice = Paper\")\n",
    "        if comp_choice == 1:\n",
    "            print(\"Computer Choice = Rock\")\n",
    "            print(\"User Wins\")\n",
    "        elif comp_choice == 2: \n",
    "            print(\"Computer Choice = Paper\")\n",
    "            print(\"Draw\")\n",
    "        else : \n",
    "            print(\"Computer Choice = Scissor\")\n",
    "            print (\"Computer wins\")\n",
    "        \n",
    "    elif user_choice == 3 : \n",
    "        print(\"User Choice = Scissor\")\n",
    "        if comp_choice == 1:\n",
    "            print(\"Computer Choice = Rock\")\n",
    "            print(\"Computer Wins\")\n",
    "        elif comp_choice == 2: \n",
    "            print(\"Computer Choice = Paper\")\n",
    "            print(\"User Wins\")\n",
    "        else : \n",
    "            print(\"Computer Choice = Scissor\")\n",
    "            print (\"Draw\")\n",
    "\n"
   ]
  },
  {
   "cell_type": "code",
   "execution_count": 3,
   "id": "68466cc7",
   "metadata": {},
   "outputs": [],
   "source": [
    "# # user input to start the game \n",
    "# on_off = input(\"\"\"Do you want to play rock-paper-scissors ? \n",
    "#                Enter choice Y / N :\n",
    "# \"\"\").lower()\n",
    "\n",
    "# if on_off ==  'y' : \n",
    "#     print(\"welcome!\")\n",
    "#     #Taking user input.\n",
    "#     user_choice = input(\"enter your choice (Rock = r, Paper = p, Scissor = s)\")\n",
    "#     if user_choice=='r':\n",
    "#         rps(1)\n",
    "#     elif user_choice == 'p' : \n",
    "#         rps(2)\n",
    "#     elif user_choice == 's' : \n",
    "#         rps(3)\n",
    "\n",
    "# elif on_off == 'n' :\n",
    "#     print(\"Why disturb me then ?\")\n",
    "# else: \n",
    "#     print(\"Only enter Y/y for 'Yes' or 'N/n' for No.\")"
   ]
  },
  {
   "cell_type": "code",
   "execution_count": 4,
   "id": "2d7ff00d",
   "metadata": {},
   "outputs": [],
   "source": [
    "# creating a GUI for the game. \n",
    "import tkinter as tk\n",
    "from tkinter import messagebox\n",
    "def play(user_choice):\n",
    "    result = rps(user_choice)\n",
    "    result_label.config(text=result)"
   ]
  },
  {
   "cell_type": "code",
   "execution_count": 5,
   "id": "6a7afdbc",
   "metadata": {},
   "outputs": [],
   "source": [
    "root = tk.Tk()\n",
    "root.title(\"Rock Paper Scissors\")\n",
    "\n",
    "result_label = tk.Label(root, text=\"Make your move!\", font=(\"Arial\", 14))\n",
    "result_label.pack(pady=10)\n",
    "\n",
    "rock_btn = tk.Button(root, text=\"Rock\", width=10, command=lambda: play(\"r\"))\n",
    "rock_btn.pack(pady=5)\n",
    "\n",
    "paper_btn = tk.Button(root, text=\"Paper\", width=10, command=lambda: play(\"p\"))\n",
    "paper_btn.pack(pady=5)\n",
    "\n",
    "scissors_btn = tk.Button(root, text=\"Scissors\", width=10, command=lambda: play(\"s\"))\n",
    "scissors_btn.pack(pady=5)\n",
    "\n",
    "\n",
    "root.mainloop()"
   ]
  }
 ],
 "metadata": {
  "kernelspec": {
   "display_name": "Python 3",
   "language": "python",
   "name": "python3"
  },
  "language_info": {
   "codemirror_mode": {
    "name": "ipython",
    "version": 3
   },
   "file_extension": ".py",
   "mimetype": "text/x-python",
   "name": "python",
   "nbconvert_exporter": "python",
   "pygments_lexer": "ipython3",
   "version": "3.11.4"
  }
 },
 "nbformat": 4,
 "nbformat_minor": 5
}
