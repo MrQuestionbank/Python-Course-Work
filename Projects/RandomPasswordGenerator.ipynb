{
 "cells": [
  {
   "cell_type": "code",
   "execution_count": 41,
   "id": "332028ae",
   "metadata": {},
   "outputs": [
    {
     "name": "stdout",
     "output_type": "stream",
     "text": [
      "abcdefghijklmnopqrstuvwxyz\n",
      "ABCDEFGHIJKLMNOPQRSTUVWXYZ\n",
      "0123456789\n",
      "!\"#$%&'()*+,-./:;<=>?@[\\]^_`{|}~\n"
     ]
    }
   ],
   "source": [
    "# importing relevant libraries\n",
    "import string #for character pool\n",
    "print(string.ascii_lowercase) # stiring of lowercase\n",
    "print(string.ascii_uppercase) #string of uppercase\n",
    "print(string.digits) # string of digits\n",
    "print(string.punctuation) # string of special characters \n",
    "import random #for randomization"
   ]
  },
  {
   "cell_type": "code",
   "execution_count": 42,
   "id": "65e033d3",
   "metadata": {},
   "outputs": [],
   "source": [
    "#Defining the character pool\n",
    "char_pool = string.ascii_lowercase + string.ascii_uppercase + string.digits + string.punctuation\n",
    "char_pool = list(char_pool)"
   ]
  },
  {
   "cell_type": "code",
   "execution_count": 56,
   "id": "63c3c140",
   "metadata": {},
   "outputs": [],
   "source": [
    "def password_generator(password_len): \n",
    "    password_len = int(input(\"Enter the length of the password to be generated : \")) # the user enter the length of password needed\n",
    "    password = random.choices(char_pool, k = password_len)  #random.choices(sequence , k = no. of elements to be selected)\n",
    "    # This selects a random list of character depending on the length (k).\n",
    "    password = \"\".join(password)\n",
    "    print(f\"The password generated is : {password}\")\n",
    "    "
   ]
  },
  {
   "cell_type": "code",
   "execution_count": 57,
   "id": "ee95eaa1",
   "metadata": {},
   "outputs": [
    {
     "name": "stdout",
     "output_type": "stream",
     "text": [
      "The password generated is : N=gf@}eys|@(i7OyFoWkE\n"
     ]
    }
   ],
   "source": [
    "on_off = input(\"Generate a password ? Y/N\").upper()\n",
    "if on_off == \"Y\": \n",
    "    password_generator(password_len)\n",
    "elif on_off == \"N\": \n",
    "    print(\"Bye!\")\n",
    "else: \n",
    "    print(\" Enter only Y / N .\")"
   ]
  },
  {
   "cell_type": "code",
   "execution_count": null,
   "id": "93c01c40",
   "metadata": {},
   "outputs": [],
   "source": [
    "# char_types = input(\"\"\"\n",
    "# Type (U/L/D/S) to choose the kind of characters you want to include in the password:\\n\\\\t U - Uppercase\\n\n",
    "# \\t L - Lowercase\\n \n",
    "# \\t D - Digits\\n\n",
    "# \\t S - Special Character \"\"\")"
   ]
  },
  {
   "cell_type": "code",
   "execution_count": null,
   "id": "490bdcd6",
   "metadata": {},
   "outputs": [],
   "source": [
    "# i = 0\n",
    "# while i == 4: \n",
    "#     print(f\"Options available {char_list.keys()}\")\n",
    "\n"
   ]
  },
  {
   "cell_type": "code",
   "execution_count": null,
   "id": "339616ef",
   "metadata": {},
   "outputs": [],
   "source": [
    "#print(' The following can be included in you password :\"Uppercase\", \"Lowercase\", \"Digits\", \"Special_Characters\"')\n",
    "# char_list = {\"U\" : list(string.ascii_uppercase), \"L\" : list(string.ascii_lowercase), \"D\" : list(string.digits), \"S\" : list(string.punctuation)}\n",
    "# char_selected = {}"
   ]
  }
 ],
 "metadata": {
  "kernelspec": {
   "display_name": "Python 3",
   "language": "python",
   "name": "python3"
  },
  "language_info": {
   "codemirror_mode": {
    "name": "ipython",
    "version": 3
   },
   "file_extension": ".py",
   "mimetype": "text/x-python",
   "name": "python",
   "nbconvert_exporter": "python",
   "pygments_lexer": "ipython3",
   "version": "3.11.4"
  }
 },
 "nbformat": 4,
 "nbformat_minor": 5
}
