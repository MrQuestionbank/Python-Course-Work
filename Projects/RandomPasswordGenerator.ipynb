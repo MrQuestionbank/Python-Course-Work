{
 "cells": [
  {
   "cell_type": "markdown",
   "id": "b9826a6f",
   "metadata": {},
   "source": [
    "## Random Password Generator\n",
    "\n",
    "----"
   ]
  },
  {
   "cell_type": "markdown",
   "id": "834b4d05",
   "metadata": {},
   "source": [
    "#### Step 1 - Import relevant libraries for the project."
   ]
  },
  {
   "cell_type": "code",
   "execution_count": 21,
   "id": "332028ae",
   "metadata": {},
   "outputs": [
    {
     "name": "stdout",
     "output_type": "stream",
     "text": [
      "abcdefghijklmnopqrstuvwxyz\n",
      "ABCDEFGHIJKLMNOPQRSTUVWXYZ\n",
      "0123456789\n",
      "!\"#$%&'()*+,-./:;<=>?@[\\]^_`{|}~\n"
     ]
    }
   ],
   "source": [
    "# importing relevant libraries\n",
    "import string #for character pool\n",
    "print(string.ascii_lowercase) # stiring of lowercase\n",
    "print(string.ascii_uppercase) #string of uppercase\n",
    "print(string.digits) # string of digits\n",
    "print(string.punctuation) # string of special characters \n",
    "import random #for randomization"
   ]
  },
  {
   "cell_type": "markdown",
   "id": "e41e7e19",
   "metadata": {},
   "source": [
    "#### Step 2 - Creating a pool of chracters from which a password needs to be generated."
   ]
  },
  {
   "cell_type": "code",
   "execution_count": 22,
   "id": "81aa157a",
   "metadata": {},
   "outputs": [],
   "source": [
    "# This function is defined to enable users to select the the kinds of characters they want to include in the password.\n",
    "def password_character_selection():\n",
    "    global character_pool #declaraing this variable as global as it needs to be used in password generator too.\n",
    "    character_pool = \"\" #this is an empty list to which the character type selected will be added.\n",
    "    while True:\n",
    "        i=int(input(\"Enter 0 to quit or if you have selected the characters to be included. To continue enter any other number: \")) #this needs to be worked upon.\n",
    "        if i==0:\n",
    "            print(\"Bye\")\n",
    "            break\n",
    "        #User inputs \n",
    "        incl_lower = input(\"Include lowercase letters? (y/n):\" ).strip().lower() #strip - corrects any spaces added by mistake while the user enters.\n",
    "        incl_upper = input(\"Include uppercase letters? (y/n):\" ).strip().lower()\n",
    "        incl_digits = input(\"Include digits? (y/n):\" ).strip().lower()\n",
    "        incl_special = input(\"Include special characters? (y/n):\").strip().lower()\n",
    "        if incl_lower == \"y\": \n",
    "            character_pool = character_pool + string.ascii_lowercase\n",
    "        if incl_upper == \"y\":\n",
    "            character_pool = character_pool +string.ascii_uppercase\n",
    "        if incl_digits == \"y\":\n",
    "            character_pool = character_pool + string.digits\n",
    "        if incl_special == \"y\": \n",
    "            character_pool = character_pool + string.punctuation\n",
    "        else:\n",
    "            pass  \n",
    "        if character_pool  == \"\": # character_pool should not be empty.\n",
    "            print(\"You must select atleast on type of characters.\")"
   ]
  },
  {
   "cell_type": "markdown",
   "id": "11472fe8",
   "metadata": {},
   "source": [
    "##### Now that the pool of characters is created...\n",
    "\n",
    "#### Step 3 - Now take user input for the length of the password and generate a password."
   ]
  },
  {
   "cell_type": "code",
   "execution_count": 23,
   "id": "63c3c140",
   "metadata": {},
   "outputs": [],
   "source": [
    "def password_generator(password_len): \n",
    "    password_character_selection() #here the user selects the characters to be included in the password this creates a chracter pool.\n",
    "    password = random.choices(character_pool, k = password_len)  #random.choices(sequence , k = no. of elements to be selected)\n",
    "    # This selects a random list of character depending on the length (k).\n",
    "    password = \"\".join(password) # a list is generated we need to make it to string again.\n",
    "    print(f\"The password generated is : {password}\")\n",
    "    "
   ]
  },
  {
   "cell_type": "markdown",
   "id": "32c44279",
   "metadata": {},
   "source": [
    "##### All the code logic ends here. Now for accessing the code. \n",
    "#### Step 4 - Creating a on/off code that generates password using the above functions."
   ]
  },
  {
   "cell_type": "code",
   "execution_count": 24,
   "id": "ee95eaa1",
   "metadata": {},
   "outputs": [
    {
     "name": "stdout",
     "output_type": "stream",
     "text": [
      "Bye\n",
      "The password generated is : b2Q3AL2462Sutg9\n"
     ]
    }
   ],
   "source": [
    "on_off = input(\"Generate a password ? Y/N\").upper()\n",
    "if on_off == \"Y\": \n",
    "    password_len = int(input(\"Enter the length of the password to be generated : \")) # the user enter the length of password needed\n",
    "    password_generator(password_len)\n",
    "elif on_off == \"N\": \n",
    "    print(\"Bye!\")\n",
    "else: \n",
    "    print(\" Enter only Y / N .\")"
   ]
  },
  {
   "cell_type": "markdown",
   "id": "2ac2baef",
   "metadata": {},
   "source": [
    "--------"
   ]
  }
 ],
 "metadata": {
  "kernelspec": {
   "display_name": "Python 3",
   "language": "python",
   "name": "python3"
  },
  "language_info": {
   "codemirror_mode": {
    "name": "ipython",
    "version": 3
   },
   "file_extension": ".py",
   "mimetype": "text/x-python",
   "name": "python",
   "nbconvert_exporter": "python",
   "pygments_lexer": "ipython3",
   "version": "3.11.4"
  }
 },
 "nbformat": 4,
 "nbformat_minor": 5
}
