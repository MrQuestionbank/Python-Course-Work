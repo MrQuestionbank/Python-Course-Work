{
 "cells": [
  {
   "cell_type": "code",
   "execution_count": 14,
   "id": "332028ae",
   "metadata": {},
   "outputs": [
    {
     "name": "stdout",
     "output_type": "stream",
     "text": [
      "abcdefghijklmnopqrstuvwxyz\n",
      "ABCDEFGHIJKLMNOPQRSTUVWXYZ\n",
      "0123456789\n",
      "!\"#$%&'()*+,-./:;<=>?@[\\]^_`{|}~\n"
     ]
    }
   ],
   "source": [
    "# importing relevant libraries\n",
    "import string #for character pool\n",
    "print(string.ascii_lowercase) # stiring of lowercase\n",
    "print(string.ascii_uppercase) #string of uppercase\n",
    "print(string.digits) # string of digits\n",
    "print(string.punctuation) # string of special characters \n",
    "import random #for randomization"
   ]
  },
  {
   "cell_type": "code",
   "execution_count": 42,
   "id": "65e033d3",
   "metadata": {},
   "outputs": [],
   "source": [
    "#Defining the character pool\n",
    "char_pool = string.ascii_lowercase + string.ascii_uppercase + string.digits + string.punctuation\n",
    "char_pool = list(char_pool)"
   ]
  },
  {
   "cell_type": "code",
   "execution_count": 63,
   "id": "63c3c140",
   "metadata": {},
   "outputs": [],
   "source": [
    "def password_generator(password_len): \n",
    "    password_len = int(input(\"Enter the length of the password to be generated : \")) # the user enter the length of password needed\n",
    "    password = random.choices(char_pool, k = password_len)  #random.choices(sequence , k = no. of elements to be selected)\n",
    "    # This selects a random list of character depending on the length (k).\n",
    "    password = \"\".join(password)\n",
    "    print(f\"The password generated is : {password}\")\n",
    "    "
   ]
  },
  {
   "cell_type": "code",
   "execution_count": 64,
   "id": "ee95eaa1",
   "metadata": {},
   "outputs": [
    {
     "name": "stdout",
     "output_type": "stream",
     "text": [
      "The password generated is : j4Kbqo|G{1Yw1kYTe.tBx\n"
     ]
    }
   ],
   "source": [
    "on_off = input(\"Generate a password ? Y/N\").upper()\n",
    "if on_off == \"Y\": \n",
    "    password_generator(password_len)\n",
    "elif on_off == \"N\": \n",
    "    print(\"Bye!\")\n",
    "else: \n",
    "    print(\" Enter only Y / N .\")"
   ]
  },
  {
   "cell_type": "markdown",
   "id": "2ac2baef",
   "metadata": {},
   "source": [
    "--------"
   ]
  },
  {
   "cell_type": "code",
   "execution_count": null,
   "id": "ac0727f4",
   "metadata": {},
   "outputs": [
    {
     "ename": "SyntaxError",
     "evalue": "invalid syntax (2243016944.py, line 2)",
     "output_type": "error",
     "traceback": [
      "  \u001b[36mCell\u001b[39m\u001b[36m \u001b[39m\u001b[32mIn[9]\u001b[39m\u001b[32m, line 2\u001b[39m\n\u001b[31m    \u001b[39m\u001b[31mcharacter_pool.global()\u001b[39m\n                   ^\n\u001b[31mSyntaxError\u001b[39m\u001b[31m:\u001b[39m invalid syntax\n"
     ]
    }
   ],
   "source": [
    "#empty string to ma\n",
    "character_pool.global()"
   ]
  },
  {
   "cell_type": "code",
   "execution_count": null,
   "id": "81aa157a",
   "metadata": {},
   "outputs": [],
   "source": [
    "def password_character_selection():\n",
    "    character_pool = \"\"\n",
    "    while True:\n",
    "        i=int(input(\"Enter 0 to quit: \"))\n",
    "        if i==0:\n",
    "            print()\n",
    "            break\n",
    "        incl_lower = input(\"Include lowercase letters? (y/n):\" ).strip().lower()\n",
    "        incl_upper = input(\"Include uppercase letters? (y/n):\" ).strip().lower()\n",
    "        incl_digits = input(\"Include digits? (y/n):\" ).strip().lower()\n",
    "        incl_special = input(\"Include special characters? (y/n):\").strip().lower()\n",
    "        if incl_lower == \"y\": \n",
    "            character_pool = character_pool + string.ascii_lowercase\n",
    "        if incl_upper == \"y\":\n",
    "            character_pool = character_pool +string.ascii_uppercase\n",
    "        if incl_digits == \"y\":\n",
    "            character_pool = character_pool + string.digits\n",
    "        if incl_special == \"y\": \n",
    "            character_pool = character_pool + string.punctuation\n",
    "        else:\n",
    "            pass  \n",
    "        if character_pool  == \"\":\n",
    "            print(\"You must select atleast on type of characters.\")\n",
    "        print(character_pool)\n"
   ]
  },
  {
   "cell_type": "code",
   "execution_count": 51,
   "id": "e6175027",
   "metadata": {},
   "outputs": [
    {
     "name": "stdout",
     "output_type": "stream",
     "text": [
      "You must select atleast on type of characters.\n",
      "\n"
     ]
    }
   ],
   "source": [
    "password_character_selection()"
   ]
  },
  {
   "cell_type": "code",
   "execution_count": 32,
   "id": "f71e0bf1",
   "metadata": {},
   "outputs": [
    {
     "name": "stdout",
     "output_type": "stream",
     "text": [
      "\n"
     ]
    }
   ],
   "source": [
    "print(character_pool)"
   ]
  },
  {
   "cell_type": "code",
   "execution_count": null,
   "id": "33394cf3",
   "metadata": {},
   "outputs": [],
   "source": []
  }
 ],
 "metadata": {
  "kernelspec": {
   "display_name": "Python 3",
   "language": "python",
   "name": "python3"
  },
  "language_info": {
   "codemirror_mode": {
    "name": "ipython",
    "version": 3
   },
   "file_extension": ".py",
   "mimetype": "text/x-python",
   "name": "python",
   "nbconvert_exporter": "python",
   "pygments_lexer": "ipython3",
   "version": "3.11.4"
  }
 },
 "nbformat": 4,
 "nbformat_minor": 5
}
