{
 "cells": [
  {
   "cell_type": "code",
   "execution_count": 11,
   "id": "332028ae",
   "metadata": {},
   "outputs": [
    {
     "name": "stdout",
     "output_type": "stream",
     "text": [
      "abcdefghijklmnopqrstuvwxyz\n",
      "ABCDEFGHIJKLMNOPQRSTUVWXYZ\n",
      "0123456789\n",
      "!\"#$%&'()*+,-./:;<=>?@[\\]^_`{|}~\n"
     ]
    }
   ],
   "source": [
    "# importing relevant libraries\n",
    "import string #for character pool\n",
    "print(string.ascii_lowercase) # stiring of lowercase\n",
    "print(string.ascii_uppercase) #string of uppercase\n",
    "print(string.digits) # string of digits\n",
    "print(string.punctuation) # string of special characters \n",
    "import random #for randomization"
   ]
  },
  {
   "cell_type": "code",
   "execution_count": 18,
   "id": "81aa157a",
   "metadata": {},
   "outputs": [],
   "source": [
    "def password_character_selection():\n",
    "    global character_pool\n",
    "    character_pool = \"\"\n",
    "    while True:\n",
    "        i=int(input(\"Enter 0 to quit. To continue enter any other number: \"))\n",
    "        if i==0:\n",
    "            print(\"Bye\")\n",
    "            break\n",
    "        incl_lower = input(\"Include lowercase letters? (y/n):\" ).strip().lower()\n",
    "        incl_upper = input(\"Include uppercase letters? (y/n):\" ).strip().lower()\n",
    "        incl_digits = input(\"Include digits? (y/n):\" ).strip().lower()\n",
    "        incl_special = input(\"Include special characters? (y/n):\").strip().lower()\n",
    "        if incl_lower == \"y\": \n",
    "            character_pool = character_pool + string.ascii_lowercase\n",
    "        if incl_upper == \"y\":\n",
    "            character_pool = character_pool +string.ascii_uppercase\n",
    "        if incl_digits == \"y\":\n",
    "            character_pool = character_pool + string.digits\n",
    "        if incl_special == \"y\": \n",
    "            character_pool = character_pool + string.punctuation\n",
    "        else:\n",
    "            pass  \n",
    "        if character_pool  == \"\":\n",
    "            print(\"You must select atleast on type of characters.\")"
   ]
  },
  {
   "cell_type": "code",
   "execution_count": 19,
   "id": "63c3c140",
   "metadata": {},
   "outputs": [],
   "source": [
    "def password_generator(password_len): \n",
    "    password_character_selection() #here the user selects the characters to be included in the password this creates a chracter pool.\n",
    "    password = random.choices(character_pool, k = password_len)  #random.choices(sequence , k = no. of elements to be selected)\n",
    "    # This selects a random list of character depending on the length (k).\n",
    "    password = \"\".join(password)\n",
    "    print(f\"The password generated is : {password}\")\n",
    "    "
   ]
  },
  {
   "cell_type": "code",
   "execution_count": 20,
   "id": "ee95eaa1",
   "metadata": {},
   "outputs": [
    {
     "name": "stdout",
     "output_type": "stream",
     "text": [
      "Bye\n",
      "The password generated is : 29@mB'^I|kVBYD&[P-;b*\n"
     ]
    }
   ],
   "source": [
    "on_off = input(\"Generate a password ? Y/N\").upper()\n",
    "if on_off == \"Y\": \n",
    "    password_len = int(input(\"Enter the length of the password to be generated : \")) # the user enter the length of password needed\n",
    "    password_generator(password_len)\n",
    "elif on_off == \"N\": \n",
    "    print(\"Bye!\")\n",
    "else: \n",
    "    print(\" Enter only Y / N .\")"
   ]
  },
  {
   "cell_type": "markdown",
   "id": "2ac2baef",
   "metadata": {},
   "source": [
    "--------"
   ]
  }
 ],
 "metadata": {
  "kernelspec": {
   "display_name": "Python 3",
   "language": "python",
   "name": "python3"
  },
  "language_info": {
   "codemirror_mode": {
    "name": "ipython",
    "version": 3
   },
   "file_extension": ".py",
   "mimetype": "text/x-python",
   "name": "python",
   "nbconvert_exporter": "python",
   "pygments_lexer": "ipython3",
   "version": "3.11.4"
  }
 },
 "nbformat": 4,
 "nbformat_minor": 5
}
