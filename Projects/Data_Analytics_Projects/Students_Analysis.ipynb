{
 "cells": [
  {
   "cell_type": "markdown",
   "id": "c916302c",
   "metadata": {},
   "source": [
    "### Step 1 - Importing Libraries and reading."
   ]
  },
  {
   "cell_type": "code",
   "execution_count": 25,
   "id": "115da3f5",
   "metadata": {},
   "outputs": [],
   "source": [
    "import pandas as pd \n",
    "import numpy as np \n",
    "import seaborn as sns\n",
    "import plotly.express as px \n",
    "import matplotlib.pyplot as plt\n",
    "from scipy.stats import skew, kurtosis\n",
    "plt.style.use('ggplot')\n",
    "pd.set_option('display.max_columns', 100)#displays maximum of 100 columns instead of truncating them"
   ]
  },
  {
   "cell_type": "code",
   "execution_count": 2,
   "id": "9bba8b7c",
   "metadata": {},
   "outputs": [],
   "source": [
    "df = pd.read_excel(\"/Users/mr.questionbank/Desktop/Python-Course-Work/DataFiles/student_performance_data.xlsx\")"
   ]
  },
  {
   "cell_type": "markdown",
   "id": "106b64a2",
   "metadata": {},
   "source": [
    "------"
   ]
  },
  {
   "cell_type": "markdown",
   "id": "18fae418",
   "metadata": {},
   "source": [
    "### Step 2 - Understanding the Data"
   ]
  },
  {
   "cell_type": "code",
   "execution_count": 3,
   "id": "73f280c2",
   "metadata": {},
   "outputs": [
    {
     "data": {
      "text/html": [
       "<div>\n",
       "<style scoped>\n",
       "    .dataframe tbody tr th:only-of-type {\n",
       "        vertical-align: middle;\n",
       "    }\n",
       "\n",
       "    .dataframe tbody tr th {\n",
       "        vertical-align: top;\n",
       "    }\n",
       "\n",
       "    .dataframe thead th {\n",
       "        text-align: right;\n",
       "    }\n",
       "</style>\n",
       "<table border=\"1\" class=\"dataframe\">\n",
       "  <thead>\n",
       "    <tr style=\"text-align: right;\">\n",
       "      <th></th>\n",
       "      <th>StudentID</th>\n",
       "      <th>Name</th>\n",
       "      <th>Gender</th>\n",
       "      <th>Age</th>\n",
       "      <th>Attendance(%)</th>\n",
       "      <th>ProjectsCompleted</th>\n",
       "      <th>ProjectsAssigned</th>\n",
       "      <th>ProjectCompletionRate</th>\n",
       "      <th>FinalScore</th>\n",
       "      <th>Grade</th>\n",
       "      <th>Assignment_Week1</th>\n",
       "      <th>Assignment_Week2</th>\n",
       "      <th>Assignment_Week3</th>\n",
       "      <th>Assignment_Week4</th>\n",
       "      <th>Assignment_Week5</th>\n",
       "      <th>Assignment_Week6</th>\n",
       "      <th>Assignment_Week7</th>\n",
       "      <th>Assignment_Week8</th>\n",
       "      <th>WrittenExam_Week1</th>\n",
       "      <th>WrittenExam_Week2</th>\n",
       "      <th>WrittenExam_Week3</th>\n",
       "      <th>WrittenExam_Week4</th>\n",
       "      <th>WrittenExam_Week5</th>\n",
       "      <th>WrittenExam_Week6</th>\n",
       "      <th>WrittenExam_Week7</th>\n",
       "      <th>WrittenExam_Week8</th>\n",
       "    </tr>\n",
       "  </thead>\n",
       "  <tbody>\n",
       "    <tr>\n",
       "      <th>0</th>\n",
       "      <td>S01</td>\n",
       "      <td>Student_1</td>\n",
       "      <td>Male</td>\n",
       "      <td>21</td>\n",
       "      <td>73</td>\n",
       "      <td>1</td>\n",
       "      <td>3</td>\n",
       "      <td>0.33</td>\n",
       "      <td>56.0</td>\n",
       "      <td>C</td>\n",
       "      <td>4</td>\n",
       "      <td>5</td>\n",
       "      <td>10</td>\n",
       "      <td>4</td>\n",
       "      <td>8</td>\n",
       "      <td>4</td>\n",
       "      <td>10</td>\n",
       "      <td>8</td>\n",
       "      <td>42</td>\n",
       "      <td>32</td>\n",
       "      <td>18</td>\n",
       "      <td>23</td>\n",
       "      <td>20</td>\n",
       "      <td>28</td>\n",
       "      <td>34</td>\n",
       "      <td>35</td>\n",
       "    </tr>\n",
       "    <tr>\n",
       "      <th>1</th>\n",
       "      <td>S02</td>\n",
       "      <td>Student_2</td>\n",
       "      <td>Female</td>\n",
       "      <td>19</td>\n",
       "      <td>90</td>\n",
       "      <td>0</td>\n",
       "      <td>3</td>\n",
       "      <td>0.00</td>\n",
       "      <td>58.0</td>\n",
       "      <td>C</td>\n",
       "      <td>7</td>\n",
       "      <td>5</td>\n",
       "      <td>4</td>\n",
       "      <td>6</td>\n",
       "      <td>10</td>\n",
       "      <td>4</td>\n",
       "      <td>5</td>\n",
       "      <td>7</td>\n",
       "      <td>39</td>\n",
       "      <td>32</td>\n",
       "      <td>49</td>\n",
       "      <td>43</td>\n",
       "      <td>46</td>\n",
       "      <td>42</td>\n",
       "      <td>38</td>\n",
       "      <td>50</td>\n",
       "    </tr>\n",
       "    <tr>\n",
       "      <th>2</th>\n",
       "      <td>S03</td>\n",
       "      <td>Student_3</td>\n",
       "      <td>Male</td>\n",
       "      <td>23</td>\n",
       "      <td>78</td>\n",
       "      <td>0</td>\n",
       "      <td>3</td>\n",
       "      <td>0.00</td>\n",
       "      <td>48.0</td>\n",
       "      <td>D</td>\n",
       "      <td>9</td>\n",
       "      <td>7</td>\n",
       "      <td>4</td>\n",
       "      <td>8</td>\n",
       "      <td>6</td>\n",
       "      <td>4</td>\n",
       "      <td>6</td>\n",
       "      <td>5</td>\n",
       "      <td>37</td>\n",
       "      <td>16</td>\n",
       "      <td>31</td>\n",
       "      <td>40</td>\n",
       "      <td>44</td>\n",
       "      <td>19</td>\n",
       "      <td>26</td>\n",
       "      <td>24</td>\n",
       "    </tr>\n",
       "    <tr>\n",
       "      <th>3</th>\n",
       "      <td>S04</td>\n",
       "      <td>Student_4</td>\n",
       "      <td>Male</td>\n",
       "      <td>22</td>\n",
       "      <td>75</td>\n",
       "      <td>0</td>\n",
       "      <td>3</td>\n",
       "      <td>0.00</td>\n",
       "      <td>62.0</td>\n",
       "      <td>C</td>\n",
       "      <td>5</td>\n",
       "      <td>5</td>\n",
       "      <td>7</td>\n",
       "      <td>10</td>\n",
       "      <td>8</td>\n",
       "      <td>6</td>\n",
       "      <td>4</td>\n",
       "      <td>9</td>\n",
       "      <td>45</td>\n",
       "      <td>49</td>\n",
       "      <td>42</td>\n",
       "      <td>49</td>\n",
       "      <td>49</td>\n",
       "      <td>44</td>\n",
       "      <td>49</td>\n",
       "      <td>23</td>\n",
       "    </tr>\n",
       "    <tr>\n",
       "      <th>4</th>\n",
       "      <td>S05</td>\n",
       "      <td>Student_5</td>\n",
       "      <td>Male</td>\n",
       "      <td>21</td>\n",
       "      <td>64</td>\n",
       "      <td>1</td>\n",
       "      <td>3</td>\n",
       "      <td>0.33</td>\n",
       "      <td>67.0</td>\n",
       "      <td>C</td>\n",
       "      <td>5</td>\n",
       "      <td>5</td>\n",
       "      <td>10</td>\n",
       "      <td>9</td>\n",
       "      <td>7</td>\n",
       "      <td>9</td>\n",
       "      <td>8</td>\n",
       "      <td>9</td>\n",
       "      <td>44</td>\n",
       "      <td>30</td>\n",
       "      <td>44</td>\n",
       "      <td>39</td>\n",
       "      <td>30</td>\n",
       "      <td>19</td>\n",
       "      <td>47</td>\n",
       "      <td>38</td>\n",
       "    </tr>\n",
       "  </tbody>\n",
       "</table>\n",
       "</div>"
      ],
      "text/plain": [
       "  StudentID       Name  Gender  Age  Attendance(%)  ProjectsCompleted  \\\n",
       "0       S01  Student_1    Male   21             73                  1   \n",
       "1       S02  Student_2  Female   19             90                  0   \n",
       "2       S03  Student_3    Male   23             78                  0   \n",
       "3       S04  Student_4    Male   22             75                  0   \n",
       "4       S05  Student_5    Male   21             64                  1   \n",
       "\n",
       "   ProjectsAssigned  ProjectCompletionRate  FinalScore Grade  \\\n",
       "0                 3                   0.33        56.0     C   \n",
       "1                 3                   0.00        58.0     C   \n",
       "2                 3                   0.00        48.0     D   \n",
       "3                 3                   0.00        62.0     C   \n",
       "4                 3                   0.33        67.0     C   \n",
       "\n",
       "   Assignment_Week1  Assignment_Week2  Assignment_Week3  Assignment_Week4  \\\n",
       "0                 4                 5                10                 4   \n",
       "1                 7                 5                 4                 6   \n",
       "2                 9                 7                 4                 8   \n",
       "3                 5                 5                 7                10   \n",
       "4                 5                 5                10                 9   \n",
       "\n",
       "   Assignment_Week5  Assignment_Week6  Assignment_Week7  Assignment_Week8  \\\n",
       "0                 8                 4                10                 8   \n",
       "1                10                 4                 5                 7   \n",
       "2                 6                 4                 6                 5   \n",
       "3                 8                 6                 4                 9   \n",
       "4                 7                 9                 8                 9   \n",
       "\n",
       "   WrittenExam_Week1  WrittenExam_Week2  WrittenExam_Week3  WrittenExam_Week4  \\\n",
       "0                 42                 32                 18                 23   \n",
       "1                 39                 32                 49                 43   \n",
       "2                 37                 16                 31                 40   \n",
       "3                 45                 49                 42                 49   \n",
       "4                 44                 30                 44                 39   \n",
       "\n",
       "   WrittenExam_Week5  WrittenExam_Week6  WrittenExam_Week7  WrittenExam_Week8  \n",
       "0                 20                 28                 34                 35  \n",
       "1                 46                 42                 38                 50  \n",
       "2                 44                 19                 26                 24  \n",
       "3                 49                 44                 49                 23  \n",
       "4                 30                 19                 47                 38  "
      ]
     },
     "execution_count": 3,
     "metadata": {},
     "output_type": "execute_result"
    }
   ],
   "source": [
    "df.head()"
   ]
  },
  {
   "cell_type": "code",
   "execution_count": 4,
   "id": "272cb910",
   "metadata": {},
   "outputs": [
    {
     "data": {
      "text/plain": [
       "Index(['StudentID', 'Name', 'Gender', 'Age', 'Attendance(%)',\n",
       "       'ProjectsCompleted', 'ProjectsAssigned', 'ProjectCompletionRate',\n",
       "       'FinalScore', 'Grade', 'Assignment_Week1', 'Assignment_Week2',\n",
       "       'Assignment_Week3', 'Assignment_Week4', 'Assignment_Week5',\n",
       "       'Assignment_Week6', 'Assignment_Week7', 'Assignment_Week8',\n",
       "       'WrittenExam_Week1', 'WrittenExam_Week2', 'WrittenExam_Week3',\n",
       "       'WrittenExam_Week4', 'WrittenExam_Week5', 'WrittenExam_Week6',\n",
       "       'WrittenExam_Week7', 'WrittenExam_Week8'],\n",
       "      dtype='object')"
      ]
     },
     "execution_count": 4,
     "metadata": {},
     "output_type": "execute_result"
    }
   ],
   "source": [
    "df.columns"
   ]
  },
  {
   "cell_type": "code",
   "execution_count": 5,
   "id": "024fb8ba",
   "metadata": {},
   "outputs": [
    {
     "data": {
      "text/plain": [
       "StudentID                 object\n",
       "Name                      object\n",
       "Gender                    object\n",
       "Age                        int64\n",
       "Attendance(%)              int64\n",
       "ProjectsCompleted          int64\n",
       "ProjectsAssigned           int64\n",
       "ProjectCompletionRate    float64\n",
       "FinalScore               float64\n",
       "Grade                     object\n",
       "Assignment_Week1           int64\n",
       "Assignment_Week2           int64\n",
       "Assignment_Week3           int64\n",
       "Assignment_Week4           int64\n",
       "Assignment_Week5           int64\n",
       "Assignment_Week6           int64\n",
       "Assignment_Week7           int64\n",
       "Assignment_Week8           int64\n",
       "WrittenExam_Week1          int64\n",
       "WrittenExam_Week2          int64\n",
       "WrittenExam_Week3          int64\n",
       "WrittenExam_Week4          int64\n",
       "WrittenExam_Week5          int64\n",
       "WrittenExam_Week6          int64\n",
       "WrittenExam_Week7          int64\n",
       "WrittenExam_Week8          int64\n",
       "dtype: object"
      ]
     },
     "execution_count": 5,
     "metadata": {},
     "output_type": "execute_result"
    }
   ],
   "source": [
    "df.dtypes # shows the datatype of each column."
   ]
  },
  {
   "cell_type": "code",
   "execution_count": 6,
   "id": "6c4175bc",
   "metadata": {},
   "outputs": [
    {
     "data": {
      "text/html": [
       "<div>\n",
       "<style scoped>\n",
       "    .dataframe tbody tr th:only-of-type {\n",
       "        vertical-align: middle;\n",
       "    }\n",
       "\n",
       "    .dataframe tbody tr th {\n",
       "        vertical-align: top;\n",
       "    }\n",
       "\n",
       "    .dataframe thead th {\n",
       "        text-align: right;\n",
       "    }\n",
       "</style>\n",
       "<table border=\"1\" class=\"dataframe\">\n",
       "  <thead>\n",
       "    <tr style=\"text-align: right;\">\n",
       "      <th></th>\n",
       "      <th>Age</th>\n",
       "      <th>Attendance(%)</th>\n",
       "      <th>ProjectsCompleted</th>\n",
       "      <th>ProjectsAssigned</th>\n",
       "      <th>ProjectCompletionRate</th>\n",
       "      <th>FinalScore</th>\n",
       "      <th>Assignment_Week1</th>\n",
       "      <th>Assignment_Week2</th>\n",
       "      <th>Assignment_Week3</th>\n",
       "      <th>Assignment_Week4</th>\n",
       "      <th>Assignment_Week5</th>\n",
       "      <th>Assignment_Week6</th>\n",
       "      <th>Assignment_Week7</th>\n",
       "      <th>Assignment_Week8</th>\n",
       "      <th>WrittenExam_Week1</th>\n",
       "      <th>WrittenExam_Week2</th>\n",
       "      <th>WrittenExam_Week3</th>\n",
       "      <th>WrittenExam_Week4</th>\n",
       "      <th>WrittenExam_Week5</th>\n",
       "      <th>WrittenExam_Week6</th>\n",
       "      <th>WrittenExam_Week7</th>\n",
       "      <th>WrittenExam_Week8</th>\n",
       "    </tr>\n",
       "  </thead>\n",
       "  <tbody>\n",
       "    <tr>\n",
       "      <th>count</th>\n",
       "      <td>32.000000</td>\n",
       "      <td>32.00000</td>\n",
       "      <td>32.000000</td>\n",
       "      <td>32.0</td>\n",
       "      <td>32.000000</td>\n",
       "      <td>32.000000</td>\n",
       "      <td>32.000000</td>\n",
       "      <td>32.000000</td>\n",
       "      <td>32.000000</td>\n",
       "      <td>32.000000</td>\n",
       "      <td>32.000000</td>\n",
       "      <td>32.000000</td>\n",
       "      <td>32.000000</td>\n",
       "      <td>32.000000</td>\n",
       "      <td>32.0000</td>\n",
       "      <td>32.000000</td>\n",
       "      <td>32.000000</td>\n",
       "      <td>32.00000</td>\n",
       "      <td>32.000000</td>\n",
       "      <td>32.000000</td>\n",
       "      <td>32.000000</td>\n",
       "      <td>32.000000</td>\n",
       "    </tr>\n",
       "    <tr>\n",
       "      <th>mean</th>\n",
       "      <td>21.187500</td>\n",
       "      <td>80.21875</td>\n",
       "      <td>1.437500</td>\n",
       "      <td>3.0</td>\n",
       "      <td>0.479375</td>\n",
       "      <td>65.156250</td>\n",
       "      <td>7.093750</td>\n",
       "      <td>7.062500</td>\n",
       "      <td>6.656250</td>\n",
       "      <td>7.593750</td>\n",
       "      <td>7.406250</td>\n",
       "      <td>6.406250</td>\n",
       "      <td>6.687500</td>\n",
       "      <td>6.718750</td>\n",
       "      <td>35.2500</td>\n",
       "      <td>34.906250</td>\n",
       "      <td>36.906250</td>\n",
       "      <td>32.56250</td>\n",
       "      <td>33.218750</td>\n",
       "      <td>33.906250</td>\n",
       "      <td>34.281250</td>\n",
       "      <td>36.250000</td>\n",
       "    </tr>\n",
       "    <tr>\n",
       "      <th>std</th>\n",
       "      <td>2.007044</td>\n",
       "      <td>11.15502</td>\n",
       "      <td>1.134147</td>\n",
       "      <td>0.0</td>\n",
       "      <td>0.378826</td>\n",
       "      <td>8.926616</td>\n",
       "      <td>1.956946</td>\n",
       "      <td>2.093577</td>\n",
       "      <td>2.149409</td>\n",
       "      <td>2.182916</td>\n",
       "      <td>1.738731</td>\n",
       "      <td>2.092373</td>\n",
       "      <td>2.191442</td>\n",
       "      <td>1.904737</td>\n",
       "      <td>10.9956</td>\n",
       "      <td>10.705318</td>\n",
       "      <td>10.825178</td>\n",
       "      <td>10.40452</td>\n",
       "      <td>10.496495</td>\n",
       "      <td>11.289045</td>\n",
       "      <td>11.362742</td>\n",
       "      <td>9.252724</td>\n",
       "    </tr>\n",
       "    <tr>\n",
       "      <th>min</th>\n",
       "      <td>18.000000</td>\n",
       "      <td>64.00000</td>\n",
       "      <td>0.000000</td>\n",
       "      <td>3.0</td>\n",
       "      <td>0.000000</td>\n",
       "      <td>48.000000</td>\n",
       "      <td>4.000000</td>\n",
       "      <td>4.000000</td>\n",
       "      <td>4.000000</td>\n",
       "      <td>4.000000</td>\n",
       "      <td>4.000000</td>\n",
       "      <td>4.000000</td>\n",
       "      <td>4.000000</td>\n",
       "      <td>4.000000</td>\n",
       "      <td>15.0000</td>\n",
       "      <td>16.000000</td>\n",
       "      <td>16.000000</td>\n",
       "      <td>15.00000</td>\n",
       "      <td>15.000000</td>\n",
       "      <td>15.000000</td>\n",
       "      <td>15.000000</td>\n",
       "      <td>21.000000</td>\n",
       "    </tr>\n",
       "    <tr>\n",
       "      <th>25%</th>\n",
       "      <td>20.000000</td>\n",
       "      <td>71.00000</td>\n",
       "      <td>0.000000</td>\n",
       "      <td>3.0</td>\n",
       "      <td>0.000000</td>\n",
       "      <td>58.000000</td>\n",
       "      <td>5.000000</td>\n",
       "      <td>5.000000</td>\n",
       "      <td>5.000000</td>\n",
       "      <td>6.000000</td>\n",
       "      <td>6.000000</td>\n",
       "      <td>4.000000</td>\n",
       "      <td>5.000000</td>\n",
       "      <td>5.750000</td>\n",
       "      <td>25.7500</td>\n",
       "      <td>27.500000</td>\n",
       "      <td>31.750000</td>\n",
       "      <td>22.75000</td>\n",
       "      <td>26.000000</td>\n",
       "      <td>24.000000</td>\n",
       "      <td>24.750000</td>\n",
       "      <td>27.000000</td>\n",
       "    </tr>\n",
       "    <tr>\n",
       "      <th>50%</th>\n",
       "      <td>21.000000</td>\n",
       "      <td>77.50000</td>\n",
       "      <td>1.500000</td>\n",
       "      <td>3.0</td>\n",
       "      <td>0.500000</td>\n",
       "      <td>65.500000</td>\n",
       "      <td>7.000000</td>\n",
       "      <td>7.000000</td>\n",
       "      <td>6.000000</td>\n",
       "      <td>8.000000</td>\n",
       "      <td>7.000000</td>\n",
       "      <td>6.000000</td>\n",
       "      <td>6.000000</td>\n",
       "      <td>6.500000</td>\n",
       "      <td>38.0000</td>\n",
       "      <td>35.000000</td>\n",
       "      <td>39.500000</td>\n",
       "      <td>35.00000</td>\n",
       "      <td>34.500000</td>\n",
       "      <td>36.000000</td>\n",
       "      <td>37.500000</td>\n",
       "      <td>36.500000</td>\n",
       "    </tr>\n",
       "    <tr>\n",
       "      <th>75%</th>\n",
       "      <td>23.000000</td>\n",
       "      <td>90.00000</td>\n",
       "      <td>2.000000</td>\n",
       "      <td>3.0</td>\n",
       "      <td>0.670000</td>\n",
       "      <td>70.500000</td>\n",
       "      <td>9.000000</td>\n",
       "      <td>9.000000</td>\n",
       "      <td>8.250000</td>\n",
       "      <td>10.000000</td>\n",
       "      <td>9.000000</td>\n",
       "      <td>8.250000</td>\n",
       "      <td>9.000000</td>\n",
       "      <td>8.000000</td>\n",
       "      <td>44.2500</td>\n",
       "      <td>44.750000</td>\n",
       "      <td>45.250000</td>\n",
       "      <td>39.25000</td>\n",
       "      <td>42.250000</td>\n",
       "      <td>44.000000</td>\n",
       "      <td>43.500000</td>\n",
       "      <td>44.500000</td>\n",
       "    </tr>\n",
       "    <tr>\n",
       "      <th>max</th>\n",
       "      <td>24.000000</td>\n",
       "      <td>99.00000</td>\n",
       "      <td>3.000000</td>\n",
       "      <td>3.0</td>\n",
       "      <td>1.000000</td>\n",
       "      <td>82.000000</td>\n",
       "      <td>10.000000</td>\n",
       "      <td>10.000000</td>\n",
       "      <td>10.000000</td>\n",
       "      <td>10.000000</td>\n",
       "      <td>10.000000</td>\n",
       "      <td>10.000000</td>\n",
       "      <td>10.000000</td>\n",
       "      <td>10.000000</td>\n",
       "      <td>50.0000</td>\n",
       "      <td>50.000000</td>\n",
       "      <td>49.000000</td>\n",
       "      <td>50.00000</td>\n",
       "      <td>49.000000</td>\n",
       "      <td>50.000000</td>\n",
       "      <td>50.000000</td>\n",
       "      <td>50.000000</td>\n",
       "    </tr>\n",
       "  </tbody>\n",
       "</table>\n",
       "</div>"
      ],
      "text/plain": [
       "             Age  Attendance(%)  ProjectsCompleted  ProjectsAssigned  \\\n",
       "count  32.000000       32.00000          32.000000              32.0   \n",
       "mean   21.187500       80.21875           1.437500               3.0   \n",
       "std     2.007044       11.15502           1.134147               0.0   \n",
       "min    18.000000       64.00000           0.000000               3.0   \n",
       "25%    20.000000       71.00000           0.000000               3.0   \n",
       "50%    21.000000       77.50000           1.500000               3.0   \n",
       "75%    23.000000       90.00000           2.000000               3.0   \n",
       "max    24.000000       99.00000           3.000000               3.0   \n",
       "\n",
       "       ProjectCompletionRate  FinalScore  Assignment_Week1  Assignment_Week2  \\\n",
       "count              32.000000   32.000000         32.000000         32.000000   \n",
       "mean                0.479375   65.156250          7.093750          7.062500   \n",
       "std                 0.378826    8.926616          1.956946          2.093577   \n",
       "min                 0.000000   48.000000          4.000000          4.000000   \n",
       "25%                 0.000000   58.000000          5.000000          5.000000   \n",
       "50%                 0.500000   65.500000          7.000000          7.000000   \n",
       "75%                 0.670000   70.500000          9.000000          9.000000   \n",
       "max                 1.000000   82.000000         10.000000         10.000000   \n",
       "\n",
       "       Assignment_Week3  Assignment_Week4  Assignment_Week5  Assignment_Week6  \\\n",
       "count         32.000000         32.000000         32.000000         32.000000   \n",
       "mean           6.656250          7.593750          7.406250          6.406250   \n",
       "std            2.149409          2.182916          1.738731          2.092373   \n",
       "min            4.000000          4.000000          4.000000          4.000000   \n",
       "25%            5.000000          6.000000          6.000000          4.000000   \n",
       "50%            6.000000          8.000000          7.000000          6.000000   \n",
       "75%            8.250000         10.000000          9.000000          8.250000   \n",
       "max           10.000000         10.000000         10.000000         10.000000   \n",
       "\n",
       "       Assignment_Week7  Assignment_Week8  WrittenExam_Week1  \\\n",
       "count         32.000000         32.000000            32.0000   \n",
       "mean           6.687500          6.718750            35.2500   \n",
       "std            2.191442          1.904737            10.9956   \n",
       "min            4.000000          4.000000            15.0000   \n",
       "25%            5.000000          5.750000            25.7500   \n",
       "50%            6.000000          6.500000            38.0000   \n",
       "75%            9.000000          8.000000            44.2500   \n",
       "max           10.000000         10.000000            50.0000   \n",
       "\n",
       "       WrittenExam_Week2  WrittenExam_Week3  WrittenExam_Week4  \\\n",
       "count          32.000000          32.000000           32.00000   \n",
       "mean           34.906250          36.906250           32.56250   \n",
       "std            10.705318          10.825178           10.40452   \n",
       "min            16.000000          16.000000           15.00000   \n",
       "25%            27.500000          31.750000           22.75000   \n",
       "50%            35.000000          39.500000           35.00000   \n",
       "75%            44.750000          45.250000           39.25000   \n",
       "max            50.000000          49.000000           50.00000   \n",
       "\n",
       "       WrittenExam_Week5  WrittenExam_Week6  WrittenExam_Week7  \\\n",
       "count          32.000000          32.000000          32.000000   \n",
       "mean           33.218750          33.906250          34.281250   \n",
       "std            10.496495          11.289045          11.362742   \n",
       "min            15.000000          15.000000          15.000000   \n",
       "25%            26.000000          24.000000          24.750000   \n",
       "50%            34.500000          36.000000          37.500000   \n",
       "75%            42.250000          44.000000          43.500000   \n",
       "max            49.000000          50.000000          50.000000   \n",
       "\n",
       "       WrittenExam_Week8  \n",
       "count          32.000000  \n",
       "mean           36.250000  \n",
       "std             9.252724  \n",
       "min            21.000000  \n",
       "25%            27.000000  \n",
       "50%            36.500000  \n",
       "75%            44.500000  \n",
       "max            50.000000  "
      ]
     },
     "execution_count": 6,
     "metadata": {},
     "output_type": "execute_result"
    }
   ],
   "source": [
    "df.describe()"
   ]
  },
  {
   "cell_type": "code",
   "execution_count": 7,
   "id": "7c587433",
   "metadata": {},
   "outputs": [
    {
     "data": {
      "text/plain": [
       "(32, 26)"
      ]
     },
     "execution_count": 7,
     "metadata": {},
     "output_type": "execute_result"
    }
   ],
   "source": [
    "df.shape #This dataset has 32 rows and 26 columns. "
   ]
  },
  {
   "cell_type": "code",
   "execution_count": 8,
   "id": "a5a3466d",
   "metadata": {},
   "outputs": [
    {
     "name": "stdout",
     "output_type": "stream",
     "text": [
      "<class 'pandas.core.frame.DataFrame'>\n",
      "RangeIndex: 32 entries, 0 to 31\n",
      "Data columns (total 26 columns):\n",
      " #   Column                 Non-Null Count  Dtype  \n",
      "---  ------                 --------------  -----  \n",
      " 0   StudentID              32 non-null     object \n",
      " 1   Name                   32 non-null     object \n",
      " 2   Gender                 32 non-null     object \n",
      " 3   Age                    32 non-null     int64  \n",
      " 4   Attendance(%)          32 non-null     int64  \n",
      " 5   ProjectsCompleted      32 non-null     int64  \n",
      " 6   ProjectsAssigned       32 non-null     int64  \n",
      " 7   ProjectCompletionRate  32 non-null     float64\n",
      " 8   FinalScore             32 non-null     float64\n",
      " 9   Grade                  32 non-null     object \n",
      " 10  Assignment_Week1       32 non-null     int64  \n",
      " 11  Assignment_Week2       32 non-null     int64  \n",
      " 12  Assignment_Week3       32 non-null     int64  \n",
      " 13  Assignment_Week4       32 non-null     int64  \n",
      " 14  Assignment_Week5       32 non-null     int64  \n",
      " 15  Assignment_Week6       32 non-null     int64  \n",
      " 16  Assignment_Week7       32 non-null     int64  \n",
      " 17  Assignment_Week8       32 non-null     int64  \n",
      " 18  WrittenExam_Week1      32 non-null     int64  \n",
      " 19  WrittenExam_Week2      32 non-null     int64  \n",
      " 20  WrittenExam_Week3      32 non-null     int64  \n",
      " 21  WrittenExam_Week4      32 non-null     int64  \n",
      " 22  WrittenExam_Week5      32 non-null     int64  \n",
      " 23  WrittenExam_Week6      32 non-null     int64  \n",
      " 24  WrittenExam_Week7      32 non-null     int64  \n",
      " 25  WrittenExam_Week8      32 non-null     int64  \n",
      "dtypes: float64(2), int64(20), object(4)\n",
      "memory usage: 6.6+ KB\n"
     ]
    }
   ],
   "source": [
    "df.info() # There are no null-values here. "
   ]
  },
  {
   "cell_type": "markdown",
   "id": "8fbd80fb",
   "metadata": {},
   "source": [
    "-----"
   ]
  },
  {
   "cell_type": "markdown",
   "id": "e8ee52fe",
   "metadata": {},
   "source": [
    "### Data Preparation and Transformation "
   ]
  },
  {
   "cell_type": "markdown",
   "id": "62a519c4",
   "metadata": {},
   "source": [
    "Here we are preparing the dataset so that we can visualize and analyze the class performance weekwise and in total."
   ]
  },
  {
   "cell_type": "code",
   "execution_count": 9,
   "id": "edf84f93",
   "metadata": {},
   "outputs": [],
   "source": [
    "#Creating a list of columns \n",
    "Assignment_Columns = [col for col in df.columns if \"Assignment\" in col]\n",
    "Writternexam_Columns = [col for col in df.columns if \"WrittenExam\" in col]"
   ]
  },
  {
   "cell_type": "code",
   "execution_count": 10,
   "id": "8c01c485",
   "metadata": {},
   "outputs": [],
   "source": [
    "df['Assignment_Total'] = df[Assignment_Columns].sum(axis = 1)\n",
    "df['WrittenExam_Total'] = df[Writternexam_Columns].sum(axis = 1)\n",
    "df['Total_Marks'] = df['Assignment_Total'] + df['WrittenExam_Total']\n",
    "df['Average_Marks'] = df['Total_Marks']/(len(Assignment_Columns)+len(Writternexam_Columns))\n",
    "df['Average_Percentage'] = (df['Total_Marks']/480)*100"
   ]
  },
  {
   "cell_type": "code",
   "execution_count": 11,
   "id": "a5785e0e",
   "metadata": {},
   "outputs": [
    {
     "data": {
      "text/html": [
       "<div>\n",
       "<style scoped>\n",
       "    .dataframe tbody tr th:only-of-type {\n",
       "        vertical-align: middle;\n",
       "    }\n",
       "\n",
       "    .dataframe tbody tr th {\n",
       "        vertical-align: top;\n",
       "    }\n",
       "\n",
       "    .dataframe thead th {\n",
       "        text-align: right;\n",
       "    }\n",
       "</style>\n",
       "<table border=\"1\" class=\"dataframe\">\n",
       "  <thead>\n",
       "    <tr style=\"text-align: right;\">\n",
       "      <th></th>\n",
       "      <th>Name</th>\n",
       "      <th>Assignment_Total</th>\n",
       "      <th>WrittenExam_Total</th>\n",
       "      <th>Total_Marks</th>\n",
       "      <th>Average_Marks</th>\n",
       "      <th>Average_Percentage</th>\n",
       "    </tr>\n",
       "  </thead>\n",
       "  <tbody>\n",
       "    <tr>\n",
       "      <th>0</th>\n",
       "      <td>Student_1</td>\n",
       "      <td>53</td>\n",
       "      <td>232</td>\n",
       "      <td>285</td>\n",
       "      <td>17.8125</td>\n",
       "      <td>59.375000</td>\n",
       "    </tr>\n",
       "    <tr>\n",
       "      <th>1</th>\n",
       "      <td>Student_2</td>\n",
       "      <td>48</td>\n",
       "      <td>339</td>\n",
       "      <td>387</td>\n",
       "      <td>24.1875</td>\n",
       "      <td>80.625000</td>\n",
       "    </tr>\n",
       "    <tr>\n",
       "      <th>2</th>\n",
       "      <td>Student_3</td>\n",
       "      <td>49</td>\n",
       "      <td>237</td>\n",
       "      <td>286</td>\n",
       "      <td>17.8750</td>\n",
       "      <td>59.583333</td>\n",
       "    </tr>\n",
       "    <tr>\n",
       "      <th>3</th>\n",
       "      <td>Student_4</td>\n",
       "      <td>54</td>\n",
       "      <td>350</td>\n",
       "      <td>404</td>\n",
       "      <td>25.2500</td>\n",
       "      <td>84.166667</td>\n",
       "    </tr>\n",
       "    <tr>\n",
       "      <th>4</th>\n",
       "      <td>Student_5</td>\n",
       "      <td>62</td>\n",
       "      <td>291</td>\n",
       "      <td>353</td>\n",
       "      <td>22.0625</td>\n",
       "      <td>73.541667</td>\n",
       "    </tr>\n",
       "  </tbody>\n",
       "</table>\n",
       "</div>"
      ],
      "text/plain": [
       "        Name  Assignment_Total  WrittenExam_Total  Total_Marks  Average_Marks  \\\n",
       "0  Student_1                53                232          285        17.8125   \n",
       "1  Student_2                48                339          387        24.1875   \n",
       "2  Student_3                49                237          286        17.8750   \n",
       "3  Student_4                54                350          404        25.2500   \n",
       "4  Student_5                62                291          353        22.0625   \n",
       "\n",
       "   Average_Percentage  \n",
       "0           59.375000  \n",
       "1           80.625000  \n",
       "2           59.583333  \n",
       "3           84.166667  \n",
       "4           73.541667  "
      ]
     },
     "execution_count": 11,
     "metadata": {},
     "output_type": "execute_result"
    }
   ],
   "source": [
    "df[['Name', 'Assignment_Total', 'WrittenExam_Total', 'Total_Marks', 'Average_Marks','Average_Percentage']].head()\n"
   ]
  },
  {
   "cell_type": "markdown",
   "id": "3c6a6053",
   "metadata": {},
   "source": [
    "Here, \n",
    "\n",
    "Each `Assignment` is evaluated out of 10. => 10 x 8 = `80`\n",
    "\n",
    "Each `WrittenExam` is evaluated out of 50. => 50 x 8 = `400`\n",
    "\n",
    "Therefore `Total` evaluated out of `480`"
   ]
  },
  {
   "cell_type": "markdown",
   "id": "1e2e9b94",
   "metadata": {},
   "source": [
    "-------"
   ]
  },
  {
   "cell_type": "markdown",
   "id": "33988b93",
   "metadata": {},
   "source": [
    "###  Step 3 - Descriptive Data Analysis"
   ]
  },
  {
   "cell_type": "markdown",
   "id": "8e0c9366",
   "metadata": {},
   "source": [
    "#### Overall Class Stats : \n",
    "Mean, Median, Standard Deviations, min/manx and range. "
   ]
  },
  {
   "cell_type": "code",
   "execution_count": 12,
   "id": "4f000c4e",
   "metadata": {},
   "outputs": [],
   "source": [
    "# Central Tendencies : \n",
    "Overall_mean = df['Total_Marks'].mean()\n",
    "Overall_median = df['Total_Marks'].median()\n",
    "\n",
    "# Measures of spread \n",
    "Overall_stddev = df['Total_Marks'].std()\n",
    "Overall_variance = df['Total_Marks'].var()\n",
    "Overall_range = df['Total_Marks'].max() - df['Total_Marks'].min()"
   ]
  },
  {
   "cell_type": "code",
   "execution_count": 13,
   "id": "d777f3f5",
   "metadata": {},
   "outputs": [
    {
     "name": "stdout",
     "output_type": "stream",
     "text": [
      "Total Marks = 480\n",
      "Central Tendencies :\n",
      "Mean Marks: 332.90625\n",
      "Median Marks: 326.0\n",
      "\n",
      "Measures of spread :\n",
      "Standard Deviation: 32.420980239305216\n",
      "Variance: 1051.1199596774193\n",
      "Range: 131\n"
     ]
    }
   ],
   "source": [
    "print(\"Total Marks = 480\")\n",
    "print(\"Central Tendencies :\")\n",
    "print(\"Mean Marks:\", Overall_mean)\n",
    "print(\"Median Marks:\", Overall_median)\n",
    "print()\n",
    "print(\"Measures of spread :\")\n",
    "print(\"Standard Deviation:\", Overall_stddev)\n",
    "print(\"Variance:\", Overall_variance)\n",
    "print(\"Range:\", Overall_range)"
   ]
  },
  {
   "cell_type": "markdown",
   "id": "edfc316f",
   "metadata": {},
   "source": [
    "#### Weekly Analysis (stats) : "
   ]
  },
  {
   "cell_type": "code",
   "execution_count": null,
   "id": "52d9c436",
   "metadata": {},
   "outputs": [
    {
     "name": "stdout",
     "output_type": "stream",
     "text": [
      "\n",
      " Weekly assignment trends : Assignment_Week1    7.09375\n",
      "Assignment_Week2    7.06250\n",
      "Assignment_Week3    6.65625\n",
      "Assignment_Week4    7.59375\n",
      "Assignment_Week5    7.40625\n",
      "Assignment_Week6    6.40625\n",
      "Assignment_Week7    6.68750\n",
      "Assignment_Week8    6.71875\n",
      "dtype: float64 out of 10\n",
      "\n",
      " Weekly written exam trends : WrittenExam_Week1    35.25000\n",
      "WrittenExam_Week2    34.90625\n",
      "WrittenExam_Week3    36.90625\n",
      "WrittenExam_Week4    32.56250\n",
      "WrittenExam_Week5    33.21875\n",
      "WrittenExam_Week6    33.90625\n",
      "WrittenExam_Week7    34.28125\n",
      "WrittenExam_Week8    36.25000\n",
      "dtype: float64 out of 50\n"
     ]
    }
   ],
   "source": [
    "weekly_assign_avg = df[Assignment_Columns].mean()\n",
    "weekly_exam_avg = df[Writternexam_Columns].mean()\n",
    "print(f\"\\n Weekly assignment trends : {weekly_assign_avg} out of 10\")\n",
    "print(f\"\\n Weekly written exam trends : {weekly_exam_avg} out of 50\")"
   ]
  },
  {
   "cell_type": "code",
   "execution_count": 21,
   "id": "7635a892",
   "metadata": {},
   "outputs": [
    {
     "data": {
      "image/png": "[encoded data removed]",
      "text/plain": [
       "<Figure size 1000x500 with 1 Axes>"
      ]
     },
     "metadata": {},
     "output_type": "display_data"
    }
   ],
   "source": [
    "# Assignment Trends : \n",
    "plt.figure(figsize =(10,5))\n",
    "plt.plot(weekly_assign_avg.index, weekly_assign_avg.values, marker = 'o', label = 'Assignment Trends')\n",
    "plt.xticks(rotation = 45)\n",
    "plt.show()"
   ]
  },
  {
   "cell_type": "code",
   "execution_count": 24,
   "id": "0ec2acd3",
   "metadata": {},
   "outputs": [
    {
     "data": {
      "image/png": "[encoded data removed]",
      "text/plain": [
       "<Figure size 1000x500 with 1 Axes>"
      ]
     },
     "metadata": {},
     "output_type": "display_data"
    }
   ],
   "source": [
    "# Exam Trends : \n",
    "plt.figure(figsize = (10,5))\n",
    "plt.plot(weekly_exam_avg.index, weekly_exam_avg.values, marker = 'o', label = 'Exam Trends', color = 'blue')\n",
    "plt.xticks(rotation = 45)\n",
    "plt.show()"
   ]
  },
  {
   "cell_type": "markdown",
   "id": "a0ea02c8",
   "metadata": {},
   "source": [
    "------"
   ]
  },
  {
   "cell_type": "markdown",
   "id": "5dc869ac",
   "metadata": {},
   "source": [
    "### Step 4 - Marks Distribution and Question paper difficulty analysis"
   ]
  },
  {
   "cell_type": "markdown",
   "id": "b44f9efc",
   "metadata": {},
   "source": [
    "- Understanding marks distribution for each week and overall.\n",
    "- Skewness - Tells us if the question paper set was too difficult or too easy. \n",
    "- Kurtosis - Tells us if the marks are clustered/ spread out. "
   ]
  },
  {
   "cell_type": "markdown",
   "id": "f312e754",
   "metadata": {},
   "source": [
    "#### Overall : "
   ]
  },
  {
   "cell_type": "markdown",
   "id": "99d59d3b",
   "metadata": {},
   "source": [
    "##### Combined marks : "
   ]
  },
  {
   "cell_type": "code",
   "execution_count": 26,
   "id": "13e37859",
   "metadata": {},
   "outputs": [
    {
     "name": "stdout",
     "output_type": "stream",
     "text": [
      "Overall skewness of marks : 0.2942086760294644\n",
      "Overall kurtosis of marks : -0.6395258113852762\n"
     ]
    }
   ],
   "source": [
    "# skewness and kurtosis of total marks. \n",
    "Overall_skew = skew(df['Total_Marks'])\n",
    "Overall_kurt = kurtosis(df['Total_Marks'])\n",
    "\n",
    "print(f\"Overall skewness of marks : {Overall_skew}\")\n",
    "print(f\"Overall kurtosis of marks : {Overall_kurt}\")"
   ]
  },
  {
   "cell_type": "code",
   "execution_count": null,
   "id": "7d7b30d7",
   "metadata": {},
   "outputs": [
    {
     "data": {
      "image/png": "[encoded data removed]",
      "text/plain": [
       "<Figure size 1000x500 with 1 Axes>"
      ]
     },
     "metadata": {},
     "output_type": "display_data"
    }
   ],
   "source": [
    "# Histogram showing the overall marks distribution\n",
    "plt.figure(figsize =(10,5))\n",
    "sns.histplot(df['Total_Marks'], kde =True, color= 'skyblue', bins = 10)\n",
    "plt.axvline(Overall_mean, color =\"red\", linestyle = \"--\", label = f\"Mean = {Overall_mean:.2f}\")\n",
    "plt.title(\"Overall Marks Distribution\")\n",
    "plt.xlabel(\"Marks\")\n",
    "plt.ylabel(\"Frequency\")\n",
    "plt.show()"
   ]
  },
  {
   "cell_type": "markdown",
   "id": "f2b88d9e",
   "metadata": {},
   "source": [
    "* Here the students overall the students have scored less than mean, although the kurtosis indicates that the curve is spread."
   ]
  },
  {
   "cell_type": "markdown",
   "id": "c64da374",
   "metadata": {},
   "source": [
    "##### Assignments : "
   ]
  },
  {
   "cell_type": "code",
   "execution_count": 35,
   "id": "64470ffe",
   "metadata": {},
   "outputs": [
    {
     "name": "stdout",
     "output_type": "stream",
     "text": [
      "Overall skewness of Assignment marks : -0.0757803956793268\n",
      "Overall kurtosis of Assignment marks : -0.8593783420426835\n",
      "Overall mean of Assignment marks (out of 80): 55.625\n"
     ]
    }
   ],
   "source": [
    "Overall_Assignments_skewness = skew(df['Assignment_Total'])\n",
    "Overall_Assignments_kurtosis = kurtosis(df['Assignment_Total'])\n",
    "Overall_Assignments_mean = df['Assignment_Total'].mean()\n",
    "\n",
    "print(f\"Overall skewness of Assignment marks : {Overall_Assignments_skewness}\")\n",
    "print(f\"Overall kurtosis of Assignment marks : {Overall_Assignments_kurtosis}\")\n",
    "print(f\"Overall mean of Assignment marks (out of 80): {Overall_Assignments_mean}\")"
   ]
  },
  {
   "cell_type": "code",
   "execution_count": 37,
   "id": "8f0dbf73",
   "metadata": {},
   "outputs": [
    {
     "data": {
      "image/png": "[encoded data removed]",
      "text/plain": [
       "<Figure size 1000x500 with 1 Axes>"
      ]
     },
     "metadata": {},
     "output_type": "display_data"
    }
   ],
   "source": [
    "plt.figure(figsize=(10,5))\n",
    "sns.histplot(df['Assignment_Total'], kde = True, color = 'skyblue', bins= 10)\n",
    "plt.axvline(Overall_Assignments_mean,label = f\"Mean = {Overall_Assignments_mean:.2f}\", color = \"red\")\n",
    "plt.title(\"Overall Assignment Marks Distribution\")\n",
    "plt.xlabel(\"Marks\")\n",
    "plt.ylabel(\"Frequency\")\n",
    "plt.show()\n",
    "        "
   ]
  },
  {
   "cell_type": "markdown",
   "id": "968dcd0a",
   "metadata": {},
   "source": [
    "##### Written Exams :"
   ]
  },
  {
   "cell_type": "code",
   "execution_count": 32,
   "id": "c078cacf",
   "metadata": {},
   "outputs": [
    {
     "name": "stdout",
     "output_type": "stream",
     "text": [
      "Overall skewness of exam marks : 0.37461940634093893\n",
      "Overall kurtosis of exam marks : -0.38754994885292593\n"
     ]
    }
   ],
   "source": [
    "Overall_exam_skewness = skew(df['WrittenExam_Total'])\n",
    "Overall_exam_kurtosis = kurtosis(df['WrittenExam_Total'])\n",
    "\n",
    "print(f\"Overall skewness of exam marks : {Overall_exam_skewness}\")\n",
    "print(f\"Overall kurtosis of exam marks : {Overall_exam_kurtosis}\")"
   ]
  },
  {
   "cell_type": "code",
   "execution_count": null,
   "id": "f38e1149",
   "metadata": {},
   "outputs": [],
   "source": []
  }
 ],
 "metadata": {
  "kernelspec": {
   "display_name": "Python 3",
   "language": "python",
   "name": "python3"
  },
  "language_info": {
   "codemirror_mode": {
    "name": "ipython",
    "version": 3
   },
   "file_extension": ".py",
   "mimetype": "text/x-python",
   "name": "python",
   "nbconvert_exporter": "python",
   "pygments_lexer": "ipython3",
   "version": "3.11.4"
  }
 },
 "nbformat": 4,
 "nbformat_minor": 5
}
