{
 "cells": [
  {
   "cell_type": "markdown",
   "id": "3a6e30ff",
   "metadata": {},
   "source": [
    "## Whatsapp chat data analysis"
   ]
  },
  {
   "cell_type": "code",
   "execution_count": null,
   "id": "673ab064",
   "metadata": {},
   "outputs": [],
   "source": [
    "chat = {}\n",
    "n = int(input(\"Enter the no. of chats : \"))\n",
    "\n",
    "for i in range(n):\n",
    "    name,msg = input(\"start typing : \").split(\":\")\n",
    "    if name in chat: \n",
    "        chat[name].append((msg,i))\n",
    "    else: \n",
    "        chat[name] = [(msg, i)]\n",
    "        "
   ]
  },
  {
   "cell_type": "code",
   "execution_count": null,
   "id": "ebe9835f",
   "metadata": {},
   "outputs": [],
   "source": [
    "while True: \n",
    "    print(\"1. Count total no. of messages : \")\n",
    "    print(\"2. Identify unique users : \" )\n",
    "    print(\"19. exit\")\n",
    "    break\n",
    "\n",
    "if char == 1 :\n",
    "    pass \n",
    "elif char == 2 : \n",
    "    pass \n",
    "else : \n",
    "    (\"print invalid choice...\")\n",
    "    \n"
   ]
  }
 ],
 "metadata": {
  "kernelspec": {
   "display_name": "Python 3",
   "language": "python",
   "name": "python3"
  },
  "language_info": {
   "name": "python",
   "version": "3.11.4"
  }
 },
 "nbformat": 4,
 "nbformat_minor": 5
}
