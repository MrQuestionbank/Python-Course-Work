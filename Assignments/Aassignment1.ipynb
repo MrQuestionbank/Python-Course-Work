{
 "cells": [
  {
   "cell_type": "code",
   "execution_count": 8,
   "id": "a3e473e8",
   "metadata": {},
   "outputs": [
    {
     "ename": "ValueError",
     "evalue": "invalid literal for int() with base 10: ''",
     "output_type": "error",
     "traceback": [
      "\u001b[31m---------------------------------------------------------------------------\u001b[39m",
      "\u001b[31mValueError\u001b[39m                                Traceback (most recent call last)",
      "\u001b[36mCell\u001b[39m\u001b[36m \u001b[39m\u001b[32mIn[8]\u001b[39m\u001b[32m, line 1\u001b[39m\n\u001b[32m----> \u001b[39m\u001b[32m1\u001b[39m product_id = \u001b[38;5;28;43mint\u001b[39;49m\u001b[43m(\u001b[49m\u001b[38;5;28;43minput\u001b[39;49m\u001b[43m(\u001b[49m\u001b[33;43m\"\u001b[39;49m\u001b[33;43mEnter Prduct ID : \u001b[39;49m\u001b[33;43m\"\u001b[39;49m\u001b[43m)\u001b[49m\u001b[43m)\u001b[49m\n\u001b[32m      2\u001b[39m product_name = \u001b[38;5;28minput\u001b[39m(\u001b[33m\"\u001b[39m\u001b[33mEnter the name of the product : \u001b[39m\u001b[33m\"\u001b[39m).lower()\n\u001b[32m      3\u001b[39m price = \u001b[38;5;28mfloat\u001b[39m(\u001b[38;5;28minput\u001b[39m(\u001b[33m\"\u001b[39m\u001b[33mEnter the price of the product : \u001b[39m\u001b[33m\"\u001b[39m))\n",
      "\u001b[31mValueError\u001b[39m: invalid literal for int() with base 10: ''"
     ]
    }
   ],
   "source": [
    "product_id = int(input(\"Enter Prduct ID : \"))\n",
    "product_name = input(\"Enter the name of the product : \").lower()\n",
    "price = float(input(\"Enter the price of the product : \"))\n",
    "categories = input(\"Enter Categories (seperated by ',') : \").split(sep= \",\")\n",
    "stock_details= tuple(map(int,input(\"Enter the no. of items in stock : \")))\n",
    "discount_percentage = float(input(\"Enter discount percentage : \"))\n",
    "product_features = set(input(\"Enter unique features of the product : \"))\n",
    "supplier_details =  dict(map( dict,input(\"Supplier name, contact number, and location\"))).lower()\n"
   ]
  },
  {
   "cell_type": "code",
   "execution_count": null,
   "id": "c9fe33a8",
   "metadata": {},
   "outputs": [
    {
     "ename": "ValueError",
     "evalue": "dictionary update sequence element #0 has length 1; 2 is required",
     "output_type": "error",
     "traceback": [
      "\u001b[31m---------------------------------------------------------------------------\u001b[39m",
      "\u001b[31mValueError\u001b[39m                                Traceback (most recent call last)",
      "\u001b[36mCell\u001b[39m\u001b[36m \u001b[39m\u001b[32mIn[10]\u001b[39m\u001b[32m, line 1\u001b[39m\n\u001b[32m----> \u001b[39m\u001b[32m1\u001b[39m supplier_details =  \u001b[38;5;28;43mdict\u001b[39;49m\u001b[43m(\u001b[49m\u001b[38;5;28;43mmap\u001b[39;49m\u001b[43m(\u001b[49m\u001b[38;5;28;43mdict\u001b[39;49m\u001b[43m,\u001b[49m\u001b[38;5;28;43minput\u001b[39;49m\u001b[43m(\u001b[49m\u001b[33;43m\"\u001b[39;49m\u001b[33;43mSupplier name, contact number, and location\u001b[39;49m\u001b[33;43m\"\u001b[39;49m\u001b[43m)\u001b[49m\u001b[43m)\u001b[49m\u001b[43m)\u001b[49m\n",
      "\u001b[31mValueError\u001b[39m: dictionary update sequence element #0 has length 1; 2 is required"
     ]
    }
   ],
   "source": [
    "#supplier_details =  dict(map(dict,input(\"Supplier name, contact number, and location\")))"
   ]
  },
  {
   "cell_type": "code",
   "execution_count": 13,
   "id": "f6d4af54",
   "metadata": {},
   "outputs": [
    {
     "name": "stdout",
     "output_type": "stream",
     "text": [
      "The following are the details you provided: \n",
      "\n",
      "      product id : 1 \n",
      " \n",
      "      name : laptop\n",
      "\n",
      "      price : 100000.0\n",
      "\n",
      "      categories : ['electronics', ' gadgets']\n",
      " \n",
      "      instock : (4,)\n",
      "\n",
      "      discount : 12.0\n",
      "\n",
      "      features : {'o', 'a', 's', 'c', '_', 'm'}\n",
      "\n"
     ]
    }
   ],
   "source": [
    "print(f'''The following are the details you provided: \\n\n",
    "      product id : {product_id} \\n \n",
    "      name : {product_name}\\n\n",
    "      price : {price}\\n\n",
    "      categories : {categories}\\n \n",
    "      instock : {stock_details}\\n\n",
    "      discount : {discount_percentage}\\n\n",
    "      features : {product_features}\\n''')"
   ]
  },
  {
   "cell_type": "code",
   "execution_count": null,
   "id": "2db888eb",
   "metadata": {},
   "outputs": [],
   "source": []
  }
 ],
 "metadata": {
  "kernelspec": {
   "display_name": "Python 3",
   "language": "python",
   "name": "python3"
  },
  "language_info": {
   "codemirror_mode": {
    "name": "ipython",
    "version": 3
   },
   "file_extension": ".py",
   "mimetype": "text/x-python",
   "name": "python",
   "nbconvert_exporter": "python",
   "pygments_lexer": "ipython3",
   "version": "3.11.4"
  }
 },
 "nbformat": 4,
 "nbformat_minor": 5
}
