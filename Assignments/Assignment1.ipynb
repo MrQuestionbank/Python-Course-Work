{
 "cells": [
  {
   "cell_type": "markdown",
   "id": "f1fba5c4",
   "metadata": {},
   "source": [
    "# Bumble dating app"
   ]
  },
  {
   "cell_type": "code",
   "execution_count": 16,
   "id": "a3e473e8",
   "metadata": {},
   "outputs": [
    {
     "name": "stdout",
     "output_type": "stream",
     "text": [
      " Welcome to Bumble - User Profile Creation \n"
     ]
    }
   ],
   "source": [
    "print(\" Welcome to Bumble - User Profile Creation \")\n",
    "# Taking input of User_ID (int)\n",
    "user_id = int(input(\"Enter  User_IDno. : \"))\n",
    "# Name of the user (str)\n",
    "user_name = input(\"Enter your name : \").lower()\n",
    "# age (float)\n",
    "age = float(input(\"Enter your age: \"))\n",
    "assert age >= 18\n",
    "# Height (float)\n",
    "height = float(input(\"Enter your height: \"))\n",
    "# Dating preference (list)\n",
    "preference = [pref.strip().title() for pref in (input(\"Enter your dating preferences (e.g., Male, Female, Non-binary, Everyone): \").split(','))]\n",
    "# Hobbies\n",
    "hobbies = set(input(\"Let people know about your hobbies : \").strip().lower().split())\n",
    "# Contact and social media (Dictionary)\n",
    "contact = {\"social_media\": input(\"Enter social media link: \"), \"phone_number\": int(input(\"Enter phone number: \"))}\n",
    "\n",
    "# User_details:\n",
    "location = input(\"Enter your location: \")\n",
    "zodiac =  input(\"Enter your zodiac sign: \")\n",
    "user_meta = (location, zodiac)\n",
    "\n",
    "# DOB \n",
    "high_school_marks = float(input(\"Enter your high school marks: \"))\n",
    "assert high_school_marks >= 0 and high_school_marks <= 100\n"
   ]
  },
  {
   "cell_type": "code",
   "execution_count": 17,
   "id": "c9fe33a8",
   "metadata": {},
   "outputs": [
    {
     "name": "stdout",
     "output_type": "stream",
     "text": [
      "\n",
      "🧾 Your Bumble Profile\n",
      "User ID, Name, Age:, 123, tarit, 20.0\n",
      "High School Marks: 84.20%\n",
      "Hi, I'm tarit, 20.0 years old from hyd. I’m looking for Female.\n",
      "Zodiac: sagi\n",
      "Hobbies: gym, running\n",
      "Location and Zodiac: hyd, sagi\n"
     ]
    }
   ],
   "source": [
    "print(\"\\n🧾 Your Bumble Profile\")\n",
    "\n",
    "# Comma Separation\n",
    "print(\"User ID, Name, Age:\", user_id, user_name, age, sep=', ')\n",
    "\n",
    "# Percentage formatting\n",
    "print(\"High School Marks: %.2f%%\" % high_school_marks)\n",
    "\n",
    "# f-string\n",
    "print(f\"Hi, I'm {user_name}, {age} years old from {location}. I’m looking for {', '.join(preference)}.\")\n",
    "print(f\"Zodiac: {zodiac}\")\n",
    "print(f\"Hobbies: {', '.join(hobbies)}\")\n",
    "\n",
    "# .format() method\n",
    "#print(\"Contact Info: Instagram - {0}, Phone - {1}\".format(contact[\"social_media\"], contact[\"phone\"]))\n",
    "print(\"Location and Zodiac: {}, {}\".format(user_meta[0], user_meta[1]))"
   ]
  },
  {
   "cell_type": "markdown",
   "id": "fb69c456",
   "metadata": {},
   "source": [
    "-------\n",
    "-----"
   ]
  },
  {
   "cell_type": "code",
   "execution_count": 2,
   "id": "f6d4af54",
   "metadata": {},
   "outputs": [
    {
     "name": "stdout",
     "output_type": "stream",
     "text": [
      "The following are the details you provided: \n",
      "\n",
      "      product id : 12 \n",
      " \n",
      "      name : laptop\n",
      "\n",
      "      price : 1000.0\n",
      "\n",
      "      categories : ['electronics gadgets ']\n",
      " \n",
      "      instock : (1, 2)\n",
      "\n",
      "      discount : 12.0\n",
      "\n",
      "      features : {'o', 's', 'a', 'm', 'c'}\n",
      "\n"
     ]
    }
   ],
   "source": [
    "print(f'''The following are the details you provided: \\n\n",
    "      product id : {product_id} \\n \n",
    "      name : {product_name}\\n\n",
    "      price : {price}\\n\n",
    "      categories : {categories}\\n \n",
    "      instock : {stock_details}\\n\n",
    "      discount : {discount_percentage}\\n\n",
    "      features : {product_features}\\n''')"
   ]
  },
  {
   "cell_type": "code",
   "execution_count": null,
   "id": "2db888eb",
   "metadata": {},
   "outputs": [],
   "source": []
  }
 ],
 "metadata": {
  "kernelspec": {
   "display_name": "Python 3",
   "language": "python",
   "name": "python3"
  },
  "language_info": {
   "codemirror_mode": {
    "name": "ipython",
    "version": 3
   },
   "file_extension": ".py",
   "mimetype": "text/x-python",
   "name": "python",
   "nbconvert_exporter": "python",
   "pygments_lexer": "ipython3",
   "version": "3.11.4"
  }
 },
 "nbformat": 4,
 "nbformat_minor": 5
}
