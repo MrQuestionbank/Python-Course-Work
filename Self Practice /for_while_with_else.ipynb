{
 "cells": [
  {
   "cell_type": "code",
   "execution_count": 1,
   "id": "04d30a06",
   "metadata": {},
   "outputs": [
    {
     "name": "stdout",
     "output_type": "stream",
     "text": [
      "1\n",
      "3\n",
      "5\n",
      "7\n",
      "9\n"
     ]
    }
   ],
   "source": [
    "for i in range(1,11):\n",
    "    if i%2==0: \n",
    "        continue \n",
    "    print(i)"
   ]
  },
  {
   "cell_type": "code",
   "execution_count": 2,
   "id": "b61638db",
   "metadata": {},
   "outputs": [
    {
     "name": "stdout",
     "output_type": "stream",
     "text": [
      "1\n"
     ]
    }
   ],
   "source": [
    "for i in range(1,11):\n",
    "    if i%2==0: \n",
    "        break\n",
    "    print(i)"
   ]
  },
  {
   "cell_type": "code",
   "execution_count": null,
   "id": "371a902a",
   "metadata": {},
   "outputs": [
    {
     "name": "stdout",
     "output_type": "stream",
     "text": [
      "0\n",
      "1\n",
      "2\n",
      "3\n",
      "4\n",
      "5\n",
      "6\n",
      "7\n",
      "8\n",
      "9\n",
      "End of the list\n"
     ]
    }
   ],
   "source": [
    "for i in range(10):\n",
    "    if i ==16:\n",
    "        break \n",
    "    print(i)\n",
    "else: \n",
    "    print(\"End of the list\")"
   ]
  },
  {
   "cell_type": "markdown",
   "id": "7ae5961f",
   "metadata": {},
   "source": [
    "#### if the the loop ends naturally only then the `else` statement is executed. if the loop breaks inbetween then the `else` is not executed."
   ]
  },
  {
   "cell_type": "markdown",
   "id": "e714ceb3",
   "metadata": {},
   "source": [
    "9. 24hr to 12hr:"
   ]
  },
  {
   "cell_type": "code",
   "execution_count": null,
   "id": "75a1cd33",
   "metadata": {},
   "outputs": [
    {
     "data": {
      "text/plain": [
       "'400'"
      ]
     },
     "execution_count": 12,
     "metadata": {},
     "output_type": "execute_result"
    }
   ],
   "source": [
    "k = input() #time input works on a string.\n",
    "k = k.split(\":\")\n",
    "c_k = str(int(k[0]) - 12)\n",
    "c_k\n",
    "\n",
    "k[0] = c_k\n"
   ]
  },
  {
   "cell_type": "code",
   "execution_count": 18,
   "id": "8aa3bcb1",
   "metadata": {},
   "outputs": [
    {
     "name": "stdout",
     "output_type": "stream",
     "text": [
      "0:0 PM\n"
     ]
    }
   ],
   "source": [
    "hrs, min= tuple(map(int,input().split(':')))\n",
    "if 0<=hrs<=24 and 0<=min<60: \n",
    "    if 0<=hrs< 12:\n",
    "        print(f\"f{hrs}:{mins} AM\")\n",
    "    elif 12 <= hrs <24:\n",
    "        print(f\"{hrs-12}:{min} PM\")\n",
    "    else:\n",
    "         (\"invalid input\")\n",
    "\n",
    "else: \n",
    "    print(\"Invlaid input\")"
   ]
  },
  {
   "cell_type": "code",
   "execution_count": null,
   "id": "72bb57e5",
   "metadata": {},
   "outputs": [],
   "source": []
  }
 ],
 "metadata": {
  "kernelspec": {
   "display_name": "Python 3",
   "language": "python",
   "name": "python3"
  },
  "language_info": {
   "codemirror_mode": {
    "name": "ipython",
    "version": 3
   },
   "file_extension": ".py",
   "mimetype": "text/x-python",
   "name": "python",
   "nbconvert_exporter": "python",
   "pygments_lexer": "ipython3",
   "version": "3.11.4"
  }
 },
 "nbformat": 4,
 "nbformat_minor": 5
}
