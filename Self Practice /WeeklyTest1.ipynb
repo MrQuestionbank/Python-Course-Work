{
 "cells": [
  {
   "cell_type": "markdown",
   "id": "ce46adf3",
   "metadata": {},
   "source": [
    "1. Birthday format fixer"
   ]
  },
  {
   "cell_type": "code",
   "execution_count": 4,
   "id": "9db38454",
   "metadata": {},
   "outputs": [
    {
     "name": "stdout",
     "output_type": "stream",
     "text": [
      "2025/07/16\n"
     ]
    }
   ],
   "source": [
    "date,month,year = input(\"Enter date-month-year\"). split('-')\n",
    "print (f'{year}/{month}/{date}')"
   ]
  },
  {
   "cell_type": "markdown",
   "id": "71cc8150",
   "metadata": {},
   "source": [
    "2. Even odd game"
   ]
  },
  {
   "cell_type": "code",
   "execution_count": 5,
   "id": "9ad1250c",
   "metadata": {},
   "outputs": [
    {
     "name": "stdout",
     "output_type": "stream",
     "text": [
      "Even Winner\n"
     ]
    }
   ],
   "source": [
    "n = int(input())\n",
    "if n%2 == 0 : \n",
    "    print(\"Even Winner\")\n",
    "else: \n",
    "    print(\"Odd Winner\")"
   ]
  },
  {
   "cell_type": "markdown",
   "id": "37dba38a",
   "metadata": {},
   "source": [
    "3. Vowel Replacer bot"
   ]
  },
  {
   "cell_type": "code",
   "execution_count": 6,
   "id": "f28e2d6b",
   "metadata": {},
   "outputs": [
    {
     "name": "stdout",
     "output_type": "stream",
     "text": [
      "h*ll* w*rld\n"
     ]
    }
   ],
   "source": [
    "s = input().lower()\n",
    "print(s.translate(str.maketrans('aeiouAEIOU','**********')))"
   ]
  },
  {
   "cell_type": "markdown",
   "id": "ab368080",
   "metadata": {},
   "source": [
    "4. Shopping cart analyser"
   ]
  },
  {
   "cell_type": "code",
   "execution_count": 10,
   "id": "85830dc5",
   "metadata": {},
   "outputs": [
    {
     "name": "stdout",
     "output_type": "stream",
     "text": [
      "sum =  166.0\n",
      "max =  77.0\n"
     ]
    }
   ],
   "source": [
    "l = list(map(float,input().split()))\n",
    "print(\"sum = \",sum(l))\n",
    "print(\"max = \",max(l))"
   ]
  },
  {
   "cell_type": "markdown",
   "id": "247054dd",
   "metadata": {},
   "source": [
    "Login credentials "
   ]
  },
  {
   "cell_type": "code",
   "execution_count": 11,
   "id": "5379aa3a",
   "metadata": {},
   "outputs": [
    {
     "name": "stdout",
     "output_type": "stream",
     "text": [
      "Login Successful\n"
     ]
    }
   ],
   "source": [
    "credentials = (\"admin\", \"python123\")\n",
    "username = input()\n",
    "password = input()\n",
    "\n",
    "if credentials[0]== username and credentials[1]== \"python123\":\n",
    "    print(\"Login Successful\")\n",
    "else: \n",
    "    print(\"Access denied\")"
   ]
  },
  {
   "cell_type": "markdown",
   "id": "480ec113",
   "metadata": {},
   "source": [
    "6. Remove duplicates"
   ]
  },
  {
   "cell_type": "code",
   "execution_count": 12,
   "id": "ac24a9ac",
   "metadata": {},
   "outputs": [
    {
     "name": "stdout",
     "output_type": "stream",
     "text": [
      "['rosh', 'shubha', 'tarit']\n"
     ]
    }
   ],
   "source": [
    "names = set(input().split()) # since input is str so need to use map. use map only for int or float.\n",
    "print(sorted(names))"
   ]
  },
  {
   "cell_type": "markdown",
   "id": "a6b6da00",
   "metadata": {},
   "source": [
    "7. Student marks"
   ]
  },
  {
   "cell_type": "code",
   "execution_count": 28,
   "id": "0e0f223f",
   "metadata": {},
   "outputs": [
    {
     "name": "stdout",
     "output_type": "stream",
     "text": [
      "{'tarit': 30, 'varun': 89, 'rasso;': 30}\n",
      "varun\n"
     ]
    }
   ],
   "source": [
    "n = int(input())\n",
    "data = {}\n",
    "max_val = 0\n",
    "max_name = ''\n",
    "for _ in range(n): \n",
    "    name,marks = input().split()\n",
    "    marks = int(marks)\n",
    "    if marks > max_val: \n",
    "        max_val =marks \n",
    "        res_name = name\n",
    "    data[name] = marks \n",
    "\n",
    "print(data)\n",
    "print(res_name)"
   ]
  },
  {
   "cell_type": "markdown",
   "id": "36c27478",
   "metadata": {},
   "source": [
    "8. Reverse my word strings: "
   ]
  },
  {
   "cell_type": "code",
   "execution_count": 16,
   "id": "25518899",
   "metadata": {},
   "outputs": [
    {
     "name": "stdout",
     "output_type": "stream",
     "text": [
      "olleh\n",
      "dlrow\n"
     ]
    }
   ],
   "source": [
    "s = input().split()\n",
    "for i in s: \n",
    "    print(i[::-1])"
   ]
  },
  {
   "cell_type": "code",
   "execution_count": 17,
   "id": "2a9fe460",
   "metadata": {},
   "outputs": [
    {
     "name": "stdout",
     "output_type": "stream",
     "text": [
      "olleh dlrow\n"
     ]
    }
   ],
   "source": [
    "# alternative:  \n",
    "sentence = input(\"Enter a string: \")\n",
    "words = sentence.split()                  # Split sentence into words\n",
    "reversed_words = [word[::-1] for word in words]  # Reverse each word\n",
    "output = ' '.join(reversed_words)         # Join them back with spaces\n",
    "print(output)"
   ]
  },
  {
   "cell_type": "markdown",
   "id": "6471d5f3",
   "metadata": {},
   "source": [
    "9. Clean my list: \n",
    "- convert them to int\n",
    "- remove all zeroes\n",
    "- print cleaned list"
   ]
  },
  {
   "cell_type": "code",
   "execution_count": 18,
   "id": "d56215ad",
   "metadata": {},
   "outputs": [
    {
     "name": "stdout",
     "output_type": "stream",
     "text": [
      "[1, 23, 43]\n"
     ]
    }
   ],
   "source": [
    "l = list(map(int,input().split()))\n",
    "while (0 in l):\n",
    "    l.remove(0)\n",
    "print(l)"
   ]
  },
  {
   "cell_type": "code",
   "execution_count": null,
   "id": "093099e7",
   "metadata": {},
   "outputs": [
    {
     "name": "stdout",
     "output_type": "stream",
     "text": [
      "[1, 23, 43]\n"
     ]
    }
   ],
   "source": [
    "# here l length is being changed constantly so only not all '0' are removed. \n",
    "for i in l:\n",
    "    if i == 0: \n",
    "        l.remove(i)\n",
    "print(l)"
   ]
  },
  {
   "cell_type": "code",
   "execution_count": null,
   "id": "fd1960d0",
   "metadata": {},
   "outputs": [
    {
     "name": "stdout",
     "output_type": "stream",
     "text": [
      "[1, 2, 3, 32, 7, 2, 4, 2]\n"
     ]
    }
   ],
   "source": [
    "# alternative # uses more space\n",
    "l = list(map(int,input().split()))\n",
    "res = [] \n",
    "for i in l:\n",
    "    if i != 0: \n",
    "        res.append(i)\n",
    "print(res)"
   ]
  },
  {
   "cell_type": "markdown",
   "id": "fd294588",
   "metadata": {},
   "source": [
    "9. The Frequency Counter"
   ]
  },
  {
   "cell_type": "code",
   "execution_count": 23,
   "id": "8f80f216",
   "metadata": {},
   "outputs": [
    {
     "name": "stdout",
     "output_type": "stream",
     "text": [
      "{'H': 1, 'e': 1, 'l': 3, 'o': 3, 'W': 1, 'r': 1, 'd': 1, 'O': 1, 'y': 1, 't': 1, 'h': 1, 'n': 1}\n"
     ]
    }
   ],
   "source": [
    "line = input()\n",
    "data = {}\n",
    "\n",
    "for i in line: \n",
    "    if i not in data and i != ' ': \n",
    "        data[i]= line.count(i)\n",
    "print(data)"
   ]
  }
 ],
 "metadata": {
  "kernelspec": {
   "display_name": "Python 3",
   "language": "python",
   "name": "python3"
  },
  "language_info": {
   "codemirror_mode": {
    "name": "ipython",
    "version": 3
   },
   "file_extension": ".py",
   "mimetype": "text/x-python",
   "name": "python",
   "nbconvert_exporter": "python",
   "pygments_lexer": "ipython3",
   "version": "3.11.4"
  }
 },
 "nbformat": 4,
 "nbformat_minor": 5
}
