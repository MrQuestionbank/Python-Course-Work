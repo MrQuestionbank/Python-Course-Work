{
 "cells": [
  {
   "cell_type": "markdown",
   "id": "f3931b93",
   "metadata": {},
   "source": [
    "3. Maximum of two numbers "
   ]
  },
  {
   "cell_type": "code",
   "execution_count": 2,
   "id": "bf90b915",
   "metadata": {},
   "outputs": [
    {
     "data": {
      "text/plain": [
       "1231241215"
      ]
     },
     "execution_count": 2,
     "metadata": {},
     "output_type": "execute_result"
    }
   ],
   "source": [
    "greater_num = lambda a,b : a if a>b else b\n",
    "greater_num(22123131,1231241215)"
   ]
  },
  {
   "cell_type": "markdown",
   "id": "63333207",
   "metadata": {},
   "source": [
    "4. Multiply 2 numbers "
   ]
  },
  {
   "cell_type": "code",
   "execution_count": 3,
   "id": "bfaf504a",
   "metadata": {},
   "outputs": [
    {
     "data": {
      "text/plain": [
       "6605848848"
      ]
     },
     "execution_count": 3,
     "metadata": {},
     "output_type": "execute_result"
    }
   ],
   "source": [
    "mul2 = lambda a,b : a*b\n",
    "mul2(123124,53652)"
   ]
  },
  {
   "cell_type": "markdown",
   "id": "08daa3bd",
   "metadata": {},
   "source": [
    "5. Sort a list of tuples by second element"
   ]
  },
  {
   "cell_type": "code",
   "execution_count": 10,
   "id": "67e71c4f",
   "metadata": {},
   "outputs": [
    {
     "name": "stdout",
     "output_type": "stream",
     "text": [
      "[(2, 1), (4, 2), (1, 3)]\n"
     ]
    }
   ],
   "source": [
    "t = [(1, 3), (2, 1), (4, 2)]\n",
    "sorted_tuple = sorted(t, key = lambda i : i[1])\n",
    "print(sorted_tuple)"
   ]
  },
  {
   "cell_type": "markdown",
   "id": "48092881",
   "metadata": {},
   "source": [
    "6. Filter even numbers from a list"
   ]
  },
  {
   "cell_type": "code",
   "execution_count": 11,
   "id": "6a8c9a49",
   "metadata": {},
   "outputs": [
    {
     "data": {
      "text/plain": [
       "[2, 4, 6]"
      ]
     },
     "execution_count": 11,
     "metadata": {},
     "output_type": "execute_result"
    }
   ],
   "source": [
    "l = [1, 2, 3, 4, 5, 6]\n",
    "even_l = list(filter(lambda i : i%2 == 0, l))\n",
    "even_l"
   ]
  },
  {
   "cell_type": "markdown",
   "id": "0bf569e2",
   "metadata": {},
   "source": [
    "8. Convert list of strings to uppercase\n"
   ]
  },
  {
   "cell_type": "code",
   "execution_count": 13,
   "id": "83621e07",
   "metadata": {},
   "outputs": [
    {
     "data": {
      "text/plain": [
       "['TARIT', 'VARUN', 'HARSHITH']"
      ]
     },
     "execution_count": 13,
     "metadata": {},
     "output_type": "execute_result"
    }
   ],
   "source": [
    "l = [\"Tarit\", \"Varun\", \"Harshith\"]\n",
    "upper_l = list(map(lambda i : i.upper(),l))\n",
    "upper_l"
   ]
  },
  {
   "cell_type": "markdown",
   "id": "548d779d",
   "metadata": {},
   "source": [
    "9. Return length of a string"
   ]
  },
  {
   "cell_type": "code",
   "execution_count": 15,
   "id": "16b2c6a1",
   "metadata": {},
   "outputs": [
    {
     "data": {
      "text/plain": [
       "5"
      ]
     },
     "execution_count": 15,
     "metadata": {},
     "output_type": "execute_result"
    }
   ],
   "source": [
    "s = \"hello\"\n",
    "len_s = len(s)\n",
    "len_s"
   ]
  },
  {
   "cell_type": "code",
   "execution_count": null,
   "id": "015fddac",
   "metadata": {},
   "outputs": [],
   "source": []
  }
 ],
 "metadata": {
  "kernelspec": {
   "display_name": "Python 3",
   "language": "python",
   "name": "python3"
  },
  "language_info": {
   "codemirror_mode": {
    "name": "ipython",
    "version": 3
   },
   "file_extension": ".py",
   "mimetype": "text/x-python",
   "name": "python",
   "nbconvert_exporter": "python",
   "pygments_lexer": "ipython3",
   "version": "3.11.4"
  }
 },
 "nbformat": 4,
 "nbformat_minor": 5
}
