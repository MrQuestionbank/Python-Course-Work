{
 "cells": [
  {
   "cell_type": "code",
   "execution_count": null,
   "id": "027d1cea",
   "metadata": {},
   "outputs": [
    {
     "data": {
      "text/plain": [
       "'--------------------------------------Welcome to grocery Store--------------------------------------'"
      ]
     },
     "execution_count": 1,
     "metadata": {},
     "output_type": "execute_result"
    }
   ],
   "source": [
    "\"Welcome to grocery Store\".center(100,\"-\")"
   ]
  },
  {
   "cell_type": "code",
   "execution_count": 2,
   "id": "c7af025a",
   "metadata": {},
   "outputs": [
    {
     "name": "stdout",
     "output_type": "stream",
     "text": [
      "Here are the available products: \n"
     ]
    }
   ],
   "source": [
    "print(\"Here are the available products: \")"
   ]
  },
  {
   "cell_type": "code",
   "execution_count": null,
   "id": "c5f3a725",
   "metadata": {},
   "outputs": [
    {
     "name": "stdout",
     "output_type": "stream",
     "text": [
      "{'Rice': '60', 'Wheat Flour': '45', 'Sugar ': '40', 'Milk': '25', 'Eggs (12pcs)': '70', 'Cooking Oil': '130', 'Tea Powder ': '90', 'Salt': '20', 'Bread': '30', 'Soap': '25'}\n"
     ]
    }
   ],
   "source": []
  },
  {
   "cell_type": "code",
   "execution_count": null,
   "id": "02b14ac6",
   "metadata": {},
   "outputs": [
    {
     "ename": "SyntaxError",
     "evalue": "invalid syntax. Perhaps you forgot a comma? (1425968026.py, line 1)",
     "output_type": "error",
     "traceback": [
      "  \u001b[36mCell\u001b[39m\u001b[36m \u001b[39m\u001b[32mIn[9]\u001b[39m\u001b[32m, line 1\u001b[39m\n\u001b[31m    \u001b[39m\u001b[31mproduct_index = {i for i range(n) : prod for prod in products}\u001b[39m\n                           ^\n\u001b[31mSyntaxError\u001b[39m\u001b[31m:\u001b[39m invalid syntax. Perhaps you forgot a comma?\n"
     ]
    }
   ],
   "source": [
    "#product_index = {  : list(k,i) for key, item in produc }"
   ]
  },
  {
   "cell_type": "code",
   "execution_count": 16,
   "id": "46cb01e7",
   "metadata": {},
   "outputs": [],
   "source": [
    "data = {\n",
    "    1: {\"name\": \"Rice\", \"price\": 60},\n",
    "    2: {\"name\": \"Wheat Flour\", \"price\": 45},\n",
    "    3: {\"name\": \"Sugar\", \"price\": 160},\n",
    "    4: {\"name\": \"Milk\", \"price\": 30},\n",
    "    5: {\"name\": \"Eggs\", \"price\": 70},\n",
    "    6: {\"name\": \"Vegetables\", \"price\": 50},\n",
    "    7: {\"name\": \"Fruits\", \"price\": 80},\n",
    "    8: {\"name\": \"Cooking Oil\", \"price\": 120},\n",
    "    9: {\"name\": \"Salt\", \"price\": 20},\n",
    "    10: {\"name\": \"Spices\", \"price\": 90},\n",
    "    11: {\"name\": \"Tea\", \"price\": 150},\n",
    "}"
   ]
  },
  {
   "cell_type": "code",
   "execution_count": 17,
   "id": "17f98ed6",
   "metadata": {},
   "outputs": [
    {
     "name": "stdout",
     "output_type": "stream",
     "text": [
      "1. Rice - Rs.60\n",
      "2. Wheat Flour - Rs.45\n",
      "3. Sugar - Rs.160\n",
      "4. Milk - Rs.30\n",
      "5. Eggs - Rs.70\n",
      "6. Vegetables - Rs.50\n",
      "7. Fruits - Rs.80\n",
      "8. Cooking Oil - Rs.120\n",
      "9. Salt - Rs.20\n",
      "10. Spices - Rs.90\n",
      "11. Tea - Rs.150\n"
     ]
    }
   ],
   "source": [
    "for i in data: \n",
    "    print(f\"{i}. {data[i]['name']} - Rs.{data[i]['price']}\")"
   ]
  },
  {
   "cell_type": "code",
   "execution_count": 18,
   "id": "56a23c23",
   "metadata": {},
   "outputs": [
    {
     "name": "stdout",
     "output_type": "stream",
     "text": [
      "[1, 2, 5]\n"
     ]
    }
   ],
   "source": [
    "items = list(map(int, input(\"Enter the product indexes you want to buy (e.g. 1 2 3): \").split()))\n",
    "print(items )"
   ]
  },
  {
   "cell_type": "code",
   "execution_count": 24,
   "id": "7c4ffd25",
   "metadata": {},
   "outputs": [
    {
     "name": "stdout",
     "output_type": "stream",
     "text": [
      "Rice - Rs.60 - Quantity: 1 = Rs.60\n",
      "Wheat Flour - Rs.45 - Quantity: 1 = Rs.45\n",
      "Eggs - Rs.70 - Quantity: 1 = Rs.70\n",
      "Total amount to be paid: Rs.175\n"
     ]
    }
   ],
   "source": [
    "total = 0\n",
    "s = set()\n",
    "for i in items:\n",
    "    if i not in s:\n",
    "        c = items.count(i)\n",
    "        print(f\"{data[i]['name']} - Rs.{data[i]['price']} - Quantity: {c} = Rs.{data[i]['price']*c}\")\n",
    "        total += data[i]['price']*c\n",
    "        s.add(i)\n",
    "print(f\"Total amount to be paid: Rs.{total}\")\n"
   ]
  },
  {
   "cell_type": "markdown",
   "id": "f4ab24d7",
   "metadata": {},
   "source": [
    "-----"
   ]
  },
  {
   "cell_type": "markdown",
   "id": "a4973717",
   "metadata": {},
   "source": [
    "Alternative: "
   ]
  },
  {
   "cell_type": "code",
   "execution_count": null,
   "id": "e9f42aa7",
   "metadata": {},
   "outputs": [
    {
     "name": "stdout",
     "output_type": "stream",
     "text": [
      "{'milk': '30', 'bread': '50', 'sugar': '40'}\n"
     ]
    }
   ],
   "source": [
    "# admin side\n",
    "n = int(input(\"Enter the no. of enteries : \"))\n",
    "products = {input(\"Enter the product name :\"): input(\"Enter the price :\")for _ in range(n)}\n",
    "print (products)"
   ]
  },
  {
   "cell_type": "code",
   "execution_count": 31,
   "id": "89d474d6",
   "metadata": {},
   "outputs": [],
   "source": [
    "data = {'milk' : 30 , 'bread' : 50 }\n",
    "for i in range(5):\n",
    "    product_name = input(\"enter product name: \")\n",
    "    price  = int(input(\"Enter the price: \"))\n",
    "    data[product_name]= price"
   ]
  },
  {
   "cell_type": "code",
   "execution_count": null,
   "id": "8789294a",
   "metadata": {},
   "outputs": [
    {
     "name": "stdout",
     "output_type": "stream",
     "text": [
      "Thank you\n",
      "Total amount :  {3000}\n"
     ]
    }
   ],
   "source": [
    "#user side\n",
    "total = 0\n",
    "while True: \n",
    "    product_name = input(\"Enter the product name you want to buy (0 to exit): \")\n",
    "    if product_name == '0': \n",
    "        print(\"Thank you\")\n",
    "        break\n",
    "    quantity = int(input(\"Enter the quantity: \"))\n",
    "    total += data[product_name]* quantity\n",
    "\n",
    "print(f\"Total amount : \" ,{total})\n"
   ]
  },
  {
   "cell_type": "code",
   "execution_count": 35,
   "id": "864f5e14",
   "metadata": {},
   "outputs": [
    {
     "data": {
      "text/plain": [
       "{'milk': 30,\n",
       " 'bread': 50,\n",
       " 'rice': 60,\n",
       " 'wheat': 45,\n",
       " 'sugar': 30,\n",
       " 'salt': 20,\n",
       " 'laptop ': 1000}"
      ]
     },
     "execution_count": 35,
     "metadata": {},
     "output_type": "execute_result"
    }
   ],
   "source": [
    "data"
   ]
  },
  {
   "cell_type": "code",
   "execution_count": null,
   "id": "37290b98",
   "metadata": {},
   "outputs": [],
   "source": []
  }
 ],
 "metadata": {
  "kernelspec": {
   "display_name": "Python 3",
   "language": "python",
   "name": "python3"
  },
  "language_info": {
   "codemirror_mode": {
    "name": "ipython",
    "version": 3
   },
   "file_extension": ".py",
   "mimetype": "text/x-python",
   "name": "python",
   "nbconvert_exporter": "python",
   "pygments_lexer": "ipython3",
   "version": "3.11.4"
  }
 },
 "nbformat": 4,
 "nbformat_minor": 5
}
