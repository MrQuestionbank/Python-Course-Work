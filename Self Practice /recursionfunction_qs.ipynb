{
 "cells": [
  {
   "cell_type": "markdown",
   "id": "70de5018",
   "metadata": {},
   "source": [
    "1. Print numbers from 1 to N:"
   ]
  },
  {
   "cell_type": "code",
   "execution_count": 3,
   "id": "7b761eb8",
   "metadata": {},
   "outputs": [
    {
     "name": "stdout",
     "output_type": "stream",
     "text": [
      "1\n",
      "2\n",
      "3\n"
     ]
    }
   ],
   "source": [
    "n = int(input())\n",
    "for i in range(1,n+1):\n",
    "    print(i)\n"
   ]
  },
  {
   "cell_type": "markdown",
   "id": "df3f74e3",
   "metadata": {},
   "source": [
    "2. Print numbers from N to 1:"
   ]
  },
  {
   "cell_type": "code",
   "execution_count": null,
   "id": "39f58397",
   "metadata": {},
   "outputs": [
    {
     "name": "stdout",
     "output_type": "stream",
     "text": [
      "before : 4\n",
      "before : 3\n",
      "before : 2\n",
      "before : 1\n",
      "after: 1\n",
      "after: 2\n",
      "after: 3\n",
      "after: 4\n"
     ]
    }
   ],
   "source": [
    "def update(n):\n",
    "    if n ==0 :\n",
    "        return\n",
    "    print(f\"before : {n}\")\n",
    "    update(n-1) #goes back to function as it is being called \n",
    "    print(f\"after: {n}\")\n",
    "\n",
    "n = int(input())\n",
    "update(n)"
   ]
  },
  {
   "cell_type": "markdown",
   "id": "d6e3b274",
   "metadata": {},
   "source": [
    "3. Sum of first n numbers: "
   ]
  },
  {
   "cell_type": "code",
   "execution_count": 11,
   "id": "b48eac8f",
   "metadata": {},
   "outputs": [
    {
     "data": {
      "text/plain": [
       "36"
      ]
     },
     "execution_count": 11,
     "metadata": {},
     "output_type": "execute_result"
    }
   ],
   "source": [
    "def sumn(n):\n",
    "    if n == 0 :\n",
    "        return n\n",
    "    return n+sumn(n-1)\n",
    "\n",
    "sumn(8)"
   ]
  },
  {
   "cell_type": "markdown",
   "id": "dddcab9a",
   "metadata": {},
   "source": [
    "4. Factorial of a number : "
   ]
  },
  {
   "cell_type": "code",
   "execution_count": 15,
   "id": "75db49b5",
   "metadata": {},
   "outputs": [
    {
     "data": {
      "text/plain": [
       "120"
      ]
     },
     "execution_count": 15,
     "metadata": {},
     "output_type": "execute_result"
    }
   ],
   "source": [
    "def factorial(n):\n",
    "    if n==1: \n",
    "        return n\n",
    "    return n*factorial(n-1)\n",
    "\n",
    "n = int(input())\n",
    "factorial(n)"
   ]
  },
  {
   "cell_type": "markdown",
   "id": "cc55fbea",
   "metadata": {},
   "source": [
    "5. Reverse a string using recursion"
   ]
  },
  {
   "cell_type": "code",
   "execution_count": null,
   "id": "9a1d0b31",
   "metadata": {},
   "outputs": [
    {
     "name": "stdout",
     "output_type": "stream",
     "text": [
      "nohtyp"
     ]
    }
   ],
   "source": [
    "s = input(\"Enter a string : \")\n",
    "def revstr(s,i):\n",
    "    if i == len(s):\n",
    "        return\n",
    "    revstr(s, i+1)\n",
    "    print(s[i], end ='')\n",
    "\n",
    "revstr(s,0)"
   ]
  },
  {
   "cell_type": "markdown",
   "id": "7629e864",
   "metadata": {},
   "source": [
    "7. Sum of the digits : "
   ]
  },
  {
   "cell_type": "code",
   "execution_count": 28,
   "id": "51e276b3",
   "metadata": {},
   "outputs": [
    {
     "data": {
      "text/plain": [
       "5"
      ]
     },
     "execution_count": 28,
     "metadata": {},
     "output_type": "execute_result"
    }
   ],
   "source": [
    "def sumdig(n):\n",
    "    if n%10 == 0 : \n",
    "        return n\n",
    "    return (n%10) + sumdig(n//10)\n",
    "\n",
    "sumdig(int(input(\"enter the digits : \")))\n"
   ]
  },
  {
   "cell_type": "code",
   "execution_count": null,
   "id": "36c2aee1",
   "metadata": {},
   "outputs": [],
   "source": []
  }
 ],
 "metadata": {
  "kernelspec": {
   "display_name": "Python 3",
   "language": "python",
   "name": "python3"
  },
  "language_info": {
   "codemirror_mode": {
    "name": "ipython",
    "version": 3
   },
   "file_extension": ".py",
   "mimetype": "text/x-python",
   "name": "python",
   "nbconvert_exporter": "python",
   "pygments_lexer": "ipython3",
   "version": "3.11.4"
  }
 },
 "nbformat": 4,
 "nbformat_minor": 5
}
