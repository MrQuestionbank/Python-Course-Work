{
 "cells": [
  {
   "cell_type": "markdown",
   "id": "0c65bf21",
   "metadata": {},
   "source": [
    "#### 1. salary taxation "
   ]
  },
  {
   "cell_type": "code",
   "execution_count": 1,
   "id": "8605453a",
   "metadata": {},
   "outputs": [
    {
     "name": "stdout",
     "output_type": "stream",
     "text": [
      "36937263693753.9\n"
     ]
    }
   ],
   "source": [
    "salary = int(input())\n",
    "if 0 <= salary <= 250000: \n",
    "    print(\"No Tax\")\n",
    "elif 250001 <= salary <= 500000:\n",
    "    print(salary*0.05)\n",
    "elif 500001 <= salary <= 100000: \n",
    "    print(salary*0.2)\n",
    "elif salary >= 100001: \n",
    "    print(salary*0.3)\n",
    "else: \n",
    "    print(\"Invalid entry\")"
   ]
  },
  {
   "cell_type": "markdown",
   "id": "1c7f3c19",
   "metadata": {},
   "source": [
    "#### 2. Tickets"
   ]
  },
  {
   "cell_type": "code",
   "execution_count": 3,
   "id": "be2d5692",
   "metadata": {},
   "outputs": [
    {
     "name": "stdout",
     "output_type": "stream",
     "text": [
      "150\n"
     ]
    }
   ],
   "source": [
    "n = int(input())\n",
    "total_price = 0\n",
    "for i in range(n):\n",
    "    age = int(input(n))\n",
    "    if age <5 : \n",
    "        continue\n",
    "    elif 5 <= age <= 18: \n",
    "        total_price += 100\n",
    "    elif 19 <= age <= 60: \n",
    "        total_price += 150\n",
    "    elif 60 < age: \n",
    "        total_price += 120 \n",
    "print(total_price )\n"
   ]
  },
  {
   "cell_type": "markdown",
   "id": "3f7fe783",
   "metadata": {},
   "source": [
    "#### 4. Electricity bill generator: "
   ]
  },
  {
   "cell_type": "code",
   "execution_count": 9,
   "id": "6380f6ae",
   "metadata": {},
   "outputs": [
    {
     "name": "stdout",
     "output_type": "stream",
     "text": [
      "737338.0\n"
     ]
    }
   ],
   "source": [
    "units = int(input())\n",
    "if 0<= units <= 100: \n",
    "    print(units * 1.5 )\n",
    "elif 101 <= units <= 200: \n",
    "    bill = 100*1.5 +(units-100)*2.5\n",
    "    print(bill)\n",
    "elif 201 <= units <= 500: \n",
    "    bill = (100* 1.5) + (100 *2.5)+ (units - 200)*4 \n",
    "    print(bill)\n",
    "elif units > 500: \n",
    "    bill = (100* 1.5) + (100 *2.5)+ (300)*4 + (units-500)*6\n",
    "    print(bill)\n",
    "else: \n",
    "    print(\"Enter valid data\")\n"
   ]
  },
  {
   "cell_type": "markdown",
   "id": "5e1a2429",
   "metadata": {},
   "source": [
    "#### 4. Car Parking "
   ]
  },
  {
   "cell_type": "code",
   "execution_count": 14,
   "id": "87b56d67",
   "metadata": {},
   "outputs": [
    {
     "name": "stdout",
     "output_type": "stream",
     "text": [
      "40\n"
     ]
    }
   ],
   "source": [
    "h = int(input())\n",
    "if h <= 2 : \n",
    "    print(30)\n",
    "elif 2 < h <24: \n",
    "    print(30 +(h-2)*10)\n",
    "elif h == 24:\n",
    "    print(200)\n"
   ]
  },
  {
   "cell_type": "markdown",
   "id": "dc354444",
   "metadata": {},
   "source": [
    "#### 5. Product Inventory"
   ]
  },
  {
   "cell_type": "code",
   "execution_count": 15,
   "id": "66bf4494",
   "metadata": {},
   "outputs": [
    {
     "name": "stdout",
     "output_type": "stream",
     "text": [
      "laptop : instock\n"
     ]
    }
   ],
   "source": [
    "product = input()\n",
    "qty = int(input())\n",
    "if qty ==0: \n",
    "    print (f\"{product} : Out Of Stock\")\n",
    "elif  1 <= qty <= 10:\n",
    "    print (f\"{product} : Low Stock\")\n",
    "elif 11 <= qty <= 50: \n",
    "    print(f\"{product}: instock\")\n",
    "elif qty >50 : \n",
    "    print(f\"{product} : overstocked\")  "
   ]
  },
  {
   "cell_type": "markdown",
   "id": "f78e3375",
   "metadata": {},
   "source": [
    "#### 6. Pattern row- wise alternating 0 and 1"
   ]
  },
  {
   "cell_type": "code",
   "execution_count": 20,
   "id": "b0aa0440",
   "metadata": {},
   "outputs": [
    {
     "name": "stdout",
     "output_type": "stream",
     "text": [
      "0 1 0 1 0 1 0 1 0 1 \n",
      "1 0 1 0 1 0 1 0 1 0 \n",
      "0 1 0 1 0 1 0 1 0 1 \n",
      "1 0 1 0 1 0 1 0 1 0 \n",
      "0 1 0 1 0 1 0 1 0 1 \n",
      "1 0 1 0 1 0 1 0 1 0 \n",
      "0 1 0 1 0 1 0 1 0 1 \n",
      "1 0 1 0 1 0 1 0 1 0 \n",
      "0 1 0 1 0 1 0 1 0 1 \n",
      "1 0 1 0 1 0 1 0 1 0 \n"
     ]
    }
   ],
   "source": [
    "n = int(input(\"Enter size: \"))\n",
    "for row in range(n):\n",
    "    for col in range(n):\n",
    "        print((row+col)%2, end = ' ')\n",
    "    print()\n"
   ]
  },
  {
   "cell_type": "markdown",
   "id": "2eaa6c86",
   "metadata": {},
   "source": [
    "#### 7. Gym subscription  "
   ]
  },
  {
   "cell_type": "code",
   "execution_count": 23,
   "id": "040b016a",
   "metadata": {},
   "outputs": [
    {
     "name": "stdout",
     "output_type": "stream",
     "text": [
      "menu: \n",
      "          1. Monthly = 500)\n",
      "          2. Quaterly = 1300\n",
      "          3. Yearly = 5000)\n",
      "          0. Exit\n",
      "10000\n",
      "menu: \n",
      "          1. Monthly = 500)\n",
      "          2. Quaterly = 1300\n",
      "          3. Yearly = 5000)\n",
      "          0. Exit\n"
     ]
    }
   ],
   "source": [
    "while True: \n",
    "    print('''menu: \n",
    "          1. Monthly = 500)\n",
    "          2. Quaterly = 1300\n",
    "          3. Yearly = 5000)\n",
    "          0. Exit''')\n",
    "    c = int(input(\"choice\"))\n",
    "    \n",
    "    if c == 0:\n",
    "        break\n",
    "    p = int(input(\"people\"))\n",
    "    if c == 1 :\n",
    "        print(500*p)\n",
    "    elif c == 2: \n",
    "        print(1300*p)\n",
    "    elif c == 3:\n",
    "        print(5000*p)\n",
    "    else: \n",
    "        print(\"invalid choice\")    "
   ]
  },
  {
   "cell_type": "markdown",
   "id": "b9507bbd",
   "metadata": {},
   "source": [
    "#### 8. Shopping cart final amount after discount "
   ]
  },
  {
   "cell_type": "code",
   "execution_count": 24,
   "id": "7d263722",
   "metadata": {},
   "outputs": [
    {
     "name": "stdout",
     "output_type": "stream",
     "text": [
      "1169.45\n"
     ]
    }
   ],
   "source": [
    "amt = float (input(\"Enter total amount : \"))\n",
    "if 0 <= amt <= 999:\n",
    "    pass\n",
    "elif 1000 <= amt <= 4999:\n",
    "    amt *= 0.95\n",
    "elif  5000 <= 9999:\n",
    "    amt *= 0.9\n",
    "elif amt >= 10000:\n",
    "    amt *= 0.15\n",
    "else:\n",
    "    print(\"Invalid entry\")\n",
    "print(amt)"
   ]
  },
  {
   "cell_type": "markdown",
   "id": "4afe5412",
   "metadata": {},
   "source": [
    "#### 9. ATM pin"
   ]
  },
  {
   "cell_type": "code",
   "execution_count": 26,
   "id": "a199ba78",
   "metadata": {},
   "outputs": [
    {
     "name": "stdout",
     "output_type": "stream",
     "text": [
      "ATM blocked. Try again later.\n"
     ]
    }
   ],
   "source": [
    "stored_pin =1234\n",
    "for i in range(3):\n",
    "    pin = int(input(\"Enter pin : \"))\n",
    "    if pin == stored_pin:\n",
    "        print(\"Access Granted\")\n",
    "        break\n",
    "else: \n",
    "    print(\"ATM blocked. Try again later.\")"
   ]
  },
  {
   "cell_type": "markdown",
   "id": "ab2ac672",
   "metadata": {},
   "source": [
    "#### 10 . Bus seat booking "
   ]
  },
  {
   "cell_type": "code",
   "execution_count": 28,
   "id": "fca0f6a9",
   "metadata": {},
   "outputs": [
    {
     "name": "stdout",
     "output_type": "stream",
     "text": [
      "total seats : 34\n",
      "booked: 3\n",
      "available : 31\n"
     ]
    }
   ],
   "source": [
    "total_seat = int(input())\n",
    "booked_seats = list(map(int, input(\"enter booked seats: \").split()))\n",
    "print(f\"total seats : {total_seat}\")\n",
    "print(f\"booked: {len(booked_seats)}\")\n",
    "print(f\"available : {total_seat - len(booked_seats)}\")\n"
   ]
  },
  {
   "cell_type": "code",
   "execution_count": null,
   "id": "ad601c77",
   "metadata": {},
   "outputs": [],
   "source": []
  }
 ],
 "metadata": {
  "kernelspec": {
   "display_name": "Python 3",
   "language": "python",
   "name": "python3"
  },
  "language_info": {
   "codemirror_mode": {
    "name": "ipython",
    "version": 3
   },
   "file_extension": ".py",
   "mimetype": "text/x-python",
   "name": "python",
   "nbconvert_exporter": "python",
   "pygments_lexer": "ipython3",
   "version": "3.11.4"
  }
 },
 "nbformat": 4,
 "nbformat_minor": 5
}
