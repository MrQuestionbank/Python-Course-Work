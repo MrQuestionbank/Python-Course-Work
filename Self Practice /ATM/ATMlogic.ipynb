{
 "cells": [
  {
   "cell_type": "code",
   "execution_count": null,
   "id": "86b42740",
   "metadata": {},
   "outputs": [],
   "source": [
    "data = { \n",
    "    2134: {'pin'}\n",
    "}"
   ]
  },
  {
   "cell_type": "code",
   "execution_count": 9,
   "id": "b1b9e44b",
   "metadata": {},
   "outputs": [],
   "source": [
    "def Welcome():\n",
    "    print(\" Welcome to the ATM \".center(150, \"*\"))"
   ]
  },
  {
   "cell_type": "code",
   "execution_count": 10,
   "id": "9703e58e",
   "metadata": {},
   "outputs": [
    {
     "name": "stdout",
     "output_type": "stream",
     "text": [
      "***************************************************************** Welcome to the ATM *****************************************************************\n"
     ]
    }
   ],
   "source": [
    "Welcome()"
   ]
  },
  {
   "cell_type": "code",
   "execution_count": 11,
   "id": "47793dc2",
   "metadata": {},
   "outputs": [
    {
     "data": {
      "text/plain": [
       "20"
      ]
     },
     "execution_count": 11,
     "metadata": {},
     "output_type": "execute_result"
    }
   ],
   "source": [
    "len(\" Welcome to the ATM \")"
   ]
  },
  {
   "cell_type": "code",
   "execution_count": null,
   "id": "441df83d",
   "metadata": {},
   "outputs": [],
   "source": []
  }
 ],
 "metadata": {
  "kernelspec": {
   "display_name": "Python 3",
   "language": "python",
   "name": "python3"
  },
  "language_info": {
   "codemirror_mode": {
    "name": "ipython",
    "version": 3
   },
   "file_extension": ".py",
   "mimetype": "text/x-python",
   "name": "python",
   "nbconvert_exporter": "python",
   "pygments_lexer": "ipython3",
   "version": "3.11.4"
  }
 },
 "nbformat": 4,
 "nbformat_minor": 5
}
