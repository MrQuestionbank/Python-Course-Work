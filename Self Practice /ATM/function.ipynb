{
 "cells": [
  {
   "cell_type": "code",
   "execution_count": null,
   "id": "16b37049",
   "metadata": {},
   "outputs": [],
   "source": [
    "data = { 131123: }"
   ]
  },
  {
   "cell_type": "code",
   "execution_count": 1,
   "id": "183fee7a",
   "metadata": {},
   "outputs": [],
   "source": [
    "def Welcome():\n",
    "    print(\"Welcome to the ATM\".center(50,\"*\"))"
   ]
  },
  {
   "cell_type": "code",
   "execution_count": 2,
   "id": "583c441b",
   "metadata": {},
   "outputs": [],
   "source": [
    "def Menu():\n",
    "    print('\\n [C]heck Balance')\n",
    "    print('\\n [D]eposit')\n",
    "    print('\\n [W]ithdraaw')\n",
    "    print('\\n [V]iew Transactions')\n",
    "    print('[E]xit \\n')"
   ]
  },
  {
   "cell_type": "code",
   "execution_count": null,
   "id": "f141d44f",
   "metadata": {},
   "outputs": [],
   "source": [
    "def Login():\n",
    "    acc_no = int(input(\"Enter the account number: \"))\n",
    "    pin = int(input(\"Enter the ATM pin : \"))\n",
    "    if acc_no in data: \n",
    "        id data[account_num ]"
   ]
  }
 ],
 "metadata": {
  "kernelspec": {
   "display_name": "Python 3",
   "language": "python",
   "name": "python3"
  },
  "language_info": {
   "codemirror_mode": {
    "name": "ipython",
    "version": 3
   },
   "file_extension": ".py",
   "mimetype": "text/x-python",
   "name": "python",
   "nbconvert_exporter": "python",
   "pygments_lexer": "ipython3",
   "version": "3.11.4"
  }
 },
 "nbformat": 4,
 "nbformat_minor": 5
}
