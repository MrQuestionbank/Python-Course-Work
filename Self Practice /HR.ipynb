{
 "cells": [
  {
   "cell_type": "code",
   "execution_count": 11,
   "id": "43508675",
   "metadata": {},
   "outputs": [
    {
     "name": "stdout",
     "output_type": "stream",
     "text": [
      "[5]\n"
     ]
    }
   ],
   "source": [
    "    N = int(input())\n",
    "    l=[]\n",
    "    for _ in range(N):\n",
    "        st=input().split()\n",
    "        if 'insert' == st[0]:\n",
    "            l.insert(int(st[1]),int(st[2]))\n",
    "        elif 'print' == st[0]: \n",
    "            print(l)\n",
    "        elif 'reverse' == st[0]: \n",
    "            l.sort(reverse = True)\n",
    "        elif 'sort' == st[0]: \n",
    "             l.sort()\n",
    "        elif 'pop' == st[0]:\n",
    "            l.pop()\n",
    "            "
   ]
  },
  {
   "cell_type": "code",
   "execution_count": null,
   "id": "d48322c3",
   "metadata": {},
   "outputs": [],
   "source": []
  }
 ],
 "metadata": {
  "kernelspec": {
   "display_name": "Python 3",
   "language": "python",
   "name": "python3"
  },
  "language_info": {
   "codemirror_mode": {
    "name": "ipython",
    "version": 3
   },
   "file_extension": ".py",
   "mimetype": "text/x-python",
   "name": "python",
   "nbconvert_exporter": "python",
   "pygments_lexer": "ipython3",
   "version": "3.11.4"
  }
 },
 "nbformat": 4,
 "nbformat_minor": 5
}
