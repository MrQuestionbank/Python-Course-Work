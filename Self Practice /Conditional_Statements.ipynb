{
 "cells": [
  {
   "cell_type": "markdown",
   "id": "cb24a315",
   "metadata": {},
   "source": [
    "#### 1. +ve or -ve "
   ]
  },
  {
   "cell_type": "code",
   "execution_count": 2,
   "id": "f11dfb32",
   "metadata": {},
   "outputs": [
    {
     "name": "stdout",
     "output_type": "stream",
     "text": [
      "Positive\n"
     ]
    }
   ],
   "source": [
    "num = float(input(\"Enter a number\"))\n",
    "if num > 0: \n",
    "    print(\"Positive\")\n",
    "elif num == 0:\n",
    "    print(\"Neutral\")\n",
    "else:\n",
    "    print(\"Negative\")"
   ]
  },
  {
   "cell_type": "markdown",
   "id": "90fd3a26",
   "metadata": {},
   "source": [
    "#### 2. Even or Odd "
   ]
  },
  {
   "cell_type": "code",
   "execution_count": 3,
   "id": "9bd323ba",
   "metadata": {},
   "outputs": [
    {
     "name": "stdout",
     "output_type": "stream",
     "text": [
      "Even\n"
     ]
    }
   ],
   "source": [
    "num = int(input(\"Enter a number\"))\n",
    "if num%2 == 0: \n",
    "    print(\"Even\")\n",
    "else: \n",
    "    print(\"Odd\")"
   ]
  },
  {
   "cell_type": "markdown",
   "id": "e3aa84c9",
   "metadata": {},
   "source": [
    "### 3. Divisible by 5 "
   ]
  },
  {
   "cell_type": "code",
   "execution_count": 4,
   "id": "e4756601",
   "metadata": {},
   "outputs": [
    {
     "name": "stdout",
     "output_type": "stream",
     "text": [
      "Divisible\n"
     ]
    }
   ],
   "source": [
    "num = int(input(\"Enter a number\"))\n",
    "if num%5 == 0: \n",
    "    print(\"Divisible\")\n",
    "else:\n",
    "    print(\"Not Divisible\")"
   ]
  },
  {
   "cell_type": "markdown",
   "id": "a84d43c0",
   "metadata": {},
   "source": [
    "#### 4. Divisible by 3 and 7 "
   ]
  },
  {
   "cell_type": "code",
   "execution_count": 5,
   "id": "9d759cd9",
   "metadata": {},
   "outputs": [
    {
     "name": "stdout",
     "output_type": "stream",
     "text": [
      "Not Divisible\n"
     ]
    }
   ],
   "source": [
    "num = int(input(\"Enter a number\"))\n",
    "if num%3 == 0 and num%7 == 0: \n",
    "     print(\"Divisible\")\n",
    "else:\n",
    "    print(\"Not Divisible\")"
   ]
  },
  {
   "cell_type": "markdown",
   "id": "0eda788f",
   "metadata": {},
   "source": [
    "#### 5. Check for leap year  "
   ]
  },
  {
   "cell_type": "code",
   "execution_count": 14,
   "id": "58d1f0ed",
   "metadata": {},
   "outputs": [
    {
     "name": "stdout",
     "output_type": "stream",
     "text": [
      "Not a leap Year\n"
     ]
    }
   ],
   "source": [
    "y = int(input(\"Enter a year\"))\n",
    "if (y%4 == 0 and y%100 != 0) or (y%400 == 0): \n",
    "    print(\"Leap Year\") \n",
    "else: \n",
    "    print(\"Not a leap Year\")"
   ]
  },
  {
   "cell_type": "markdown",
   "id": "0b3eeb00",
   "metadata": {},
   "source": [
    "#### 6. Check Pass or Fail (Passing marks = 35)"
   ]
  },
  {
   "cell_type": "code",
   "execution_count": 15,
   "id": "ff0a19a9",
   "metadata": {},
   "outputs": [
    {
     "name": "stdout",
     "output_type": "stream",
     "text": [
      "Fail\n"
     ]
    }
   ],
   "source": [
    "marks = int(input(\"Enter the marks Scored : \"))\n",
    "if marks >= 35:\n",
    "    print(\"Pass\")\n",
    "else:\n",
    "    print(\"Fail\")"
   ]
  },
  {
   "cell_type": "markdown",
   "id": "55c15952",
   "metadata": {},
   "source": [
    "#### 7. Check if a number is 3 digit."
   ]
  },
  {
   "cell_type": "code",
   "execution_count": 25,
   "id": "43f7469a",
   "metadata": {},
   "outputs": [
    {
     "name": "stdout",
     "output_type": "stream",
     "text": [
      "Not 3 digit number\n"
     ]
    }
   ],
   "source": [
    "number = int(input(\"Enter a number to check if it is 3 digit\"))\n",
    "if number >= 100 and number <= 999:\n",
    "    print(\"3 digit number\") \n",
    "else: \n",
    "    print(\"Not 3 digit number\")"
   ]
  },
  {
   "cell_type": "code",
   "execution_count": 28,
   "id": "d01036fc",
   "metadata": {},
   "outputs": [
    {
     "name": "stdout",
     "output_type": "stream",
     "text": [
      "Not 3 digit number\n",
      "Not 3 digit number\n"
     ]
    }
   ],
   "source": [
    "#Alternative\n",
    "number = int(input(\"Enter a number to check if it is 3 digit\"))\n",
    "num_split = list(str(number))\n",
    "for i in enumerate(num_split):\n",
    "    if i == 2: \n",
    "        print(\"3 Digit number\")\n",
    "    else:\n",
    "        print(\"Not 3 digit number\")"
   ]
  },
  {
   "cell_type": "code",
   "execution_count": 30,
   "id": "5cb08643",
   "metadata": {},
   "outputs": [
    {
     "name": "stdout",
     "output_type": "stream",
     "text": [
      "Not 3 digit number\n"
     ]
    }
   ],
   "source": [
    "#Alternative\n",
    "number = int(input(\"Enter a number to check if it is 3 digit\"))\n",
    "num_split = list(str(number))\n",
    "\n",
    "if num_split[1] == 0 and len(num_split== 3): \n",
    "    print(\"3 Digit number\")\n",
    "else:\n",
    "    print(\"Not 3 digit number\")\n"
   ]
  },
  {
   "cell_type": "markdown",
   "id": "08c25e04",
   "metadata": {},
   "source": [
    "#### 8. Check if an alphabet is a vowel."
   ]
  },
  {
   "cell_type": "code",
   "execution_count": 31,
   "id": "3a27fc75",
   "metadata": {},
   "outputs": [],
   "source": [
    "vowel = [\"a\", \"A\", \"e\", \"E\", \"i\", \"I\", \"o\", \"O\", \"u\", \"U\"]"
   ]
  },
  {
   "cell_type": "code",
   "execution_count": 34,
   "id": "bc7c6a47",
   "metadata": {},
   "outputs": [
    {
     "name": "stdout",
     "output_type": "stream",
     "text": [
      "The alphabet entered is a vowel.\n"
     ]
    }
   ],
   "source": [
    "alpha = str(input(\"Enter an alphabet : \"))\n",
    "if len(alpha) == 1:\n",
    "    if alpha in vowel: \n",
    "        print(\"The alphabet entered is a vowel.\")\n",
    "    else:\n",
    "        print(\"The alphabet entered is not a vowel.\")\n",
    "else:\n",
    "    print(\"Enter only ONE alphabet!!!\")"
   ]
  },
  {
   "cell_type": "markdown",
   "id": "7a2712c8",
   "metadata": {},
   "source": [
    "#### 9. Check greatest of two numbers"
   ]
  },
  {
   "cell_type": "code",
   "execution_count": 40,
   "id": "2ef678b7",
   "metadata": {},
   "outputs": [
    {
     "name": "stdout",
     "output_type": "stream",
     "text": [
      "The number 34.0 is greater\n"
     ]
    }
   ],
   "source": [
    "a = float(input(\"Enter first number : \"))\n",
    "b = float(input(\"Enter second number : \"))\n",
    "if a > b:\n",
    "    print (f\"The number {a} is greater\")\n",
    "elif b > a: \n",
    "    print (f\"The number {b} is greater\") \n",
    "else:\n",
    "    print (f\"Both the numbers {a}, {b} are equal\")"
   ]
  },
  {
   "cell_type": "markdown",
   "id": "38e551f4",
   "metadata": {},
   "source": [
    "#### 10. Check smallest of two numbers"
   ]
  },
  {
   "cell_type": "code",
   "execution_count": 41,
   "id": "adef690e",
   "metadata": {},
   "outputs": [
    {
     "name": "stdout",
     "output_type": "stream",
     "text": [
      "The number 2.0 is smaller\n"
     ]
    }
   ],
   "source": [
    "a = float(input(\"Enter first number : \"))\n",
    "b = float(input(\"Enter second number : \"))\n",
    "if a < b:\n",
    "    print (f\"The number {a} is smaller\")\n",
    "elif b < a: \n",
    "    print (f\"The number {b} is smaller\") \n",
    "else:\n",
    "    print (f\"Both the numbers {a}, {b} are equal\")"
   ]
  },
  {
   "cell_type": "markdown",
   "id": "d69e9dd1",
   "metadata": {},
   "source": [
    "### 11. Check if number is zero"
   ]
  },
  {
   "cell_type": "code",
   "execution_count": 4,
   "id": "588d3407",
   "metadata": {},
   "outputs": [
    {
     "name": "stdout",
     "output_type": "stream",
     "text": [
      "Not Zero\n"
     ]
    }
   ],
   "source": [
    "num = int(input (\"Enter a number : \"))\n",
    "if num == 0: \n",
    "    print (\"Zero\")\n",
    "else: \n",
    "    print (\"Not Zero\")"
   ]
  },
  {
   "cell_type": "markdown",
   "id": "9755d2f6",
   "metadata": {},
   "source": [
    "### 12. Check if number is multiple of 10"
   ]
  },
  {
   "cell_type": "code",
   "execution_count": 3,
   "id": "b494d26e",
   "metadata": {},
   "outputs": [
    {
     "name": "stdout",
     "output_type": "stream",
     "text": [
      "Not a multiple of 10\n"
     ]
    }
   ],
   "source": [
    "num = int(input(\"Enter a number to check if it's multiple of 10 : \"))\n",
    "if num%10 == 0:\n",
    "    print(\"Multiple of 10\")\n",
    "else: \n",
    "    print(\"Not a multiple of 10\")"
   ]
  },
  {
   "cell_type": "markdown",
   "id": "2114577c",
   "metadata": {},
   "source": [
    "### 13. Check if age is eligible to vote (18+)"
   ]
  },
  {
   "cell_type": "code",
   "execution_count": 5,
   "id": "c48bbd03",
   "metadata": {},
   "outputs": [
    {
     "name": "stdout",
     "output_type": "stream",
     "text": [
      "NOT eligible to vote\n"
     ]
    }
   ],
   "source": [
    "age = int(input(\"Enter your age : \"))\n",
    "if age >= 18: \n",
    "    print(\"Eligible to Vote\")\n",
    "else: \n",
    "    print(\"NOT eligible to vote\")"
   ]
  },
  {
   "cell_type": "markdown",
   "id": "3cbc514c",
   "metadata": {},
   "source": [
    "### 14. Check if number is between 1 and 100"
   ]
  },
  {
   "cell_type": "code",
   "execution_count": 11,
   "id": "dae8c934",
   "metadata": {},
   "outputs": [
    {
     "name": "stdout",
     "output_type": "stream",
     "text": [
      "Not Between 1 and 100\n",
      "Number is less/equal than 1. \n"
     ]
    }
   ],
   "source": [
    "num = float(input(\"Enter a number : \"))\n",
    "if 1 < num <100: \n",
    "    print(\"Yes\")\n",
    "elif num <= 1:\n",
    "    print('''Not Between 1 and 100\n",
    "Number is less/equal than 1. ''')\n",
    "else:\n",
    "    print('''Not Between 1 and 100\n",
    "Number is greater/equal than 100. ''')\n"
   ]
  },
  {
   "cell_type": "markdown",
   "id": "65b09451",
   "metadata": {},
   "source": [
    "### 15. Check if number is square of another"
   ]
  },
  {
   "cell_type": "code",
   "execution_count": 30,
   "id": "846e0fc9",
   "metadata": {},
   "outputs": [],
   "source": [
    "def checksq():\n",
    "    a = int(input(\" Enter the square number to be checked :\"))\n",
    "    b = int(input(\"Enter the root number to be checked with : \"))\n",
    "    if a/b == b: \n",
    "        print(f\"{a} is a square of {b}\")\n",
    "    else: \n",
    "        print (f\"{a} is not square of {b}\")"
   ]
  },
  {
   "cell_type": "code",
   "execution_count": 31,
   "id": "90e5c967",
   "metadata": {},
   "outputs": [
    {
     "name": "stdout",
     "output_type": "stream",
     "text": [
      "2 is not square of 4\n"
     ]
    }
   ],
   "source": [
    "checksq()"
   ]
  },
  {
   "cell_type": "markdown",
   "id": "9b15963a",
   "metadata": {},
   "source": [
    "### 16. Check if two strings are equal"
   ]
  },
  {
   "cell_type": "code",
   "execution_count": 34,
   "id": "641ff91d",
   "metadata": {},
   "outputs": [
    {
     "name": "stdout",
     "output_type": "stream",
     "text": [
      "Strings are equal.\n"
     ]
    }
   ],
   "source": [
    "a = str(input(\"Enter a string : \"))\n",
    "b = str(input(\"Enter the second string : \"))\n",
    "if a == b : \n",
    "    print(\"Strings are equal.\")\n",
    "else: \n",
    "    print(\"Strings are not equal.\")"
   ]
  },
  {
   "cell_type": "markdown",
   "id": "661d21ef",
   "metadata": {},
   "source": [
    "### 17. Check if a number is prime (basic logic)"
   ]
  },
  {
   "cell_type": "code",
   "execution_count": 25,
   "id": "5f9ea124",
   "metadata": {},
   "outputs": [],
   "source": [
    "import math"
   ]
  },
  {
   "cell_type": "code",
   "execution_count": 29,
   "id": "e089bc5e",
   "metadata": {},
   "outputs": [
    {
     "name": "stdout",
     "output_type": "stream",
     "text": [
      "composite number\n"
     ]
    }
   ],
   "source": [
    "num = int(input(\"enter the number to check for prime number: \"))\n",
    "if num < 2: \n",
    "    print(\"Neither prime nor Composite.\")\n",
    "else:\n",
    "    for i in range(2, num):\n",
    "        if num%i == 0: \n",
    "            print(\"composite number\")\n",
    "            break\n",
    "    else: \n",
    "        print(\"prime number\")\n"
   ]
  },
  {
   "cell_type": "markdown",
   "id": "295ac45f",
   "metadata": {},
   "source": [
    "*Logic -* \n",
    "- Any number is always divisible by one and itself.\n",
    "- A prime number is only divisible by one and itself and no other numbers, and that is logic for this code. \n",
    "- excluding '1' the looping starts from 2, till num-1. So if any of those numbers divide it then it is composite else prime.\n",
    "\n",
    "*Note -* \n",
    "- In the else block containing the for loop, the else condition must be out of the loop.\n",
    "- The remainder should be checked for every 'i'. And only when none of the them divide perfectly the else statemet should be executed. \n",
    "-  Otherwise divisibility is checked only for '2' and then else statement is executed without checking 3,4,etc. "
   ]
  },
  {
   "cell_type": "markdown",
   "id": "5db40073",
   "metadata": {},
   "source": [
    "#### Skipping even numbers :\n",
    "More Optimised as it reduces numbers to be checked by 50%. "
   ]
  },
  {
   "cell_type": "code",
   "execution_count": 35,
   "id": "927073ed",
   "metadata": {},
   "outputs": [
    {
     "name": "stdout",
     "output_type": "stream",
     "text": [
      "Composite Number\n"
     ]
    }
   ],
   "source": [
    "num = int(input(\"Enter a number to check if it is prime / composite : \"))\n",
    "if num < 2: \n",
    "    print(\"Neither prime nor Composite.\")\n",
    "if num == 2: \n",
    "    print(\"Prime Number\")\n",
    "if num > 2: \n",
    "    for i in (3, math.isqrt(num), 2): #Checks from 3 onwards and skips the even numbers. \n",
    "        if num%1 == 0:\n",
    "            print(\"Composite Number\")\n",
    "            break\n",
    "    else: \n",
    "            print(\"Prime Number\")\n",
    "\n",
    "    \n",
    "          "
   ]
  },
  {
   "cell_type": "markdown",
   "id": "a3184fe5",
   "metadata": {},
   "source": [
    "### 6k+1 method :\n",
    "*Logic -* All prime numbers can be expressed in the form '6k+1' except 2, 3 or 5.\n",
    "- Most efficient"
   ]
  },
  {
   "cell_type": "code",
   "execution_count": 36,
   "id": "bb2f95bb",
   "metadata": {},
   "outputs": [],
   "source": [
    "# num = int(input(\"Enter a number to check if it is prime / composite : \"))\n",
    "# if num < 2: \n",
    "#     print (\"Neither Prime nor composite\")\n",
    "# elif num <= 3: \n",
    "#     print(\"Prime Number\")\n",
    "# else: \n",
    "#     while i in range(5, math.isqrt(num),)"
   ]
  },
  {
   "cell_type": "markdown",
   "id": "39ad76b7",
   "metadata": {},
   "source": [
    "### 18. Check if number is positive and even"
   ]
  },
  {
   "cell_type": "code",
   "execution_count": 40,
   "id": "eaf06627",
   "metadata": {},
   "outputs": [
    {
     "name": "stdout",
     "output_type": "stream",
     "text": [
      "Positive and even number\n"
     ]
    }
   ],
   "source": [
    "num = float(input(\"enter a number\"))\n",
    "if num > 0: \n",
    "    if num%2 == 0: \n",
    "        print(\"Positive and even number\")\n",
    "    else: \n",
    "        print(\"NOT Positive and even number\")\n",
    "else:\n",
    "    print(\"NOT Positive and even number\")"
   ]
  },
  {
   "cell_type": "markdown",
   "id": "300e68c4",
   "metadata": {},
   "source": [
    "### 19. Check if character is uppercase"
   ]
  },
  {
   "cell_type": "code",
   "execution_count": 41,
   "id": "4463a240",
   "metadata": {},
   "outputs": [
    {
     "name": "stdout",
     "output_type": "stream",
     "text": [
      "Not Uppercase\n"
     ]
    }
   ],
   "source": [
    "char = str(input(\"Enter character to check for uppercase : \"))\n",
    "if char == char.upper():\n",
    "    print(\"Uppercase\") \n",
    "else: \n",
    "    print(\"Not Uppercase\")\n"
   ]
  },
  {
   "cell_type": "markdown",
   "id": "e0b3a486",
   "metadata": {},
   "source": [
    "### 20. Check if temperature is hot (>30°C)"
   ]
  },
  {
   "cell_type": "code",
   "execution_count": 44,
   "id": "861499bc",
   "metadata": {},
   "outputs": [
    {
     "name": "stdout",
     "output_type": "stream",
     "text": [
      "Not Hot :| \n"
     ]
    }
   ],
   "source": [
    "temp = float(input(\"Enter the temperature (in C) : \"))\n",
    "if temp > 35: \n",
    "    print(\"It's Hot!!\")\n",
    "else: \n",
    "    print(\"Not Hot :| \")"
   ]
  },
  {
   "cell_type": "code",
   "execution_count": null,
   "id": "7d125e72",
   "metadata": {},
   "outputs": [],
   "source": []
  }
 ],
 "metadata": {
  "kernelspec": {
   "display_name": "Python 3",
   "language": "python",
   "name": "python3"
  },
  "language_info": {
   "codemirror_mode": {
    "name": "ipython",
    "version": 3
   },
   "file_extension": ".py",
   "mimetype": "text/x-python",
   "name": "python",
   "nbconvert_exporter": "python",
   "pygments_lexer": "ipython3",
   "version": "3.11.4"
  }
 },
 "nbformat": 4,
 "nbformat_minor": 5
}
