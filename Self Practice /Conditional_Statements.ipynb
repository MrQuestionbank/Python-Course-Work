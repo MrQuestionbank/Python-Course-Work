{
 "cells": [
  {
   "cell_type": "markdown",
   "id": "cb24a315",
   "metadata": {},
   "source": [
    "#### 1. +ve or -ve "
   ]
  },
  {
   "cell_type": "code",
   "execution_count": 2,
   "id": "f11dfb32",
   "metadata": {},
   "outputs": [
    {
     "name": "stdout",
     "output_type": "stream",
     "text": [
      "Positive\n"
     ]
    }
   ],
   "source": [
    "num = float(input(\"Enter a number\"))\n",
    "if num > 0: \n",
    "    print(\"Positive\")\n",
    "elif num == 0:\n",
    "    print(\"Neutral\")\n",
    "else:\n",
    "    print(\"Negative\")"
   ]
  },
  {
   "cell_type": "markdown",
   "id": "90fd3a26",
   "metadata": {},
   "source": [
    "#### 2. Even or Odd "
   ]
  },
  {
   "cell_type": "code",
   "execution_count": 3,
   "id": "9bd323ba",
   "metadata": {},
   "outputs": [
    {
     "name": "stdout",
     "output_type": "stream",
     "text": [
      "Even\n"
     ]
    }
   ],
   "source": [
    "num = int(input(\"Enter a number\"))\n",
    "if num%2 == 0: \n",
    "    print(\"Even\")\n",
    "else: \n",
    "    print(\"Odd\")"
   ]
  },
  {
   "cell_type": "markdown",
   "id": "e3aa84c9",
   "metadata": {},
   "source": [
    "### 3. Divisible by 5 "
   ]
  },
  {
   "cell_type": "code",
   "execution_count": 4,
   "id": "e4756601",
   "metadata": {},
   "outputs": [
    {
     "name": "stdout",
     "output_type": "stream",
     "text": [
      "Divisible\n"
     ]
    }
   ],
   "source": [
    "num = int(input(\"Enter a number\"))\n",
    "if num%5 == 0: \n",
    "    print(\"Divisible\")\n",
    "else:\n",
    "    print(\"Not Divisible\")"
   ]
  },
  {
   "cell_type": "markdown",
   "id": "a84d43c0",
   "metadata": {},
   "source": [
    "#### 4. Divisible by 3 and 7 "
   ]
  },
  {
   "cell_type": "code",
   "execution_count": 5,
   "id": "9d759cd9",
   "metadata": {},
   "outputs": [
    {
     "name": "stdout",
     "output_type": "stream",
     "text": [
      "Not Divisible\n"
     ]
    }
   ],
   "source": [
    "num = int(input(\"Enter a number\"))\n",
    "if num%3 == 0 and num%7 == 0: \n",
    "     print(\"Divisible\")\n",
    "else:\n",
    "    print(\"Not Divisible\")"
   ]
  },
  {
   "cell_type": "markdown",
   "id": "0eda788f",
   "metadata": {},
   "source": [
    "#### 5. Check for leap year  "
   ]
  },
  {
   "cell_type": "code",
   "execution_count": 14,
   "id": "58d1f0ed",
   "metadata": {},
   "outputs": [
    {
     "name": "stdout",
     "output_type": "stream",
     "text": [
      "Not a leap Year\n"
     ]
    }
   ],
   "source": [
    "y = int(input(\"Enter a year\"))\n",
    "if (y%4 == 0 and y%100 != 0) or (y%400 == 0): \n",
    "    print(\"Leap Year\") \n",
    "else: \n",
    "    print(\"Not a leap Year\")"
   ]
  },
  {
   "cell_type": "markdown",
   "id": "0b3eeb00",
   "metadata": {},
   "source": [
    "#### 6. Check Pass or Fail (Passing marks = 35)"
   ]
  },
  {
   "cell_type": "code",
   "execution_count": 15,
   "id": "ff0a19a9",
   "metadata": {},
   "outputs": [
    {
     "name": "stdout",
     "output_type": "stream",
     "text": [
      "Fail\n"
     ]
    }
   ],
   "source": [
    "marks = int(input(\"Enter the marks Scored : \"))\n",
    "if marks >= 35:\n",
    "    print(\"Pass\")\n",
    "else:\n",
    "    print(\"Fail\")"
   ]
  },
  {
   "cell_type": "markdown",
   "id": "55c15952",
   "metadata": {},
   "source": [
    "#### 7. Check if a number is 3 digit."
   ]
  },
  {
   "cell_type": "code",
   "execution_count": 25,
   "id": "43f7469a",
   "metadata": {},
   "outputs": [
    {
     "name": "stdout",
     "output_type": "stream",
     "text": [
      "Not 3 digit number\n"
     ]
    }
   ],
   "source": [
    "number = int(input(\"Enter a number to check if it is 3 digit\"))\n",
    "if number >= 100 and number <= 999:\n",
    "    print(\"3 digit number\") \n",
    "else: \n",
    "    print(\"Not 3 digit number\")"
   ]
  },
  {
   "cell_type": "code",
   "execution_count": 28,
   "id": "d01036fc",
   "metadata": {},
   "outputs": [
    {
     "name": "stdout",
     "output_type": "stream",
     "text": [
      "Not 3 digit number\n",
      "Not 3 digit number\n"
     ]
    }
   ],
   "source": [
    "#Alternative\n",
    "number = int(input(\"Enter a number to check if it is 3 digit\"))\n",
    "num_split = list(str(number))\n",
    "for i in enumerate(num_split):\n",
    "    if i == 2: \n",
    "        print(\"3 Digit number\")\n",
    "    else:\n",
    "        print(\"Not 3 digit number\")"
   ]
  },
  {
   "cell_type": "code",
   "execution_count": 30,
   "id": "5cb08643",
   "metadata": {},
   "outputs": [
    {
     "name": "stdout",
     "output_type": "stream",
     "text": [
      "Not 3 digit number\n"
     ]
    }
   ],
   "source": [
    "#Alternative\n",
    "number = int(input(\"Enter a number to check if it is 3 digit\"))\n",
    "num_split = list(str(number))\n",
    "\n",
    "if num_split[1] == 0 and len(num_split== 3): \n",
    "    print(\"3 Digit number\")\n",
    "else:\n",
    "    print(\"Not 3 digit number\")\n"
   ]
  },
  {
   "cell_type": "markdown",
   "id": "08c25e04",
   "metadata": {},
   "source": [
    "#### 8. Check if an alphabet is a vowel."
   ]
  },
  {
   "cell_type": "code",
   "execution_count": 31,
   "id": "3a27fc75",
   "metadata": {},
   "outputs": [],
   "source": [
    "vowel = [\"a\", \"A\", \"e\", \"E\", \"i\", \"I\", \"o\", \"O\", \"u\", \"U\"]"
   ]
  },
  {
   "cell_type": "code",
   "execution_count": 34,
   "id": "bc7c6a47",
   "metadata": {},
   "outputs": [
    {
     "name": "stdout",
     "output_type": "stream",
     "text": [
      "The alphabet entered is a vowel.\n"
     ]
    }
   ],
   "source": [
    "alpha = str(input(\"Enter an alphabet : \"))\n",
    "if len(alpha) == 1:\n",
    "    if alpha in vowel: \n",
    "        print(\"The alphabet entered is a vowel.\")\n",
    "    else:\n",
    "        print(\"The alphabet entered is not a vowel.\")\n",
    "else:\n",
    "    print(\"Enter only ONE alphabet!!!\")"
   ]
  },
  {
   "cell_type": "markdown",
   "id": "7a2712c8",
   "metadata": {},
   "source": [
    "#### 9. Check greatest of two numbers"
   ]
  },
  {
   "cell_type": "code",
   "execution_count": 40,
   "id": "2ef678b7",
   "metadata": {},
   "outputs": [
    {
     "name": "stdout",
     "output_type": "stream",
     "text": [
      "The number 34.0 is greater\n"
     ]
    }
   ],
   "source": [
    "a = float(input(\"Enter first number : \"))\n",
    "b = float(input(\"Enter second number : \"))\n",
    "if a > b:\n",
    "    print (f\"The number {a} is greater\")\n",
    "elif b > a: \n",
    "    print (f\"The number {b} is greater\") \n",
    "else:\n",
    "    print (f\"Both the numbers {a}, {b} are equal\")"
   ]
  },
  {
   "cell_type": "markdown",
   "id": "38e551f4",
   "metadata": {},
   "source": [
    "#### 10. Check smallest of two numbers"
   ]
  },
  {
   "cell_type": "code",
   "execution_count": 41,
   "id": "adef690e",
   "metadata": {},
   "outputs": [
    {
     "name": "stdout",
     "output_type": "stream",
     "text": [
      "The number 2.0 is smaller\n"
     ]
    }
   ],
   "source": [
    "a = float(input(\"Enter first number : \"))\n",
    "b = float(input(\"Enter second number : \"))\n",
    "if a < b:\n",
    "    print (f\"The number {a} is smaller\")\n",
    "elif b < a: \n",
    "    print (f\"The number {b} is smaller\") \n",
    "else:\n",
    "    print (f\"Both the numbers {a}, {b} are equal\")"
   ]
  },
  {
   "cell_type": "code",
   "execution_count": null,
   "id": "d69e9dd1",
   "metadata": {},
   "outputs": [],
   "source": []
  }
 ],
 "metadata": {
  "kernelspec": {
   "display_name": "Python 3",
   "language": "python",
   "name": "python3"
  },
  "language_info": {
   "codemirror_mode": {
    "name": "ipython",
    "version": 3
   },
   "file_extension": ".py",
   "mimetype": "text/x-python",
   "name": "python",
   "nbconvert_exporter": "python",
   "pygments_lexer": "ipython3",
   "version": "3.11.4"
  }
 },
 "nbformat": 4,
 "nbformat_minor": 5
}
