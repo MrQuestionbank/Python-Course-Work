{
 "cells": [
  {
   "cell_type": "markdown",
   "id": "d8f972e1",
   "metadata": {},
   "source": [
    "### Read Mode(\"r\"):\n",
    "for reading a file."
   ]
  },
  {
   "cell_type": "code",
   "execution_count": 1,
   "id": "089254c4",
   "metadata": {},
   "outputs": [
    {
     "name": "stdout",
     "output_type": "stream",
     "text": [
      "File is not present\n",
      "Rest of the code.\n"
     ]
    }
   ],
   "source": [
    "try : \n",
    "    file = open(\"demo.txt\",\"r\")\n",
    "except FileNotFoundError:\n",
    "    print(\"File is not present\")\n",
    "else: \n",
    "    read = file.read()\n",
    "    file.seek(0)\n",
    "    readlines = file.readlines()\n",
    "    file.seek(0)\n",
    "    readline = file.readline()\n",
    "    print(f\"\\n File Content using read() :\\n {read}\")\n",
    "    print(f\"\\n File content using readline (): \\n{readlines}\")\n",
    "    print(f\"\\n File Content using readline(): \\n{readline}\")\n",
    "    file.close()\n",
    "finally: \n",
    "    print(\"Rest of the code.\")\n"
   ]
  },
  {
   "cell_type": "markdown",
   "id": "0c152f75",
   "metadata": {},
   "source": [
    "### Write mode(\"w\"): \n",
    "if file doesnt exist -> creates new file with the respective content.\n",
    "if the file already exists -> overwrites the existing content of the file with the content that is new."
   ]
  },
  {
   "cell_type": "code",
   "execution_count": null,
   "id": "47708b7b",
   "metadata": {},
   "outputs": [
    {
     "name": "stdout",
     "output_type": "stream",
     "text": [
      "Rest of the code.\n"
     ]
    }
   ],
   "source": [
    "try : \n",
    "    file = open(\"dsda.txt\",\"w\")\n",
    "except FileNotFoundError:\n",
    "    print(\"File is not present\")\n",
    "else: \n",
    "    file.write('Monday we have exam') # if this is changed then the file content is overwritten.\n",
    "    file.close()\n",
    "finally: \n",
    "    print(\"Rest of the code.\")"
   ]
  },
  {
   "cell_type": "markdown",
   "id": "b513e2d5",
   "metadata": {},
   "source": [
    "### Append mode (\"a\"):\n",
    "unlike write mode this does not overwrite, instead appends the changes to the file."
   ]
  },
  {
   "cell_type": "code",
   "execution_count": null,
   "id": "29f005d3",
   "metadata": {},
   "outputs": [
    {
     "name": "stdout",
     "output_type": "stream",
     "text": [
      "Rest of the code.\n"
     ]
    }
   ],
   "source": [
    "try : \n",
    "    file = open(\"dsda.txt\",\"a\")\n",
    "except FileNotFoundError:\n",
    "    print(\"File is not present\")\n",
    "else: \n",
    "    file.write('Monday we have exam') # this appends the sentence to the file. \n",
    "    file.close()\n",
    "finally: \n",
    "    print(\"Rest of the code.\")"
   ]
  },
  {
   "cell_type": "markdown",
   "id": "02a87a60",
   "metadata": {},
   "source": [
    "### Append plus mode (\"a+\") : \n",
    "this appends a sentence and reads the file simultaneously"
   ]
  },
  {
   "cell_type": "code",
   "execution_count": 9,
   "id": "b4e1c4e8",
   "metadata": {},
   "outputs": [
    {
     "name": "stdout",
     "output_type": "stream",
     "text": [
      "Monday we have examMonday we have examMonday we have examMonday we have examMonday we have exam\n",
      "Rest of the code.\n"
     ]
    }
   ],
   "source": [
    "try : \n",
    "    file = open(\"dsda.txt\",\"a+\")\n",
    "except FileNotFoundError:\n",
    "    print(\"File is not present\")\n",
    "else: \n",
    "    file.write('Monday we have exam')\n",
    "    file.seek(0) # Brings the cursor to the beginning. \n",
    "    print(file.read())\n",
    "    file.close()\n",
    "finally: \n",
    "    print(\"Rest of the code.\")"
   ]
  },
  {
   "cell_type": "markdown",
   "id": "ff54eae3",
   "metadata": {},
   "source": [
    "\"r\" - read \n",
    "\n",
    "\"w\" - write \n",
    "\n",
    "\"a\" - append\n",
    "\n",
    "\"r+\" - read & write\n",
    "\n",
    "\"w+\" - write & read \n",
    "\n",
    "\"a+\" - append & read  "
   ]
  },
  {
   "cell_type": "markdown",
   "id": "b19f46e6",
   "metadata": {},
   "source": [
    "### using `with...as`: \n",
    "when using this method, the file is automatically closed.  "
   ]
  },
  {
   "cell_type": "code",
   "execution_count": 11,
   "id": "fe02b4fd",
   "metadata": {},
   "outputs": [
    {
     "name": "stdout",
     "output_type": "stream",
     "text": [
      "Monday we have examMonday we have examMonday we have examMonday we have examMonday we have exam\n",
      "0\n"
     ]
    }
   ],
   "source": [
    "with open(\"dsda.txt\", \"r+\") as file: \n",
    "    print(file.read())\n",
    "    file.write('\\nFile Operations')\n",
    "    file.seek(0)\n",
    "    print(file.seek(0))"
   ]
  },
  {
   "cell_type": "code",
   "execution_count": null,
   "id": "5d1a1f49",
   "metadata": {},
   "outputs": [],
   "source": []
  }
 ],
 "metadata": {
  "kernelspec": {
   "display_name": "Python 3",
   "language": "python",
   "name": "python3"
  },
  "language_info": {
   "codemirror_mode": {
    "name": "ipython",
    "version": 3
   },
   "file_extension": ".py",
   "mimetype": "text/x-python",
   "name": "python",
   "nbconvert_exporter": "python",
   "pygments_lexer": "ipython3",
   "version": "3.11.4"
  }
 },
 "nbformat": 4,
 "nbformat_minor": 5
}
