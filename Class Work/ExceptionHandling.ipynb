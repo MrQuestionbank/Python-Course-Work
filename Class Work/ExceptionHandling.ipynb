{
 "cells": [
  {
   "cell_type": "code",
   "execution_count": 2,
   "id": "cde77333",
   "metadata": {},
   "outputs": [
    {
     "name": "stdout",
     "output_type": "stream",
     "text": [
      "4\n",
      "6\n",
      "You can't add 2 different types\n"
     ]
    }
   ],
   "source": [
    "try: \n",
    "    a = 10 \n",
    "    a = a+10 \n",
    "    l = [2,3,4]\n",
    "    k = l[2]\n",
    "    d = {1:2, 2:4, 3:9}\n",
    "    print(d[2])\n",
    "    b = int(input(\"Enter number:\"))\n",
    "    print(b)\n",
    "    c = 1 + \"1\"\n",
    "except NameError:\n",
    "    print(\"a is no defined\")\n",
    "except IndexError: \n",
    "    print(\"You enterd a values that is out of range.\")\n",
    "except KeyError:\n",
    "    print(\"Key is not present\")\n",
    "except ValueError: \n",
    "    print(\"The value entered is not correct\")\n",
    "except TypeError:\n",
    "    print(\"You can't add 2 different types\")"
   ]
  },
  {
   "cell_type": "code",
   "execution_count": 7,
   "id": "490e87c8",
   "metadata": {},
   "outputs": [
    {
     "name": "stdout",
     "output_type": "stream",
     "text": [
      "4\n",
      "2\n",
      "Error has occurred : unsupported operand type(s) for +: 'int' and 'str'\n",
      "Code Executed\n"
     ]
    }
   ],
   "source": [
    "try: \n",
    "    a = 10 \n",
    "    a = a+10 \n",
    "    l = [2,3,4]\n",
    "    k = l[2]\n",
    "    d = {1:2, 2:4, 3:9}\n",
    "    print(d[2])\n",
    "    b = int(input(\"Enter number:\"))\n",
    "    print(b)\n",
    "    c = 1 + \"1\"\n",
    "except (NameError, IndexError,KeyError, ValueError, TypeError) as e:\n",
    "    print(f\"Error has occurred : {e}\")\n",
    "\n",
    "else: \n",
    "    print(\"No error\")\n",
    "\n",
    "finally : # This block is executed regardless of the presence of errors in code. \n",
    "    print(\"Code Executed\")"
   ]
  },
  {
   "cell_type": "code",
   "execution_count": null,
   "id": "96ac6765",
   "metadata": {},
   "outputs": [],
   "source": [
    "try: \n",
    "    amt = int(input(\"Enter the amount: \"))\n",
    "    if amt < 0 : \n",
    "        raise ValueError('Enter a positive value')\n",
    "except exception as e : \n",
    "    print(f\"Error occured : {e}\")\n",
    "else : \n",
    "    print(\"No errors\")\n",
    "    print(\"You can withdraw\")\n",
    "finally:\n",
    "    print(\"Remove your card\".center(\"*\"))"
   ]
  }
 ],
 "metadata": {
  "kernelspec": {
   "display_name": "Python 3",
   "language": "python",
   "name": "python3"
  },
  "language_info": {
   "codemirror_mode": {
    "name": "ipython",
    "version": 3
   },
   "file_extension": ".py",
   "mimetype": "text/x-python",
   "name": "python",
   "nbconvert_exporter": "python",
   "pygments_lexer": "ipython3",
   "version": "3.11.4"
  }
 },
 "nbformat": 4,
 "nbformat_minor": 5
}
