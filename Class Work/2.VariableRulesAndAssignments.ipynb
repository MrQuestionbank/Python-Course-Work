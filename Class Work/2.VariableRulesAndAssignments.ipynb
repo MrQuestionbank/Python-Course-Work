{
 "cells": [
  {
   "cell_type": "markdown",
   "id": "884cd3b4-c77b-4e68-b635-7a39e1f98f4e",
   "metadata": {},
   "source": [
    "### Valid declarations "
   ]
  },
  {
   "cell_type": "code",
   "execution_count": 3,
   "id": "77c7cae1-74fb-4fde-a81e-26a71e4ae497",
   "metadata": {},
   "outputs": [],
   "source": [
    "myvar=10"
   ]
  },
  {
   "cell_type": "code",
   "execution_count": 5,
   "id": "7100df30-a6fa-41ef-bb4c-e5538b3d8246",
   "metadata": {},
   "outputs": [],
   "source": [
    "myVar=10"
   ]
  },
  {
   "cell_type": "code",
   "execution_count": 7,
   "id": "cd7173bd-5af6-4c21-8aa5-aeccfc8ba2d9",
   "metadata": {},
   "outputs": [],
   "source": [
    "_myVar= 10"
   ]
  },
  {
   "cell_type": "markdown",
   "id": "11cf268d-3ff4-45d7-9fa9-698568fa1506",
   "metadata": {},
   "source": [
    "### Invalid Declarations "
   ]
  },
  {
   "cell_type": "code",
   "execution_count": 10,
   "id": "2d267508-70f6-42d9-81ca-b3a0e19f48b3",
   "metadata": {},
   "outputs": [
    {
     "ename": "SyntaxError",
     "evalue": "invalid decimal literal (3933218977.py, line 1)",
     "output_type": "error",
     "traceback": [
      "\u001b[0;36m  Cell \u001b[0;32mIn[10], line 1\u001b[0;36m\u001b[0m\n\u001b[0;31m    1myvar= 10\u001b[0m\n\u001b[0m    ^\u001b[0m\n\u001b[0;31mSyntaxError\u001b[0m\u001b[0;31m:\u001b[0m invalid decimal literal\n"
     ]
    }
   ],
   "source": [
    "1myvar= 10"
   ]
  },
  {
   "cell_type": "code",
   "execution_count": 12,
   "id": "d2b3583b-5785-40bf-81cc-94578ccb3511",
   "metadata": {},
   "outputs": [
    {
     "ename": "SyntaxError",
     "evalue": "invalid syntax. Maybe you meant '==' or ':=' instead of '='? (4011490552.py, line 1)",
     "output_type": "error",
     "traceback": [
      "\u001b[0;36m  Cell \u001b[0;32mIn[12], line 1\u001b[0;36m\u001b[0m\n\u001b[0;31m    @myvar =10\u001b[0m\n\u001b[0m     ^\u001b[0m\n\u001b[0;31mSyntaxError\u001b[0m\u001b[0;31m:\u001b[0m invalid syntax. Maybe you meant '==' or ':=' instead of '='?\n"
     ]
    }
   ],
   "source": [
    "@myvar =10 "
   ]
  },
  {
   "cell_type": "code",
   "execution_count": 14,
   "id": "fe99389c-2aa0-4502-89e6-e8a338159f99",
   "metadata": {},
   "outputs": [
    {
     "ename": "SyntaxError",
     "evalue": "invalid syntax (3132034493.py, line 1)",
     "output_type": "error",
     "traceback": [
      "\u001b[0;36m  Cell \u001b[0;32mIn[14], line 1\u001b[0;36m\u001b[0m\n\u001b[0;31m    my var = 10\u001b[0m\n\u001b[0m       ^\u001b[0m\n\u001b[0;31mSyntaxError\u001b[0m\u001b[0;31m:\u001b[0m invalid syntax\n"
     ]
    }
   ],
   "source": [
    "my var = 10 "
   ]
  },
  {
   "cell_type": "markdown",
   "id": "9e533cd9-752a-413f-8bda-6f5940b11309",
   "metadata": {},
   "source": [
    "### Case Sensitivity "
   ]
  },
  {
   "cell_type": "code",
   "execution_count": 29,
   "id": "fae9b6be-af1f-49d6-9e50-2cbc89f3852b",
   "metadata": {},
   "outputs": [
    {
     "name": "stdout",
     "output_type": "stream",
     "text": [
      "10\n",
      "20\n"
     ]
    }
   ],
   "source": [
    "myvar = 10 \n",
    "Myvar = 20\n",
    "print(myvar)\n",
    "print(Myvar)"
   ]
  },
  {
   "cell_type": "markdown",
   "id": "fde2fefe-f03e-4af6-bad9-604ee5fa103e",
   "metadata": {},
   "source": [
    "### Multiple Assignment"
   ]
  },
  {
   "cell_type": "code",
   "execution_count": 32,
   "id": "1baed2b7-d12f-4d46-a8c1-71b84ffd41d1",
   "metadata": {},
   "outputs": [],
   "source": [
    "a,b,c = 1,2,3"
   ]
  },
  {
   "cell_type": "code",
   "execution_count": 34,
   "id": "dc2bb171-e8ac-4f35-87c8-f1a3580838bc",
   "metadata": {},
   "outputs": [
    {
     "name": "stdout",
     "output_type": "stream",
     "text": [
      "1\n",
      "2\n",
      "3\n"
     ]
    }
   ],
   "source": [
    "print(a)\n",
    "print(b)\n",
    "print(c)"
   ]
  },
  {
   "cell_type": "markdown",
   "id": "74ddad35-705e-4bf7-a0ed-8461cdeee30d",
   "metadata": {},
   "source": [
    "### Same Value Assignment "
   ]
  },
  {
   "cell_type": "code",
   "execution_count": 37,
   "id": "84b4cfe2-d52f-4d29-bb30-0d88da529154",
   "metadata": {},
   "outputs": [
    {
     "name": "stdout",
     "output_type": "stream",
     "text": [
      "10 10 10\n"
     ]
    }
   ],
   "source": [
    "a=b=c=10\n",
    "print(a, b, c)"
   ]
  },
  {
   "cell_type": "markdown",
   "id": "49ede0f2-0423-483e-b04b-8e336b9e811a",
   "metadata": {},
   "source": [
    "### Swapping "
   ]
  },
  {
   "cell_type": "code",
   "execution_count": 53,
   "id": "de48bf88-cc59-42d6-953b-c6ba6e84f8c8",
   "metadata": {},
   "outputs": [],
   "source": [
    "a=1\n",
    "b=2"
   ]
  },
  {
   "cell_type": "code",
   "execution_count": 55,
   "id": "0800f00a-eb6f-4265-8d88-16f2eb48a07c",
   "metadata": {},
   "outputs": [
    {
     "name": "stdout",
     "output_type": "stream",
     "text": [
      "2\n",
      "1\n"
     ]
    }
   ],
   "source": [
    "a,b =b,a \n",
    "print(a)\n",
    "print(b)"
   ]
  },
  {
   "cell_type": "markdown",
   "id": "6543b4bd-3616-4ed3-872c-131b360e26e6",
   "metadata": {},
   "source": [
    "### Deletion of variable"
   ]
  },
  {
   "cell_type": "code",
   "execution_count": 58,
   "id": "aaa48de8-7759-4fd7-a00d-d1288f724637",
   "metadata": {},
   "outputs": [],
   "source": [
    "del a "
   ]
  },
  {
   "cell_type": "code",
   "execution_count": 60,
   "id": "cef0681c-61f9-4e88-b385-9f3e132fd182",
   "metadata": {},
   "outputs": [],
   "source": [
    "del(b)"
   ]
  },
  {
   "cell_type": "code",
   "execution_count": 62,
   "id": "ea060cde-3a60-4873-8dc4-711efe3cbb3b",
   "metadata": {},
   "outputs": [],
   "source": [
    "a = 1\n",
    "b = 2 "
   ]
  },
  {
   "cell_type": "code",
   "execution_count": 64,
   "id": "25b750f0-2864-42dc-9fde-ff85e270240f",
   "metadata": {},
   "outputs": [],
   "source": [
    "del(a,b) # Deletion of multiple variables "
   ]
  },
  {
   "cell_type": "code",
   "execution_count": 66,
   "id": "32940d25-7163-4bf5-89d3-756fa6be30f2",
   "metadata": {},
   "outputs": [
    {
     "ename": "NameError",
     "evalue": "name 'a' is not defined",
     "output_type": "error",
     "traceback": [
      "\u001b[0;31m---------------------------------------------------------------------------\u001b[0m",
      "\u001b[0;31mNameError\u001b[0m                                 Traceback (most recent call last)",
      "Cell \u001b[0;32mIn[66], line 1\u001b[0m\n\u001b[0;32m----> 1\u001b[0m a\n",
      "\u001b[0;31mNameError\u001b[0m: name 'a' is not defined"
     ]
    }
   ],
   "source": [
    "a"
   ]
  },
  {
   "cell_type": "code",
   "execution_count": 68,
   "id": "94c1684d-38fb-4c82-8520-07b1bb9fbe4f",
   "metadata": {},
   "outputs": [
    {
     "ename": "NameError",
     "evalue": "name 'b' is not defined",
     "output_type": "error",
     "traceback": [
      "\u001b[0;31m---------------------------------------------------------------------------\u001b[0m",
      "\u001b[0;31mNameError\u001b[0m                                 Traceback (most recent call last)",
      "Cell \u001b[0;32mIn[68], line 1\u001b[0m\n\u001b[0;32m----> 1\u001b[0m b\n",
      "\u001b[0;31mNameError\u001b[0m: name 'b' is not defined"
     ]
    }
   ],
   "source": [
    "b"
   ]
  }
 ],
 "metadata": {
  "kernelspec": {
   "display_name": "Python [conda env:base] *",
   "language": "python",
   "name": "conda-base-py"
  },
  "language_info": {
   "codemirror_mode": {
    "name": "ipython",
    "version": 3
   },
   "file_extension": ".py",
   "mimetype": "text/x-python",
   "name": "python",
   "nbconvert_exporter": "python",
   "pygments_lexer": "ipython3",
   "version": "3.12.4"
  }
 },
 "nbformat": 4,
 "nbformat_minor": 5
}
