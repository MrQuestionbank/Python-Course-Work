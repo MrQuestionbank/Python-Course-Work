{
 "cells": [
  {
   "cell_type": "markdown",
   "id": "9d69fc35",
   "metadata": {},
   "source": [
    "## Lists :\n",
    "- order\n",
    "- mutable \n",
    "- allow duplicates \n",
    "- heterogeneous\n",
    "- dynamically sized - adjust memory allocation bydefault"
   ]
  },
  {
   "cell_type": "code",
   "execution_count": 2,
   "id": "ccb86d9f",
   "metadata": {},
   "outputs": [
    {
     "data": {
      "text/plain": [
       "[1, 2, 3, 4, 5]"
      ]
     },
     "execution_count": 2,
     "metadata": {},
     "output_type": "execute_result"
    }
   ],
   "source": [
    "l = [1,2,3,4,5]\n",
    "l #Ordered "
   ]
  },
  {
   "cell_type": "code",
   "execution_count": 3,
   "id": "a7706e19",
   "metadata": {},
   "outputs": [
    {
     "data": {
      "text/plain": [
       "[1, 2, 3, 4, 5, 8]"
      ]
     },
     "execution_count": 3,
     "metadata": {},
     "output_type": "execute_result"
    }
   ],
   "source": [
    "l.append(8)\n",
    "l #mutable"
   ]
  },
  {
   "cell_type": "code",
   "execution_count": 4,
   "id": "f10ab5f6",
   "metadata": {},
   "outputs": [
    {
     "data": {
      "text/plain": [
       "[2, 3, 4, 5, 8]"
      ]
     },
     "execution_count": 4,
     "metadata": {},
     "output_type": "execute_result"
    }
   ],
   "source": [
    "l.remove(1)\n",
    "l"
   ]
  },
  {
   "cell_type": "code",
   "execution_count": 7,
   "id": "3586eb7e",
   "metadata": {},
   "outputs": [
    {
     "data": {
      "text/plain": [
       "[2, 3, 4, 5, 8, 8]"
      ]
     },
     "execution_count": 7,
     "metadata": {},
     "output_type": "execute_result"
    }
   ],
   "source": [
    "#duplicates \n",
    "l.append(8)\n",
    "l"
   ]
  },
  {
   "cell_type": "code",
   "execution_count": 8,
   "id": "baf352c6",
   "metadata": {},
   "outputs": [
    {
     "data": {
      "text/plain": [
       "[2,\n",
       " 3,\n",
       " 4,\n",
       " 5,\n",
       " 8,\n",
       " 8,\n",
       " 2.3,\n",
       " True,\n",
       " 'str',\n",
       " (1, 2),\n",
       " {1, 2},\n",
       " {'course': 'py'},\n",
       " (2+5j),\n",
       " [1, 2, 3]]"
      ]
     },
     "execution_count": 8,
     "metadata": {},
     "output_type": "execute_result"
    }
   ],
   "source": [
    "#heterogeneous \n",
    "l.append(2.3)\n",
    "l.append(True)\n",
    "l.append(\"str\")\n",
    "l.append((1,2))\n",
    "l.append({1,2})\n",
    "l.append({\"course\" : \"py\"})\n",
    "l.append(2+5j)\n",
    "l.append([1,2,3])\n",
    "l"
   ]
  },
  {
   "cell_type": "code",
   "execution_count": 9,
   "id": "b77de109",
   "metadata": {},
   "outputs": [],
   "source": [
    "# Declaring lists \n",
    "new_l = []\n",
    "new_l = list()"
   ]
  },
  {
   "cell_type": "markdown",
   "id": "b8879a0b",
   "metadata": {},
   "source": [
    "### Accessing elements in a list : "
   ]
  },
  {
   "cell_type": "markdown",
   "id": "34ff87cb",
   "metadata": {},
   "source": [
    "#### 1. by indexing -"
   ]
  },
  {
   "cell_type": "code",
   "execution_count": 16,
   "id": "0343c627",
   "metadata": {},
   "outputs": [
    {
     "data": {
      "text/plain": [
       "4"
      ]
     },
     "execution_count": 16,
     "metadata": {},
     "output_type": "execute_result"
    }
   ],
   "source": [
    "l[2]"
   ]
  },
  {
   "cell_type": "markdown",
   "id": "e62c6f26",
   "metadata": {},
   "source": [
    "#### 2. by slicing-"
   ]
  },
  {
   "cell_type": "code",
   "execution_count": 15,
   "id": "90bfdbd1",
   "metadata": {},
   "outputs": [
    {
     "name": "stdout",
     "output_type": "stream",
     "text": [
      "[{'course': 'py'}, (2+5j), [1, 2, 3]]\n",
      "[2, 3, 4, 5, 8, 8, 2.3]\n",
      "['str', (1, 2)]\n",
      "[[1, 2, 3], (2+5j), {'course': 'py'}, {1, 2}, (1, 2), 'str', True, 2.3, 8, 8, 5, 4, 3, 2]\n"
     ]
    }
   ],
   "source": [
    "#Slicing \n",
    "print(l[-3:])\n",
    "print(l[:7])\n",
    "print(l[8:10])\n",
    "print(l[::-1])"
   ]
  },
  {
   "cell_type": "code",
   "execution_count": 14,
   "id": "97c880c3",
   "metadata": {},
   "outputs": [
    {
     "data": {
      "text/plain": [
       "14"
      ]
     },
     "execution_count": 14,
     "metadata": {},
     "output_type": "execute_result"
    }
   ],
   "source": [
    "len(l)"
   ]
  },
  {
   "cell_type": "markdown",
   "id": "d000afa8",
   "metadata": {},
   "source": [
    "#### 3. Modifying a list -"
   ]
  },
  {
   "cell_type": "code",
   "execution_count": 17,
   "id": "404e9648",
   "metadata": {},
   "outputs": [
    {
     "data": {
      "text/plain": [
       "[2,\n",
       " 3,\n",
       " 4,\n",
       " 5,\n",
       " 8,\n",
       " 8,\n",
       " 2.3,\n",
       " True,\n",
       " 'str',\n",
       " (1, 2),\n",
       " {1, 2},\n",
       " {'course': 'py'},\n",
       " (2+5j),\n",
       " [1, 2, 3]]"
      ]
     },
     "execution_count": 17,
     "metadata": {},
     "output_type": "execute_result"
    }
   ],
   "source": [
    "l"
   ]
  },
  {
   "cell_type": "code",
   "execution_count": 19,
   "id": "0a460ad6",
   "metadata": {},
   "outputs": [
    {
     "data": {
      "text/plain": [
       "[1,\n",
       " 3,\n",
       " 4,\n",
       " 5,\n",
       " 8,\n",
       " 8,\n",
       " 2.3,\n",
       " True,\n",
       " 'str',\n",
       " (1, 2),\n",
       " {1, 2},\n",
       " {'course': 'py'},\n",
       " (2+5j),\n",
       " [1, 2, 3]]"
      ]
     },
     "execution_count": 19,
     "metadata": {},
     "output_type": "execute_result"
    }
   ],
   "source": [
    "l[0] = 1\n",
    "l"
   ]
  },
  {
   "cell_type": "code",
   "execution_count": 20,
   "id": "4895cbc3",
   "metadata": {},
   "outputs": [],
   "source": [
    "# append - to add one element \n",
    "l.append(9)"
   ]
  },
  {
   "cell_type": "code",
   "execution_count": 25,
   "id": "a2e28fca",
   "metadata": {},
   "outputs": [
    {
     "data": {
      "text/plain": [
       "[1,\n",
       " 3,\n",
       " 4,\n",
       " 5,\n",
       " 8,\n",
       " 8,\n",
       " 2.3,\n",
       " True,\n",
       " 'str',\n",
       " (1, 2),\n",
       " {1, 2},\n",
       " {'course': 'py'},\n",
       " (2+5j),\n",
       " [1, 2, 3],\n",
       " 9,\n",
       " ['s', 'DS', 989],\n",
       " ['s', 'DS', 989],\n",
       " 'asas',\n",
       " 'dsad',\n",
       " 1,\n",
       " 2]"
      ]
     },
     "execution_count": 25,
     "metadata": {},
     "output_type": "execute_result"
    }
   ],
   "source": [
    "#extend - to add multiple numbers in the list \n",
    "l.extend([\"asas\",\"dsad\",1,2])\n",
    "l"
   ]
  },
  {
   "cell_type": "code",
   "execution_count": 31,
   "id": "5e8d3744",
   "metadata": {},
   "outputs": [
    {
     "data": {
      "text/plain": [
       "[1,\n",
       " 100,\n",
       " 100,\n",
       " 3,\n",
       " 4,\n",
       " 5,\n",
       " 8,\n",
       " 8,\n",
       " 2.3,\n",
       " True,\n",
       " 'str',\n",
       " (1, 2),\n",
       " {1, 2},\n",
       " {'course': 'py'},\n",
       " (2+5j),\n",
       " [1, 2, 3],\n",
       " 9,\n",
       " ['s', 'DS', 989],\n",
       " ['s', 'DS', 989],\n",
       " 'asas',\n",
       " 'dsad',\n",
       " 1,\n",
       " 2]"
      ]
     },
     "execution_count": 31,
     "metadata": {},
     "output_type": "execute_result"
    }
   ],
   "source": [
    "#insert- to insert a value at an index (l.insert(index, value))\n",
    "l.insert(1,100)\n",
    "l"
   ]
  },
  {
   "cell_type": "code",
   "execution_count": 29,
   "id": "93a1a057",
   "metadata": {},
   "outputs": [
    {
     "data": {
      "text/plain": [
       "[1,\n",
       " 3,\n",
       " 4,\n",
       " 5,\n",
       " 8,\n",
       " 8,\n",
       " 2.3,\n",
       " True,\n",
       " 'str',\n",
       " (1, 2),\n",
       " {1, 2},\n",
       " {'course': 'py'},\n",
       " (2+5j),\n",
       " [1, 2, 3],\n",
       " 9,\n",
       " ['s', 'DS', 989],\n",
       " ['s', 'DS', 989],\n",
       " 'asas',\n",
       " 'dsad',\n",
       " 1,\n",
       " 2]"
      ]
     },
     "execution_count": 29,
     "metadata": {},
     "output_type": "execute_result"
    }
   ],
   "source": [
    "#remove \n",
    "l.remove(100)\n",
    "l"
   ]
  },
  {
   "cell_type": "code",
   "execution_count": 32,
   "id": "f646dd43",
   "metadata": {},
   "outputs": [],
   "source": [
    "l.remove({\"course\" : \"py\"})"
   ]
  },
  {
   "cell_type": "code",
   "execution_count": 40,
   "id": "f22cdb42",
   "metadata": {},
   "outputs": [
    {
     "data": {
      "text/plain": [
       "[100,\n",
       " 4,\n",
       " 5,\n",
       " 8,\n",
       " 8,\n",
       " 2.3,\n",
       " True,\n",
       " 'str',\n",
       " (1, 2),\n",
       " {1, 2},\n",
       " (2+5j),\n",
       " [1, 2, 3],\n",
       " 9,\n",
       " ['s', 'DS', 989],\n",
       " ['s', 'DS', 989],\n",
       " 'asas']"
      ]
     },
     "execution_count": 40,
     "metadata": {},
     "output_type": "execute_result"
    }
   ],
   "source": [
    "# pop - to remove element - index based, bydefault last. Doesnt delete the memory allocated and how the variable is saved.\n",
    "l.pop()\n",
    "l"
   ]
  },
  {
   "cell_type": "code",
   "execution_count": 35,
   "id": "0a8dbf8c",
   "metadata": {},
   "outputs": [
    {
     "data": {
      "text/plain": [
       "[1,\n",
       " 100,\n",
       " 100,\n",
       " 3,\n",
       " 4,\n",
       " 5,\n",
       " 8,\n",
       " 8,\n",
       " 2.3,\n",
       " True,\n",
       " 'str',\n",
       " (1, 2),\n",
       " {1, 2},\n",
       " (2+5j),\n",
       " [1, 2, 3],\n",
       " 9,\n",
       " ['s', 'DS', 989],\n",
       " ['s', 'DS', 989],\n",
       " 'asas',\n",
       " 'dsad',\n",
       " 1]"
      ]
     },
     "execution_count": 35,
     "metadata": {},
     "output_type": "execute_result"
    }
   ],
   "source": [
    "l.pop\n",
    "l"
   ]
  },
  {
   "cell_type": "code",
   "execution_count": 36,
   "id": "21347e0b",
   "metadata": {},
   "outputs": [
    {
     "data": {
      "text/plain": [
       "[1,\n",
       " 100,\n",
       " 100,\n",
       " 3,\n",
       " 4,\n",
       " 5,\n",
       " 8,\n",
       " 8,\n",
       " 2.3,\n",
       " True,\n",
       " 'str',\n",
       " (1, 2),\n",
       " {1, 2},\n",
       " (2+5j),\n",
       " [1, 2, 3],\n",
       " 9,\n",
       " ['s', 'DS', 989],\n",
       " ['s', 'DS', 989],\n",
       " 'asas',\n",
       " 'dsad']"
      ]
     },
     "execution_count": 36,
     "metadata": {},
     "output_type": "execute_result"
    }
   ],
   "source": [
    "l.pop()\n",
    "l"
   ]
  },
  {
   "cell_type": "code",
   "execution_count": 37,
   "id": "f6a72ca6",
   "metadata": {},
   "outputs": [
    {
     "data": {
      "text/plain": [
       "[1,\n",
       " 100,\n",
       " 100,\n",
       " 4,\n",
       " 5,\n",
       " 8,\n",
       " 8,\n",
       " 2.3,\n",
       " True,\n",
       " 'str',\n",
       " (1, 2),\n",
       " {1, 2},\n",
       " (2+5j),\n",
       " [1, 2, 3],\n",
       " 9,\n",
       " ['s', 'DS', 989],\n",
       " ['s', 'DS', 989],\n",
       " 'asas',\n",
       " 'dsad']"
      ]
     },
     "execution_count": 37,
     "metadata": {},
     "output_type": "execute_result"
    }
   ],
   "source": [
    "l.pop(3)\n",
    "l"
   ]
  },
  {
   "cell_type": "code",
   "execution_count": 38,
   "id": "486f6a81",
   "metadata": {},
   "outputs": [
    {
     "data": {
      "text/plain": [
       "1"
      ]
     },
     "execution_count": 38,
     "metadata": {},
     "output_type": "execute_result"
    }
   ],
   "source": [
    "l.pop(0)"
   ]
  },
  {
   "cell_type": "code",
   "execution_count": 39,
   "id": "b4befb61",
   "metadata": {},
   "outputs": [
    {
     "data": {
      "text/plain": [
       "100"
      ]
     },
     "execution_count": 39,
     "metadata": {},
     "output_type": "execute_result"
    }
   ],
   "source": [
    "l.pop(0) "
   ]
  },
  {
   "cell_type": "code",
   "execution_count": null,
   "id": "d792f7e3",
   "metadata": {},
   "outputs": [
    {
     "ename": "NameError",
     "evalue": "name 'l' is not defined",
     "output_type": "error",
     "traceback": [
      "\u001b[31m---------------------------------------------------------------------------\u001b[39m",
      "\u001b[31mNameError\u001b[39m                                 Traceback (most recent call last)",
      "\u001b[36mCell\u001b[39m\u001b[36m \u001b[39m\u001b[32mIn[41]\u001b[39m\u001b[32m, line 3\u001b[39m\n\u001b[32m      1\u001b[39m \u001b[38;5;66;03m# del - to delete the element / list completely along with the memory allocated.\u001b[39;00m\n\u001b[32m      2\u001b[39m \u001b[38;5;28;01mdel\u001b[39;00m l\n\u001b[32m----> \u001b[39m\u001b[32m3\u001b[39m \u001b[43ml\u001b[49m\n",
      "\u001b[31mNameError\u001b[39m: name 'l' is not defined"
     ]
    }
   ],
   "source": [
    "# del - to delete the element / list completely along with the memory allocated.\n",
    "del l\n",
    "l # l has be deleted completely"
   ]
  },
  {
   "cell_type": "code",
   "execution_count": 57,
   "id": "ca0dd784",
   "metadata": {},
   "outputs": [
    {
     "data": {
      "text/plain": [
       "[]"
      ]
     },
     "execution_count": 57,
     "metadata": {},
     "output_type": "execute_result"
    }
   ],
   "source": [
    "# clear () - clears all contents in a list.\n",
    "l =[1,2,3]\n",
    "l.clear()\n",
    "l"
   ]
  },
  {
   "cell_type": "code",
   "execution_count": 58,
   "id": "56d34161",
   "metadata": {},
   "outputs": [
    {
     "data": {
      "text/plain": [
       "1"
      ]
     },
     "execution_count": 58,
     "metadata": {},
     "output_type": "execute_result"
    }
   ],
   "source": [
    "# .index -returns index of the first occurence.\n",
    "l = [92,32,12,534]\n",
    "l.index(32) # l.index(value to be found)"
   ]
  },
  {
   "cell_type": "code",
   "execution_count": 59,
   "id": "1ec588c2",
   "metadata": {},
   "outputs": [
    {
     "data": {
      "text/plain": [
       "[12, 32, 92, 534]"
      ]
     },
     "execution_count": 59,
     "metadata": {},
     "output_type": "execute_result"
    }
   ],
   "source": [
    "#sorted()\n",
    "sorted(l) # creates a new list with elements sorted in asc order. "
   ]
  },
  {
   "cell_type": "code",
   "execution_count": 60,
   "id": "51d67a93",
   "metadata": {},
   "outputs": [
    {
     "data": {
      "text/plain": [
       "[12, 32, 92, 534]"
      ]
     },
     "execution_count": 60,
     "metadata": {},
     "output_type": "execute_result"
    }
   ],
   "source": [
    "l.sort() #changes the original list\n",
    "l"
   ]
  },
  {
   "cell_type": "code",
   "execution_count": null,
   "id": "dcb5a766",
   "metadata": {},
   "outputs": [
    {
     "data": {
      "text/plain": [
       "[534, 92, 32, 12]"
      ]
     },
     "execution_count": 61,
     "metadata": {},
     "output_type": "execute_result"
    }
   ],
   "source": [
    "l.sort(reverse =True) #reverses the list in the original list\n",
    "l"
   ]
  },
  {
   "cell_type": "code",
   "execution_count": 62,
   "id": "cce4340b",
   "metadata": {},
   "outputs": [
    {
     "name": "stdout",
     "output_type": "stream",
     "text": [
      "None\n"
     ]
    }
   ],
   "source": [
    "print(l.reverse()) # reverses  the values in a list by creating a new list temporarily\n"
   ]
  },
  {
   "cell_type": "code",
   "execution_count": 63,
   "id": "ed715eb4",
   "metadata": {},
   "outputs": [
    {
     "data": {
      "text/plain": [
       "[12, 32, 92, 534]"
      ]
     },
     "execution_count": 63,
     "metadata": {},
     "output_type": "execute_result"
    }
   ],
   "source": [
    "l.copy() # creates a shallow copy of the list i.e., a temporary copy of the list."
   ]
  },
  {
   "cell_type": "code",
   "execution_count": 64,
   "id": "b6f1c856",
   "metadata": {},
   "outputs": [
    {
     "data": {
      "text/plain": [
       "1"
      ]
     },
     "execution_count": 64,
     "metadata": {},
     "output_type": "execute_result"
    }
   ],
   "source": [
    "# gives the no of occurences of a value in a list.\n",
    "l.count(92)"
   ]
  },
  {
   "cell_type": "code",
   "execution_count": null,
   "id": "b448daff",
   "metadata": {},
   "outputs": [
    {
     "data": {
      "text/plain": [
       "534"
      ]
     },
     "execution_count": 66,
     "metadata": {},
     "output_type": "execute_result"
    }
   ],
   "source": [
    "max(l) # returns the max value in a list. According to ascii value. "
   ]
  },
  {
   "cell_type": "code",
   "execution_count": 68,
   "id": "3a3526a8",
   "metadata": {},
   "outputs": [
    {
     "data": {
      "text/plain": [
       "12"
      ]
     },
     "execution_count": 68,
     "metadata": {},
     "output_type": "execute_result"
    }
   ],
   "source": [
    "min(l) # returns the min value in a list according to ascii value."
   ]
  },
  {
   "cell_type": "code",
   "execution_count": 69,
   "id": "f3852708",
   "metadata": {},
   "outputs": [
    {
     "data": {
      "text/plain": [
       "670"
      ]
     },
     "execution_count": 69,
     "metadata": {},
     "output_type": "execute_result"
    }
   ],
   "source": [
    "sum(l) # returns the sum of all the elements in a list."
   ]
  },
  {
   "cell_type": "code",
   "execution_count": 70,
   "id": "bcbf5f06",
   "metadata": {},
   "outputs": [
    {
     "data": {
      "text/plain": [
       "4"
      ]
     },
     "execution_count": 70,
     "metadata": {},
     "output_type": "execute_result"
    }
   ],
   "source": [
    "len(l) # returns the length of the list."
   ]
  },
  {
   "cell_type": "markdown",
   "id": "e058cc42",
   "metadata": {},
   "source": [
    "False elements are - False, 0, (), {}, set(), []"
   ]
  },
  {
   "cell_type": "code",
   "execution_count": 71,
   "id": "a79b1dd1",
   "metadata": {},
   "outputs": [
    {
     "data": {
      "text/plain": [
       "True"
      ]
     },
     "execution_count": 71,
     "metadata": {},
     "output_type": "execute_result"
    }
   ],
   "source": [
    "# any() - returns True if any element in the list is True, else False.\n",
    "any(l)"
   ]
  },
  {
   "cell_type": "code",
   "execution_count": 72,
   "id": "90436402",
   "metadata": {},
   "outputs": [
    {
     "data": {
      "text/plain": [
       "False"
      ]
     },
     "execution_count": 72,
     "metadata": {},
     "output_type": "execute_result"
    }
   ],
   "source": [
    "a = []\n",
    "any(a) # returns False as there are no elements in the list."
   ]
  },
  {
   "cell_type": "code",
   "execution_count": 73,
   "id": "d9756435",
   "metadata": {},
   "outputs": [
    {
     "data": {
      "text/plain": [
       "True"
      ]
     },
     "execution_count": 73,
     "metadata": {},
     "output_type": "execute_result"
    }
   ],
   "source": [
    "# all() - returns True if all elements in the list are True, else False.\n",
    "all(l)"
   ]
  },
  {
   "cell_type": "code",
   "execution_count": 74,
   "id": "d216c399",
   "metadata": {},
   "outputs": [
    {
     "data": {
      "text/plain": [
       "False"
      ]
     },
     "execution_count": 74,
     "metadata": {},
     "output_type": "execute_result"
    }
   ],
   "source": [
    "b = [\"a\", \"b\", \"c\", \"\",[]]\n",
    "all(b) # returns False as there is an empty string and an empty list in the list"
   ]
  }
 ],
 "metadata": {
  "kernelspec": {
   "display_name": "Python 3",
   "language": "python",
   "name": "python3"
  },
  "language_info": {
   "codemirror_mode": {
    "name": "ipython",
    "version": 3
   },
   "file_extension": ".py",
   "mimetype": "text/x-python",
   "name": "python",
   "nbconvert_exporter": "python",
   "pygments_lexer": "ipython3",
   "version": "3.11.4"
  }
 },
 "nbformat": 4,
 "nbformat_minor": 5
}
