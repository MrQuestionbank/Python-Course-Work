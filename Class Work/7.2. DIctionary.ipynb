{
 "cells": [
  {
   "cell_type": "code",
   "execution_count": 1,
   "id": "6e97460b",
   "metadata": {},
   "outputs": [
    {
     "data": {
      "text/plain": [
       "dict"
      ]
     },
     "execution_count": 1,
     "metadata": {},
     "output_type": "execute_result"
    }
   ],
   "source": [
    "#Decalaring a dictionary \n",
    "d ={}\n",
    "d = dict()\n",
    "type(d)"
   ]
  },
  {
   "cell_type": "markdown",
   "id": "128fdc4f",
   "metadata": {},
   "source": [
    "### Features :\n",
    "- Key to be unique\n",
    "- Keys must be immutable i.e. tuple,strings, integer, float,etc.\n",
    "- Values can be of any type\n",
    "- Mutable "
   ]
  },
  {
   "cell_type": "code",
   "execution_count": 5,
   "id": "866d3dc8",
   "metadata": {},
   "outputs": [],
   "source": [
    "data = {\n",
    "    \"name\": \"Tarit\",\n",
    "    \"Passing Out Year\": 2026,\n",
    "    \"Course\" : \"DA\",\n",
    "    \"batch\": 14,\n",
    "    \"branch\": \"Ameerpet\",}"
   ]
  },
  {
   "cell_type": "code",
   "execution_count": 6,
   "id": "8e853c3d",
   "metadata": {},
   "outputs": [
    {
     "data": {
      "text/plain": [
       "'Tarit'"
      ]
     },
     "execution_count": 6,
     "metadata": {},
     "output_type": "execute_result"
    }
   ],
   "source": [
    "# accessing the value of a key\n",
    "data[\"name\"]  "
   ]
  },
  {
   "cell_type": "code",
   "execution_count": 7,
   "id": "826bf6d4",
   "metadata": {},
   "outputs": [
    {
     "data": {
      "text/plain": [
       "2026"
      ]
     },
     "execution_count": 7,
     "metadata": {},
     "output_type": "execute_result"
    }
   ],
   "source": [
    "data[\"Passing Out Year\"]"
   ]
  },
  {
   "cell_type": "code",
   "execution_count": 8,
   "id": "ba10d8d3",
   "metadata": {},
   "outputs": [],
   "source": [
    "data.get(\"dob\")\n"
   ]
  },
  {
   "cell_type": "code",
   "execution_count": 9,
   "id": "f9684255",
   "metadata": {},
   "outputs": [
    {
     "data": {
      "text/plain": [
       "'Key not found'"
      ]
     },
     "execution_count": 9,
     "metadata": {},
     "output_type": "execute_result"
    }
   ],
   "source": [
    "data.get(\"age\", \"Key not found\")  # Using get method with a default value\n",
    "# Use get method to avoid KeyError if the key does not exist"
   ]
  },
  {
   "cell_type": "code",
   "execution_count": 12,
   "id": "f09ac207",
   "metadata": {},
   "outputs": [
    {
     "data": {
      "text/plain": [
       "'Tarit'"
      ]
     },
     "execution_count": 12,
     "metadata": {},
     "output_type": "execute_result"
    }
   ],
   "source": [
    "data.get(\"name\", \"Key not found\") "
   ]
  },
  {
   "cell_type": "markdown",
   "id": "4af5f55a",
   "metadata": {},
   "source": [
    "### Adding and Updating "
   ]
  },
  {
   "cell_type": "code",
   "execution_count": 13,
   "id": "ebbce16d",
   "metadata": {},
   "outputs": [
    {
     "data": {
      "text/plain": [
       "{'name': 'Tarit',\n",
       " 'Passing Out Year': 2026,\n",
       " 'Course': 'DA',\n",
       " 'batch': 14,\n",
       " 'branch': 'Ameerpet'}"
      ]
     },
     "execution_count": 13,
     "metadata": {},
     "output_type": "execute_result"
    }
   ],
   "source": [
    "data "
   ]
  },
  {
   "cell_type": "code",
   "execution_count": null,
   "id": "5b71e03f",
   "metadata": {},
   "outputs": [
    {
     "data": {
      "text/plain": [
       "{'name': 'Tarit',\n",
       " 'Passing Out Year': 2026,\n",
       " 'Course': 'DA',\n",
       " 'batch': 14,\n",
       " 'branch': 'Ameerpet',\n",
       " 'Dob': '30/11/2004'}"
      ]
     },
     "execution_count": 15,
     "metadata": {},
     "output_type": "execute_result"
    }
   ],
   "source": [
    "data[\"Dob\"] = \"30/11/2004\"  # Adding a new key-value pair. \n",
    "data"
   ]
  },
  {
   "cell_type": "markdown",
   "id": "a5f41d40",
   "metadata": {},
   "source": [
    "### Removing items from a dictionary - "
   ]
  },
  {
   "cell_type": "code",
   "execution_count": 16,
   "id": "bba03664",
   "metadata": {},
   "outputs": [
    {
     "data": {
      "text/plain": [
       "('Dob', '30/11/2004')"
      ]
     },
     "execution_count": 16,
     "metadata": {},
     "output_type": "execute_result"
    }
   ],
   "source": [
    "# pop\n",
    "data.popitem()  # Removes the last inserted key-value pair"
   ]
  },
  {
   "cell_type": "code",
   "execution_count": 17,
   "id": "7baf291d",
   "metadata": {},
   "outputs": [
    {
     "data": {
      "text/plain": [
       "'Ameerpet'"
      ]
     },
     "execution_count": 17,
     "metadata": {},
     "output_type": "execute_result"
    }
   ],
   "source": [
    "data.pop(\"branch\")  # Removes the key \"branch\" and returns its value"
   ]
  },
  {
   "cell_type": "code",
   "execution_count": 18,
   "id": "9256cfad",
   "metadata": {},
   "outputs": [
    {
     "data": {
      "text/plain": [
       "{'name': 'Tarit', 'Passing Out Year': 2026, 'Course': 'DA', 'batch': 14}"
      ]
     },
     "execution_count": 18,
     "metadata": {},
     "output_type": "execute_result"
    }
   ],
   "source": [
    "data"
   ]
  },
  {
   "cell_type": "code",
   "execution_count": 19,
   "id": "f5c68d63",
   "metadata": {},
   "outputs": [
    {
     "data": {
      "text/plain": [
       "{'name': 'Tarit', 'Passing Out Year': 2026, 'Course': 'DA'}"
      ]
     },
     "execution_count": 19,
     "metadata": {},
     "output_type": "execute_result"
    }
   ],
   "source": [
    "del data[\"batch\"]  # Deletes the key \"batch\" and its value\n",
    "data"
   ]
  },
  {
   "cell_type": "code",
   "execution_count": 20,
   "id": "3ba81520",
   "metadata": {},
   "outputs": [],
   "source": [
    "data.clear()  # Removes all items from the dictionary"
   ]
  },
  {
   "cell_type": "code",
   "execution_count": 21,
   "id": "8e4e1ff1",
   "metadata": {},
   "outputs": [
    {
     "data": {
      "text/plain": [
       "{}"
      ]
     },
     "execution_count": 21,
     "metadata": {},
     "output_type": "execute_result"
    }
   ],
   "source": [
    "data"
   ]
  },
  {
   "cell_type": "code",
   "execution_count": 23,
   "id": "a4baa25b",
   "metadata": {},
   "outputs": [],
   "source": [
    "data = {'name': 'Tarit',\n",
    " 'Passing Out Year': 2026,\n",
    " 'Course': 'DA',\n",
    " 'batch': 14,\n",
    " 'branch': 'Ameerpet',\n",
    " 'Dob': '30/11/2004'}"
   ]
  },
  {
   "cell_type": "code",
   "execution_count": 24,
   "id": "09704a0e",
   "metadata": {},
   "outputs": [
    {
     "data": {
      "text/plain": [
       "dict_keys(['name', 'Passing Out Year', 'Course', 'batch', 'branch', 'Dob'])"
      ]
     },
     "execution_count": 24,
     "metadata": {},
     "output_type": "execute_result"
    }
   ],
   "source": [
    "# To access keys\n",
    "data.keys()  # Returns a view object displaying a list of all the keys in the dictionary"
   ]
  },
  {
   "cell_type": "code",
   "execution_count": 25,
   "id": "7f41cf5d",
   "metadata": {},
   "outputs": [
    {
     "data": {
      "text/plain": [
       "dict_values(['Tarit', 2026, 'DA', 14, 'Ameerpet', '30/11/2004'])"
      ]
     },
     "execution_count": 25,
     "metadata": {},
     "output_type": "execute_result"
    }
   ],
   "source": [
    "data.values()  # Returns a view object displaying a list of all the values in the dictionary"
   ]
  },
  {
   "cell_type": "code",
   "execution_count": 26,
   "id": "7ab5eb7c",
   "metadata": {},
   "outputs": [
    {
     "data": {
      "text/plain": [
       "dict_items([('name', 'Tarit'), ('Passing Out Year', 2026), ('Course', 'DA'), ('batch', 14), ('branch', 'Ameerpet'), ('Dob', '30/11/2004')])"
      ]
     },
     "execution_count": 26,
     "metadata": {},
     "output_type": "execute_result"
    }
   ],
   "source": [
    "data.items()  # Returns a view object displaying a list of all the key-value pairs in the dictionary"
   ]
  },
  {
   "cell_type": "markdown",
   "id": "b79e1cdf",
   "metadata": {},
   "source": [
    "### Updation : "
   ]
  },
  {
   "cell_type": "code",
   "execution_count": 27,
   "id": "118ac9c7",
   "metadata": {},
   "outputs": [],
   "source": [
    "data[\"Dob\"] = \"30/11/2004\"  # Adding a new key-value pair. adds only one key-value pair at a time"
   ]
  },
  {
   "cell_type": "code",
   "execution_count": 29,
   "id": "afcffc6b",
   "metadata": {},
   "outputs": [],
   "source": [
    "data.update({\"Dob\": \"30/11/2004\" ,\"K1\": \"V1\"})  # Adding a new key-value pair. adds multiple key-value pair at a time"
   ]
  },
  {
   "cell_type": "code",
   "execution_count": 30,
   "id": "abdff7fc",
   "metadata": {},
   "outputs": [
    {
     "data": {
      "text/plain": [
       "{'name': 'Tarit',\n",
       " 'Passing Out Year': 2026,\n",
       " 'Course': 'DA',\n",
       " 'batch': 14,\n",
       " 'branch': 'Ameerpet',\n",
       " 'Dob': '30/11/2004',\n",
       " 'K1': 'V1'}"
      ]
     },
     "execution_count": 30,
     "metadata": {},
     "output_type": "execute_result"
    }
   ],
   "source": [
    "data"
   ]
  },
  {
   "cell_type": "code",
   "execution_count": 31,
   "id": "5b21d168",
   "metadata": {},
   "outputs": [
    {
     "data": {
      "text/plain": [
       "'Xyz'"
      ]
     },
     "execution_count": 31,
     "metadata": {},
     "output_type": "execute_result"
    }
   ],
   "source": [
    "# To set a default value for a key\n",
    "data.setdefault(\"Name\", \"Xyz\") # If \"Name\" does not exist, it will be set to \"Xyz\" by default"
   ]
  },
  {
   "cell_type": "code",
   "execution_count": 32,
   "id": "2aaa9b0a",
   "metadata": {},
   "outputs": [],
   "source": [
    "# min(data), max(data), sorted(data)  # min, max, sorted functions can be used only on dictionary keys and when the keys' datatype is same "
   ]
  },
  {
   "cell_type": "code",
   "execution_count": null,
   "id": "1e9d840c",
   "metadata": {},
   "outputs": [],
   "source": []
  }
 ],
 "metadata": {
  "kernelspec": {
   "display_name": "Python 3",
   "language": "python",
   "name": "python3"
  },
  "language_info": {
   "codemirror_mode": {
    "name": "ipython",
    "version": 3
   },
   "file_extension": ".py",
   "mimetype": "text/x-python",
   "name": "python",
   "nbconvert_exporter": "python",
   "pygments_lexer": "ipython3",
   "version": "3.11.4"
  }
 },
 "nbformat": 4,
 "nbformat_minor": 5
}
