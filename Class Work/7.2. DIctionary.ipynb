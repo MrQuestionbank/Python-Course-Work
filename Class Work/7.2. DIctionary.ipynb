{
 "cells": [
  {
   "cell_type": "code",
   "execution_count": 1,
   "id": "6e97460b",
   "metadata": {},
   "outputs": [
    {
     "data": {
      "text/plain": [
       "dict"
      ]
     },
     "execution_count": 1,
     "metadata": {},
     "output_type": "execute_result"
    }
   ],
   "source": [
    "#Decalaring a dictionary \n",
    "d ={}\n",
    "d = dict()\n",
    "type(d)"
   ]
  },
  {
   "cell_type": "markdown",
   "id": "128fdc4f",
   "metadata": {},
   "source": [
    "### Features :\n",
    "- Key to be unique\n",
    "- Key must be immutable \n",
    "- Values can be of any type\n",
    "- Mutable "
   ]
  },
  {
   "cell_type": "code",
   "execution_count": 5,
   "id": "866d3dc8",
   "metadata": {},
   "outputs": [],
   "source": [
    "data = {\n",
    "    \"name\": \"Tarit\",\n",
    "    \"Passing Out Year\": 2026,\n",
    "    \"Course\" : \"DA\",\n",
    "    \"batch\": 14,\n",
    "    \"branch\": \"Ameerpet\",}"
   ]
  },
  {
   "cell_type": "code",
   "execution_count": 6,
   "id": "8e853c3d",
   "metadata": {},
   "outputs": [
    {
     "data": {
      "text/plain": [
       "'Tarit'"
      ]
     },
     "execution_count": 6,
     "metadata": {},
     "output_type": "execute_result"
    }
   ],
   "source": [
    "# accessing the value of a key\n",
    "data[\"name\"]  "
   ]
  },
  {
   "cell_type": "code",
   "execution_count": 7,
   "id": "826bf6d4",
   "metadata": {},
   "outputs": [
    {
     "data": {
      "text/plain": [
       "2026"
      ]
     },
     "execution_count": 7,
     "metadata": {},
     "output_type": "execute_result"
    }
   ],
   "source": [
    "data[\"Passing Out Year\"]"
   ]
  },
  {
   "cell_type": "code",
   "execution_count": 8,
   "id": "ba10d8d3",
   "metadata": {},
   "outputs": [],
   "source": [
    "data.get(\"dob\")\n"
   ]
  },
  {
   "cell_type": "code",
   "execution_count": null,
   "id": "f9684255",
   "metadata": {},
   "outputs": [],
   "source": []
  }
 ],
 "metadata": {
  "kernelspec": {
   "display_name": "Python 3",
   "language": "python",
   "name": "python3"
  },
  "language_info": {
   "codemirror_mode": {
    "name": "ipython",
    "version": 3
   },
   "file_extension": ".py",
   "mimetype": "text/x-python",
   "name": "python",
   "nbconvert_exporter": "python",
   "pygments_lexer": "ipython3",
   "version": "3.11.4"
  }
 },
 "nbformat": 4,
 "nbformat_minor": 5
}
