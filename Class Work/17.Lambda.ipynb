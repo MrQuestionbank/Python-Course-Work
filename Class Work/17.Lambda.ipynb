{
 "cells": [
  {
   "cell_type": "markdown",
   "id": "eb5e045a",
   "metadata": {},
   "source": [
    "# Lambda Functions (Anonymous Functions)"
   ]
  },
  {
   "cell_type": "markdown",
   "id": "35c12c91",
   "metadata": {},
   "source": [
    "Format \n",
    "\n",
    "var = lambda arg: exp "
   ]
  },
  {
   "cell_type": "code",
   "execution_count": 1,
   "id": "2cf24f53",
   "metadata": {},
   "outputs": [],
   "source": [
    "def squares(n):\n",
    "    print(n*n)"
   ]
  },
  {
   "cell_type": "code",
   "execution_count": 4,
   "id": "7e6d47b0",
   "metadata": {},
   "outputs": [
    {
     "name": "stdout",
     "output_type": "stream",
     "text": [
      "lambda :  9\n"
     ]
    }
   ],
   "source": [
    "def add(a,b):\n",
    "    print(a+b)\n",
    "\n",
    "add_lambda = lambda a,b : a+b\n",
    "print(\"lambda : \",  add_lambda(4,5))"
   ]
  },
  {
   "cell_type": "code",
   "execution_count": null,
   "id": "acdc967a",
   "metadata": {},
   "outputs": [
    {
     "name": "stdout",
     "output_type": "stream",
     "text": [
      "even\n"
     ]
    }
   ],
   "source": [
    "# even or odd\n",
    "def evorod(n):\n",
    "    if n%2 == 0 :\n",
    "        print(\"even\")\n",
    "    else: \n",
    "        print(\"odd\")\n",
    "# instead of the above the \n",
    "evorod_lambda = lambda n: \"even\" if n%2==0 else \"odd\"\n",
    "print(evorod_lambda(4))"
   ]
  },
  {
   "cell_type": "code",
   "execution_count": 11,
   "id": "1b22e86a",
   "metadata": {},
   "outputs": [
    {
     "data": {
      "text/plain": [
       "[1, 4, 9, 16, 25]"
      ]
     },
     "execution_count": 11,
     "metadata": {},
     "output_type": "execute_result"
    }
   ],
   "source": [
    "# squaring a list \n",
    "def sqa(l):\n",
    "    for i in range(len(l)):\n",
    "        l[i] **= 2 \n",
    "    print(l)\n",
    "\n",
    "sqal_lambda = list(map(lambda i : i**2 , [1,2,3,4,5]))\n",
    "sqal_lambda "
   ]
  },
  {
   "cell_type": "code",
   "execution_count": 15,
   "id": "a1c3eca3",
   "metadata": {},
   "outputs": [
    {
     "name": "stdout",
     "output_type": "stream",
     "text": [
      "PYTHON\n"
     ]
    }
   ],
   "source": [
    "s = \"python\"\n",
    "up_lambda = list(map(lambda i : i.upper(),s))\n",
    "print(''.join(up_lambda))"
   ]
  },
  {
   "cell_type": "code",
   "execution_count": 17,
   "id": "ead8ce2c",
   "metadata": {},
   "outputs": [
    {
     "name": "stdout",
     "output_type": "stream",
     "text": [
      "pyth*n\n"
     ]
    }
   ],
   "source": [
    "v = 'aeiou'\n",
    "vowel_lambda = list(map(lambda i : \"*\" if i in v else i, s ))\n",
    "print(''.join(vowel_lambda))"
   ]
  },
  {
   "cell_type": "code",
   "execution_count": null,
   "id": "9547dc9b",
   "metadata": {},
   "outputs": [
    {
     "data": {
      "text/plain": [
       "{'c': 32, 'b': 36, 'a': 45}"
      ]
     },
     "execution_count": 19,
     "metadata": {},
     "output_type": "execute_result"
    }
   ],
   "source": [
    "data = {\"a\": 45, \"b\": 36, \"c\": 32 }\n",
    "sorted_data = dict(sorted(data.items(), key = lambda i:i[1])) # this sorts on the basis of values \n",
    "sorted_data"
   ]
  },
  {
   "cell_type": "code",
   "execution_count": null,
   "id": "a4c9f430",
   "metadata": {},
   "outputs": [
    {
     "data": {
      "text/plain": [
       "{'a': 45, 'b': 36, 'c': 32}"
      ]
     },
     "execution_count": 20,
     "metadata": {},
     "output_type": "execute_result"
    }
   ],
   "source": [
    "data = {\"a\": 45, \"b\": 36, \"c\": 32 }\n",
    "sorted_data = dict(sorted(data.items(), key = lambda i:i[1], reverse = True))  # this sorts in reverse on the basis of values \n",
    "sorted_data"
   ]
  },
  {
   "cell_type": "code",
   "execution_count": 21,
   "id": "7524d73c",
   "metadata": {},
   "outputs": [
    {
     "data": {
      "text/plain": [
       "{'a': 45, 'b': 36, 'c': 32}"
      ]
     },
     "execution_count": 21,
     "metadata": {},
     "output_type": "execute_result"
    }
   ],
   "source": [
    "data = {\"a\": 45, \"b\": 36, \"c\": 32 }\n",
    "sorted_data = dict(sorted(data.items(), key = lambda i:i[0])) # this sorts on the basis of keys \n",
    "sorted_data"
   ]
  },
  {
   "cell_type": "code",
   "execution_count": 22,
   "id": "414c435b",
   "metadata": {},
   "outputs": [
    {
     "data": {
      "text/plain": [
       "{'c': 32, 'b': 36, 'a': 45}"
      ]
     },
     "execution_count": 22,
     "metadata": {},
     "output_type": "execute_result"
    }
   ],
   "source": [
    "data = {\"a\": 45, \"b\": 36, \"c\": 32 }\n",
    "sorted_data = dict(sorted(data.items(), key = lambda i:i[0], reverse = True)) # this sorts on the basis of keys \n",
    "sorted_data"
   ]
  },
  {
   "cell_type": "markdown",
   "id": "96d0dd3c",
   "metadata": {},
   "source": [
    "### Using filter()"
   ]
  },
  {
   "cell_type": "code",
   "execution_count": 26,
   "id": "ff684d4b",
   "metadata": {},
   "outputs": [
    {
     "name": "stdout",
     "output_type": "stream",
     "text": [
      "[2, 4, 6, 8]\n"
     ]
    }
   ],
   "source": [
    "l = [1,2,3,4,5,6,7,8,9]\n",
    "even_l = list(filter(lambda i: i%2 == 0,l)) #filter() returns all those values where the condition returns 'True'\n",
    "print(even_l)"
   ]
  },
  {
   "cell_type": "code",
   "execution_count": 27,
   "id": "ae13441a",
   "metadata": {},
   "outputs": [
    {
     "name": "stdout",
     "output_type": "stream",
     "text": [
      "[1, 2, 3, 4, 5, 6, 7, 8, 9]\n"
     ]
    }
   ],
   "source": [
    "l = [1,0,0,0,2,3,4,0,0,5,6,0,7,8,9,0,0]\n",
    "even_l = list(filter(lambda i: i != 0,l)) #filter() returns all those values where the condition returns 'True'\n",
    "print(even_l)"
   ]
  },
  {
   "cell_type": "code",
   "execution_count": null,
   "id": "4a008962",
   "metadata": {},
   "outputs": [
    {
     "data": {
      "text/plain": [
       "['laptopA', 'laptopC']"
      ]
     },
     "execution_count": 33,
     "metadata": {},
     "output_type": "execute_result"
    }
   ],
   "source": [
    "data ={'laptopA': {'available': True, 'price': 40000},\n",
    "       'laptopB': {'available': False, 'price': 42000},\n",
    "       'laptopC': {'available': True, 'price': 60000},\n",
    "       'laptopD': {'available': False, 'price': 65000}}\n",
    "\n",
    "l = list(filter(lambda i: data[i] ['available'],data)) #filters the laptops available i.e. , 'available' = True \n",
    "l"
   ]
  },
  {
   "cell_type": "code",
   "execution_count": 35,
   "id": "29716d2c",
   "metadata": {},
   "outputs": [
    {
     "data": {
      "text/plain": [
       "['laptopA', 'laptopB']"
      ]
     },
     "execution_count": 35,
     "metadata": {},
     "output_type": "execute_result"
    }
   ],
   "source": [
    "l = list(filter(lambda i: data[i] ['price']< 50000,data)) #filters the laptops price\n",
    "l"
   ]
  },
  {
   "cell_type": "code",
   "execution_count": null,
   "id": "e807b175",
   "metadata": {},
   "outputs": [],
   "source": []
  }
 ],
 "metadata": {
  "kernelspec": {
   "display_name": "Python 3",
   "language": "python",
   "name": "python3"
  },
  "language_info": {
   "codemirror_mode": {
    "name": "ipython",
    "version": 3
   },
   "file_extension": ".py",
   "mimetype": "text/x-python",
   "name": "python",
   "nbconvert_exporter": "python",
   "pygments_lexer": "ipython3",
   "version": "3.11.4"
  }
 },
 "nbformat": 4,
 "nbformat_minor": 5
}
