{
 "cells": [
  {
   "cell_type": "markdown",
   "id": "e5e1124f",
   "metadata": {},
   "source": [
    "### else: "
   ]
  },
  {
   "cell_type": "markdown",
   "id": "14066cde",
   "metadata": {},
   "source": [
    "#### 'for' with 'else' -\n",
    "when used with else, else is used till the code in for loop breaks( in which 'if' statement is there.)"
   ]
  },
  {
   "cell_type": "code",
   "execution_count": 2,
   "id": "9b0761da",
   "metadata": {},
   "outputs": [
    {
     "name": "stdout",
     "output_type": "stream",
     "text": [
      "All caught up! No new notifications.\n"
     ]
    }
   ],
   "source": [
    "# 1 = Unread, 0 = Read\n",
    "notifications =  [0,0,0,0,0,0]\n",
    "for n in notifications:\n",
    "    if n == 1:\n",
    "        print(\"You have a new notification\")\n",
    "        break\n",
    "else:\n",
    "    print(\"All caught up! No new notifications.\")"
   ]
  },
  {
   "cell_type": "markdown",
   "id": "339fd660",
   "metadata": {},
   "source": [
    "#### 'while' with 'else' -\n",
    "just like with 'for' the 'else' is executed only when the loop completes without breaks"
   ]
  },
  {
   "cell_type": "code",
   "execution_count": 7,
   "id": "e65af968",
   "metadata": {},
   "outputs": [
    {
     "name": "stdout",
     "output_type": "stream",
     "text": [
      "OTP veriified successfully!\n"
     ]
    }
   ],
   "source": [
    "# OTP verification\n",
    "otp = 1234\n",
    "attempts = 0\n",
    "max_attempts = 3\n",
    "\n",
    "while attempts < max_attempts: \n",
    "    user_otp = int(input(\"Enter the OTP sent to your phone: \"))\n",
    "    if user_otp == otp: \n",
    "        print(\"OTP veriified successfully!\")\n",
    "        break\n",
    "    else: \n",
    "        print(\"Incorrect OTP. Please try again.\")\n",
    "        attempts += 1\n",
    "\n",
    "else: \n",
    "    print(\"Maximum attempts reached. Please request a new OTP.\")"
   ]
  },
  {
   "cell_type": "markdown",
   "id": "5dce1c6b",
   "metadata": {},
   "source": [
    "### break \n",
    "used to exit a for / while loop in between. "
   ]
  },
  {
   "cell_type": "code",
   "execution_count": 8,
   "id": "17c36154",
   "metadata": {},
   "outputs": [
    {
     "name": "stdout",
     "output_type": "stream",
     "text": [
      "Found 3 in the list.\n"
     ]
    }
   ],
   "source": [
    "n = 3 \n",
    "nums = [1, 2, 3, 4, 5]\n",
    "for i in nums:\n",
    "    if i == n:\n",
    "        print(f\"Found {n} in the list.\")\n",
    "        break"
   ]
  },
  {
   "cell_type": "code",
   "execution_count": 9,
   "id": "53af3ab7",
   "metadata": {},
   "outputs": [
    {
     "name": "stdout",
     "output_type": "stream",
     "text": [
      "3\n",
      "4\n"
     ]
    }
   ],
   "source": [
    "while True:\n",
    "    if n < 5:\n",
    "        print(n)\n",
    "        n += 1\n",
    "    else: \n",
    "        break"
   ]
  },
  {
   "cell_type": "markdown",
   "id": "dc7b13e4",
   "metadata": {},
   "source": [
    "### continue \n",
    "used to skip the the code block under the current iteration and move on to the next iteration. "
   ]
  },
  {
   "cell_type": "code",
   "execution_count": 13,
   "id": "aacd110c",
   "metadata": {},
   "outputs": [
    {
     "name": "stdout",
     "output_type": "stream",
     "text": [
      "0 1 2 3 4 6 8 9 "
     ]
    }
   ],
   "source": [
    "for i in range(10):\n",
    "    if i == 5 or i == 7:\n",
    "        continue\n",
    "    print(i, end=' ')"
   ]
  },
  {
   "cell_type": "code",
   "execution_count": 19,
   "id": "2bbfa796",
   "metadata": {},
   "outputs": [
    {
     "name": "stdout",
     "output_type": "stream",
     "text": [
      "1 3 5 7 9 11 13 15 17 19 21 23 25 27 29 31 33 35 37 39 41 43 45 47 49 51 53 55 57 59 61 63 65 67 69 71 73 75 77 79 81 83 85 87 89 91 93 95 97 99 "
     ]
    }
   ],
   "source": [
    "# printing odd numbers \n",
    "for i in range(100): \n",
    "    if i % 2 == 0:\n",
    "        continue\n",
    "    print(i, end=' ')"
   ]
  },
  {
   "cell_type": "code",
   "execution_count": null,
   "id": "f75895ef",
   "metadata": {},
   "outputs": [],
   "source": []
  }
 ],
 "metadata": {
  "kernelspec": {
   "display_name": "Python 3",
   "language": "python",
   "name": "python3"
  },
  "language_info": {
   "codemirror_mode": {
    "name": "ipython",
    "version": 3
   },
   "file_extension": ".py",
   "mimetype": "text/x-python",
   "name": "python",
   "nbconvert_exporter": "python",
   "pygments_lexer": "ipython3",
   "version": "3.11.4"
  }
 },
 "nbformat": 4,
 "nbformat_minor": 5
}
