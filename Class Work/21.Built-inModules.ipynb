{
 "cells": [
  {
   "cell_type": "markdown",
   "id": "11e19702",
   "metadata": {},
   "source": [
    "- `os` provides functions to interact with the operating system.\n",
    "- `sys` provides functions to access interpreter specific functions. "
   ]
  },
  {
   "cell_type": "markdown",
   "id": "29fcbee1",
   "metadata": {},
   "source": [
    "## platform - \n",
    "Provides info on OS, system and hardware."
   ]
  },
  {
   "cell_type": "code",
   "execution_count": 1,
   "id": "0862778e",
   "metadata": {},
   "outputs": [
    {
     "name": "stdout",
     "output_type": "stream",
     "text": [
      "OS name : Darwin\n",
      "OS Version : 24.5.0\n",
      "Processor type : arm\n"
     ]
    }
   ],
   "source": [
    "import platform\n",
    "print(f\"OS name : {platform.system()}\\nOS Version : {platform.release()}\\nProcessor type : {platform.processor()}\")"
   ]
  },
  {
   "cell_type": "markdown",
   "id": "c166a450",
   "metadata": {},
   "source": [
    "## math module- \n",
    "for mathematical operations and constants. "
   ]
  },
  {
   "cell_type": "code",
   "execution_count": 4,
   "id": "f706f2cf",
   "metadata": {},
   "outputs": [
    {
     "name": "stdout",
     "output_type": "stream",
     "text": [
      "3.141592653589793\n",
      "2.718281828459045\n"
     ]
    }
   ],
   "source": [
    "import math \n",
    "#printing constants \n",
    "print(math.pi)\n",
    "print(math.e)"
   ]
  },
  {
   "cell_type": "code",
   "execution_count": 8,
   "id": "5733b5c4",
   "metadata": {},
   "outputs": [
    {
     "data": {
      "text/plain": [
       "3.0"
      ]
     },
     "execution_count": 8,
     "metadata": {},
     "output_type": "execute_result"
    }
   ],
   "source": [
    "math.sqrt(9)# provides squareroot of the number 9"
   ]
  },
  {
   "cell_type": "code",
   "execution_count": 9,
   "id": "0c554c2a",
   "metadata": {},
   "outputs": [
    {
     "data": {
      "text/plain": [
       "9.0"
      ]
     },
     "execution_count": 9,
     "metadata": {},
     "output_type": "execute_result"
    }
   ],
   "source": [
    "math.pow(3,2) # 3 raised to power 2 "
   ]
  },
  {
   "cell_type": "code",
   "execution_count": null,
   "id": "cda04783",
   "metadata": {},
   "outputs": [
    {
     "data": {
      "text/plain": [
       "5"
      ]
     },
     "execution_count": 11,
     "metadata": {},
     "output_type": "execute_result"
    }
   ],
   "source": [
    "math.ceil(4.32) #smallest integer function- i.e smallest integer greater than a 'x'."
   ]
  },
  {
   "cell_type": "code",
   "execution_count": 12,
   "id": "ee4c29b2",
   "metadata": {},
   "outputs": [
    {
     "data": {
      "text/plain": [
       "4"
      ]
     },
     "execution_count": 12,
     "metadata": {},
     "output_type": "execute_result"
    }
   ],
   "source": [
    "math.floor(4.232) #  #greatest integer function- i.e largest integer lesser than a 'x'."
   ]
  },
  {
   "cell_type": "code",
   "execution_count": 13,
   "id": "c1d61e0d",
   "metadata": {},
   "outputs": [
    {
     "data": {
      "text/plain": [
       "23123.123123"
      ]
     },
     "execution_count": 13,
     "metadata": {},
     "output_type": "execute_result"
    }
   ],
   "source": [
    "math.fabs(-23123.123123)# returns the absolute values of a number."
   ]
  },
  {
   "cell_type": "code",
   "execution_count": 14,
   "id": "405911b5",
   "metadata": {},
   "outputs": [
    {
     "data": {
      "text/plain": [
       "120"
      ]
     },
     "execution_count": 14,
     "metadata": {},
     "output_type": "execute_result"
    }
   ],
   "source": [
    "math.factorial(5) #factorial of 'x'"
   ]
  },
  {
   "cell_type": "code",
   "execution_count": 15,
   "id": "6c56f8b4",
   "metadata": {},
   "outputs": [
    {
     "data": {
      "text/plain": [
       "2"
      ]
     },
     "execution_count": 15,
     "metadata": {},
     "output_type": "execute_result"
    }
   ],
   "source": [
    "math.gcd(563456356,2342) # Greatest Common Divisor "
   ]
  },
  {
   "cell_type": "code",
   "execution_count": 19,
   "id": "0c94f794",
   "metadata": {},
   "outputs": [
    {
     "data": {
      "text/plain": [
       "2.095903274289385"
      ]
     },
     "execution_count": 19,
     "metadata": {},
     "output_type": "execute_result"
    }
   ],
   "source": [
    "math.log(10,3) # log of 10 with base 3. by default gives natural log"
   ]
  },
  {
   "cell_type": "code",
   "execution_count": 21,
   "id": "f5da37f0",
   "metadata": {},
   "outputs": [
    {
     "data": {
      "text/plain": [
       "0.8509035245341184"
      ]
     },
     "execution_count": 21,
     "metadata": {},
     "output_type": "execute_result"
    }
   ],
   "source": [
    "math.sin(45) # value in radians "
   ]
  },
  {
   "cell_type": "code",
   "execution_count": 24,
   "id": "dd67b0b1",
   "metadata": {},
   "outputs": [
    {
     "data": {
      "text/plain": [
       "0.5253219888177297"
      ]
     },
     "execution_count": 24,
     "metadata": {},
     "output_type": "execute_result"
    }
   ],
   "source": [
    "math.cos(45)"
   ]
  },
  {
   "cell_type": "code",
   "execution_count": 25,
   "id": "b5e3d36e",
   "metadata": {},
   "outputs": [
    {
     "data": {
      "text/plain": [
       "1.6197751905438615"
      ]
     },
     "execution_count": 25,
     "metadata": {},
     "output_type": "execute_result"
    }
   ],
   "source": [
    "math.tan(45)"
   ]
  },
  {
   "cell_type": "code",
   "execution_count": 26,
   "id": "1767fdc5",
   "metadata": {},
   "outputs": [
    {
     "data": {
      "text/plain": [
       "92.806282178162"
      ]
     },
     "execution_count": 26,
     "metadata": {},
     "output_type": "execute_result"
    }
   ],
   "source": [
    "math.degrees(1.6197751905438615) # converts radians to degrees. "
   ]
  },
  {
   "cell_type": "code",
   "execution_count": 27,
   "id": "1b56e1b5",
   "metadata": {},
   "outputs": [
    {
     "data": {
      "text/plain": [
       "1.6197751905438615"
      ]
     },
     "execution_count": 27,
     "metadata": {},
     "output_type": "execute_result"
    }
   ],
   "source": [
    "math.radians(92.806282178162) # converts degrees to radians "
   ]
  },
  {
   "cell_type": "markdown",
   "id": "5594fa9e",
   "metadata": {},
   "source": [
    "## random Module -\n",
    "for random selection, number generations, and shuffling. "
   ]
  },
  {
   "cell_type": "code",
   "execution_count": 28,
   "id": "ef6c203d",
   "metadata": {},
   "outputs": [],
   "source": [
    "import random as rdm "
   ]
  },
  {
   "cell_type": "code",
   "execution_count": 30,
   "id": "f006ed55",
   "metadata": {},
   "outputs": [
    {
     "data": {
      "text/plain": [
       "0.04543211845739825"
      ]
     },
     "execution_count": 30,
     "metadata": {},
     "output_type": "execute_result"
    }
   ],
   "source": [
    "rdm.random()# return a random numebr from o to 1.0"
   ]
  },
  {
   "cell_type": "code",
   "execution_count": 31,
   "id": "6c8b761e",
   "metadata": {},
   "outputs": [
    {
     "data": {
      "text/plain": [
       "249"
      ]
     },
     "execution_count": 31,
     "metadata": {},
     "output_type": "execute_result"
    }
   ],
   "source": [
    "rdm.randint(123,321) # returns a random number between 123 and 321"
   ]
  },
  {
   "cell_type": "code",
   "execution_count": 32,
   "id": "97946203",
   "metadata": {},
   "outputs": [
    {
     "data": {
      "text/plain": [
       "145.91930311348733"
      ]
     },
     "execution_count": 32,
     "metadata": {},
     "output_type": "execute_result"
    }
   ],
   "source": [
    "rdm.uniform(123,321) # returns a random float."
   ]
  },
  {
   "cell_type": "code",
   "execution_count": 44,
   "id": "83328512",
   "metadata": {},
   "outputs": [
    {
     "name": "stdout",
     "output_type": "stream",
     "text": [
      "2\n",
      "[2, 6, 7]\n",
      "[7, 3, 4, 8, 1, 0, 6, 2, 5, 9]\n"
     ]
    }
   ],
   "source": [
    "l= [1,2,3,4,5,6,7,8,9,0]\n",
    "print(rdm.choice(l)) #returns a random choice from a sequence. \n",
    "print(rdm.choices(l,k=3)) # from 'l' returns a sequence of 'k=3' random elements.\n",
    "rdm.shuffle(l)# this shuffles the existing list without generating an output. \n",
    "print(l)"
   ]
  },
  {
   "cell_type": "code",
   "execution_count": 45,
   "id": "3ebc845d",
   "metadata": {},
   "outputs": [],
   "source": [
    "rdm.seed(123)#sets a seed fore reproducibility."
   ]
  },
  {
   "cell_type": "markdown",
   "id": "81713674",
   "metadata": {},
   "source": [
    "## collections : \n",
    "working with sequences."
   ]
  },
  {
   "cell_type": "code",
   "execution_count": 46,
   "id": "73770fbb",
   "metadata": {},
   "outputs": [],
   "source": [
    "import collections as clc"
   ]
  },
  {
   "cell_type": "code",
   "execution_count": null,
   "id": "a6b128e7",
   "metadata": {},
   "outputs": [],
   "source": []
  }
 ],
 "metadata": {
  "kernelspec": {
   "display_name": "Python 3",
   "language": "python",
   "name": "python3"
  },
  "language_info": {
   "codemirror_mode": {
    "name": "ipython",
    "version": 3
   },
   "file_extension": ".py",
   "mimetype": "text/x-python",
   "name": "python",
   "nbconvert_exporter": "python",
   "pygments_lexer": "ipython3",
   "version": "3.11.4"
  }
 },
 "nbformat": 4,
 "nbformat_minor": 5
}
