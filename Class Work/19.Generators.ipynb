{
 "cells": [
  {
   "cell_type": "code",
   "execution_count": 1,
   "id": "48810a02",
   "metadata": {},
   "outputs": [],
   "source": [
    "reels = ['1..100','101..200','201..300','301..400','401..500']"
   ]
  },
  {
   "cell_type": "code",
   "execution_count": null,
   "id": "c9422c1b",
   "metadata": {},
   "outputs": [],
   "source": [
    "def show_feed(l):\n",
    "    for i in l:\n",
    "        start,end = i.split('..')\n",
    "        reelsofi = [f'{i} - like, comment, share 'for i in range(int(start),int(end)) ]\n",
    "        yield reelsofi"
   ]
  }
 ],
 "metadata": {
  "kernelspec": {
   "display_name": "Python 3",
   "language": "python",
   "name": "python3"
  },
  "language_info": {
   "codemirror_mode": {
    "name": "ipython",
    "version": 3
   },
   "file_extension": ".py",
   "mimetype": "text/x-python",
   "name": "python",
   "nbconvert_exporter": "python",
   "pygments_lexer": "ipython3",
   "version": "3.11.4"
  }
 },
 "nbformat": 4,
 "nbformat_minor": 5
}
