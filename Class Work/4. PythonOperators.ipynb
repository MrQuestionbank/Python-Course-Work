{
 "cells": [
  {
   "cell_type": "code",
   "execution_count": 2,
   "id": "7f5515b8",
   "metadata": {},
   "outputs": [],
   "source": [
    "a = 10 \n",
    "b = 20 "
   ]
  },
  {
   "cell_type": "markdown",
   "id": "e232a9dc",
   "metadata": {},
   "source": [
    "### 1. Arithmetic Operators \n",
    "For calculations "
   ]
  },
  {
   "cell_type": "code",
   "execution_count": 5,
   "id": "5b8eb15e",
   "metadata": {},
   "outputs": [
    {
     "name": "stdout",
     "output_type": "stream",
     "text": [
      "30\n",
      "-10\n",
      "200\n",
      "0.5\n",
      "0\n",
      "10\n",
      "100000000000000000000\n"
     ]
    }
   ],
   "source": [
    "print(a+b) #addition\n",
    "print(a-b) #subtraction\n",
    "print(a*b) #multiplication\n",
    "print(a/b) #Division\n",
    "print(a//b) #Floor Division (greatest integer function)\n",
    "print(a%b) #give remainder\n",
    "print(a**b) #exponential "
   ]
  },
  {
   "cell_type": "markdown",
   "id": "b54c0b75",
   "metadata": {},
   "source": [
    "### 2. Comparison Operators \n",
    "Compares 2 values and returns True/ False."
   ]
  },
  {
   "cell_type": "code",
   "execution_count": 6,
   "id": "08ff0b80",
   "metadata": {},
   "outputs": [
    {
     "name": "stdout",
     "output_type": "stream",
     "text": [
      "False\n",
      "True\n",
      "False\n",
      "True\n",
      "False\n",
      "True\n"
     ]
    }
   ],
   "source": [
    "print(a==b) #equal to : to check if both values are equal.\n",
    "print(a!=b) #not equal to : to check of both values are not equal.\n",
    "print(a>b) #greater than : check if first value is greater. \n",
    "print(a<b) # less than : check if first values is smaller. \n",
    "print( a>=b) #greater than or equal to\n",
    "print(a<=b) #less than or equal to"
   ]
  },
  {
   "cell_type": "markdown",
   "id": "ea9d4aef",
   "metadata": {},
   "source": [
    "### 3. Assignment Operators \n",
    "To assign/update values in a variable(s)."
   ]
  },
  {
   "cell_type": "code",
   "execution_count": 10,
   "id": "8e19e665",
   "metadata": {},
   "outputs": [
    {
     "name": "stdout",
     "output_type": "stream",
     "text": [
      "5\n",
      "10\n",
      "5\n",
      "25\n",
      "5.0\n",
      "1.0\n",
      "1.0\n",
      "1.0\n"
     ]
    }
   ],
   "source": [
    "x = 5\n",
    "print(x)  # Assign\n",
    "\n",
    "x += 5\n",
    "print(x)  # Add and assign: x = x + 5\n",
    "\n",
    "x -= 5\n",
    "print(x)  # Subtract and assign: x = x - 5\n",
    "\n",
    "x *= 5\n",
    "print(x)  # Multiply and assign: x = x * 5\n",
    "\n",
    "x /= 5\n",
    "print(x)  # Divide and assign: x = x / 5\n",
    "\n",
    "x //= 3\n",
    "print(x)  # Floor divide and assign: x = x // 3\n",
    "\n",
    "x %= 3\n",
    "print(x)  # Modulus and assign: x = x % 3\n",
    "\n",
    "x **= 2\n",
    "print(x)  # Exponentiate and assign: x = x ** 2\n"
   ]
  },
  {
   "cell_type": "markdown",
   "id": "4df6b4c2",
   "metadata": {},
   "source": [
    "### 4. Logical Operators :\n",
    "Used to combine multiple conditions - and, or, not. Returns True/False accordingly."
   ]
  },
  {
   "cell_type": "code",
   "execution_count": 16,
   "id": "29a08ea3",
   "metadata": {},
   "outputs": [
    {
     "name": "stdout",
     "output_type": "stream",
     "text": [
      "a = 10, b = 20\n"
     ]
    }
   ],
   "source": [
    "print(f\"a = {a}, b = {b}\")"
   ]
  },
  {
   "cell_type": "code",
   "execution_count": null,
   "id": "1d80715d",
   "metadata": {},
   "outputs": [
    {
     "data": {
      "text/plain": [
       "False"
      ]
     },
     "execution_count": 17,
     "metadata": {},
     "output_type": "execute_result"
    }
   ],
   "source": [
    "a > 5  and b < 10  # AND:'True' only if both conditions are true"
   ]
  },
  {
   "cell_type": "code",
   "execution_count": null,
   "id": "90f8ed75",
   "metadata": {},
   "outputs": [
    {
     "data": {
      "text/plain": [
       "True"
      ]
     },
     "execution_count": 18,
     "metadata": {},
     "output_type": "execute_result"
    }
   ],
   "source": [
    "a > 5  or b < 10  # OR:'True' if atleast one condition is true"
   ]
  },
  {
   "cell_type": "code",
   "execution_count": null,
   "id": "c4df356d",
   "metadata": {},
   "outputs": [
    {
     "data": {
      "text/plain": [
       "True"
      ]
     },
     "execution_count": 19,
     "metadata": {},
     "output_type": "execute_result"
    }
   ],
   "source": [
    "not (a < 5)  # NOT:'True' if the condition is false i.e. reverses the condition(true becomes false and vice versa)"
   ]
  },
  {
   "cell_type": "markdown",
   "id": "34b19499",
   "metadata": {},
   "source": [
    "##### AND Gate Truth Table\n",
    "\n",
    "| A     | B     | A and B |\n",
    "|-------|-------|----------|\n",
    "| True  | True  | True     |\n",
    "| True  | False | False    |\n",
    "| False | True  | False    |\n",
    "| False | False | False    |\n",
    "\n",
    "\n",
    "##### OR Gate Truth Table\n",
    "\n",
    "| A     | B     | A or B  |\n",
    "|-------|-------|----------|\n",
    "| True  | True  | True     |\n",
    "| True  | False | True     |\n",
    "| False | True  | True     |\n",
    "| False | False | False    |\n",
    "\n",
    "\n",
    "##### NOT Gate Truth Table\n",
    "\n",
    "| A     | not A |\n",
    "|-------|--------|\n",
    "| True  | False  |\n",
    "| False | True   |\n"
   ]
  },
  {
   "cell_type": "markdown",
   "id": "04fb1480",
   "metadata": {},
   "source": [
    "### 5. Membership Operators : \n",
    "To check if a value is a member of sequence(list, tuple, string etc.)"
   ]
  },
  {
   "cell_type": "code",
   "execution_count": 21,
   "id": "e3915e6a",
   "metadata": {},
   "outputs": [
    {
     "data": {
      "text/plain": [
       "True"
      ]
     },
     "execution_count": 21,
     "metadata": {},
     "output_type": "execute_result"
    }
   ],
   "source": [
    "# in - 'True' if a value exists in the sequence.\n",
    "'a' in 'apple'"
   ]
  },
  {
   "cell_type": "code",
   "execution_count": 22,
   "id": "9feb88de",
   "metadata": {},
   "outputs": [
    {
     "data": {
      "text/plain": [
       "True"
      ]
     },
     "execution_count": 22,
     "metadata": {},
     "output_type": "execute_result"
    }
   ],
   "source": [
    "# not in - 'True' if the values doesn't exist in the sequence \n",
    "'x' not in 'apple'"
   ]
  },
  {
   "cell_type": "code",
   "execution_count": 24,
   "id": "42777283",
   "metadata": {},
   "outputs": [
    {
     "name": "stdout",
     "output_type": "stream",
     "text": [
      "True\n",
      "False\n"
     ]
    }
   ],
   "source": [
    "fruits = ['apple', 'banana', 'cherry']\n",
    "print('apple' in fruits )\n",
    "print('xylo' in fruits)"
   ]
  },
  {
   "cell_type": "markdown",
   "id": "9cfcad84",
   "metadata": {},
   "source": [
    "### 6. Identity Operators :\n",
    "To Check whether two variables refer to the same object in memory (memory-id/ memory. allocation is same)."
   ]
  },
  {
   "cell_type": "code",
   "execution_count": 29,
   "id": "8236df43",
   "metadata": {},
   "outputs": [
    {
     "name": "stdout",
     "output_type": "stream",
     "text": [
      "True\n",
      "False\n",
      "True\n"
     ]
    }
   ],
   "source": [
    "a = [1, 2, 3]\n",
    "b = a\n",
    "c = [1, 2, 3]\n",
    "print(a is b) # Output: True (Both refer to the same object)\n",
    "print(a is c) # Output: False (Different objects with the same content)\n",
    "print(a is not c) # Output: True"
   ]
  },
  {
   "cell_type": "markdown",
   "id": "bf5e872d",
   "metadata": {},
   "source": [
    "### 7. Bitwise Operators (With Binary Representation)"
   ]
  },
  {
   "cell_type": "markdown",
   "id": "a6056f9a",
   "metadata": {},
   "source": []
  }
 ],
 "metadata": {
  "kernelspec": {
   "display_name": "Python 3",
   "language": "python",
   "name": "python3"
  },
  "language_info": {
   "codemirror_mode": {
    "name": "ipython",
    "version": 3
   },
   "file_extension": ".py",
   "mimetype": "text/x-python",
   "name": "python",
   "nbconvert_exporter": "python",
   "pygments_lexer": "ipython3",
   "version": "3.11.4"
  }
 },
 "nbformat": 4,
 "nbformat_minor": 5
}
