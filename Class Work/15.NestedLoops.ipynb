{
 "cells": [
  {
   "cell_type": "code",
   "execution_count": null,
   "id": "0fa2a72a",
   "metadata": {},
   "outputs": [
    {
     "name": "stdout",
     "output_type": "stream",
     "text": [
      "0\n",
      "1\n",
      "2\n",
      "3\n",
      "4\n"
     ]
    }
   ],
   "source": [
    "#printing vertically\n",
    "for i in range(5):\n",
    "    print(i)"
   ]
  },
  {
   "cell_type": "code",
   "execution_count": null,
   "id": "67c1ae68",
   "metadata": {},
   "outputs": [
    {
     "name": "stdout",
     "output_type": "stream",
     "text": [
      "0 1 2 3 4 "
     ]
    }
   ],
   "source": [
    "#printing horizontally\n",
    "for i in range(5):\n",
    "    print(i, end = ' ')"
   ]
  },
  {
   "cell_type": "code",
   "execution_count": 6,
   "id": "8eadedba",
   "metadata": {},
   "outputs": [
    {
     "name": "stdout",
     "output_type": "stream",
     "text": [
      "0 1 2 3 4 \n",
      "0 1 2 3 4 \n",
      "0 1 2 3 4 \n"
     ]
    }
   ],
   "source": [
    "#printing horizontally with nested loops\n",
    "#01234 is printed thrice\n",
    "for i in range(3): #rows\n",
    "    for j in range(5): #columns\n",
    "        print(j, end=' ')\n",
    "    print() #new line after each row because of the print statement has default end='\\n'"
   ]
  },
  {
   "cell_type": "code",
   "execution_count": 8,
   "id": "98bb0ff5",
   "metadata": {},
   "outputs": [
    {
     "name": "stdout",
     "output_type": "stream",
     "text": [
      "* * * * * \n",
      "* * * * * \n",
      "* * * * * \n"
     ]
    }
   ],
   "source": [
    "for row in range(3): \n",
    "    for col in range(5):\n",
    "        print(\"*\", end = ' ')\n",
    "    print()"
   ]
  },
  {
   "cell_type": "code",
   "execution_count": 9,
   "id": "c802d271",
   "metadata": {},
   "outputs": [
    {
     "name": "stdout",
     "output_type": "stream",
     "text": [
      "* * \n",
      "* * \n",
      "* * \n"
     ]
    }
   ],
   "source": [
    "for row in range (3): \n",
    "    for col in range(2):\n",
    "        print(\"*\", end = ' ')\n",
    "    print()"
   ]
  },
  {
   "cell_type": "code",
   "execution_count": 10,
   "id": "142eca2e",
   "metadata": {},
   "outputs": [
    {
     "data": {
      "text/plain": [
       "' row = 0 1 2 \\ncol = 0 1\\n\\nrow = 0 \\n0 1\\n@ @\\nrow = 2\\n0 1\\n@ @\\n@ @\\n'"
      ]
     },
     "execution_count": 10,
     "metadata": {},
     "output_type": "execute_result"
    }
   ],
   "source": [
    "''' row = 0 1 2 \n",
    "col = 0 1\n",
    "\n",
    "row = 0 \n",
    "0 1\n",
    "@ @\n",
    "row = 2\n",
    "0 1\n",
    "@ @\n",
    "@ @\n",
    "'''"
   ]
  },
  {
   "cell_type": "code",
   "execution_count": 11,
   "id": "8b664649",
   "metadata": {},
   "outputs": [
    {
     "name": "stdout",
     "output_type": "stream",
     "text": [
      "@ @ @ @ @ \n",
      "@ @ @ @ @ \n",
      "@ @ @ @ @ \n",
      "@ @ @ @ @ \n",
      "@ @ @ @ @ \n"
     ]
    }
   ],
   "source": [
    "for i in range(5):\n",
    "    for j in range(5):\n",
    "        print(\"@\", end = \" \")\n",
    "    print()"
   ]
  },
  {
   "cell_type": "code",
   "execution_count": 13,
   "id": "a52e6154",
   "metadata": {},
   "outputs": [
    {
     "data": {
      "text/plain": [
       "'   0 1 2 3 4\\n    0 @ @ @ @ @\\n    1 @ @ @ @ @\\n    2 @ @ @ @ @\\n    3 @ @ @ @ @\\n    4 @ @ @ @ @'"
      ]
     },
     "execution_count": 13,
     "metadata": {},
     "output_type": "execute_result"
    }
   ],
   "source": [
    "'''   0 1 2 3 4\n",
    "    0 @ @ @ @ @\n",
    "    1 @ @ @ @ @\n",
    "    2 @ @ @ @ @\n",
    "    3 @ @ @ @ @\n",
    "    4 @ @ @ @ @'''"
   ]
  },
  {
   "cell_type": "code",
   "execution_count": 15,
   "id": "dcf21cd8",
   "metadata": {},
   "outputs": [
    {
     "name": "stdout",
     "output_type": "stream",
     "text": [
      "0 1 2 3 4 \n",
      "0 1 2 3 4 \n",
      "0 1 2 3 4 \n",
      "0 1 2 3 4 \n",
      "0 1 2 3 4 \n"
     ]
    }
   ],
   "source": [
    "for row in range(5):\n",
    "    for col in range(5):\n",
    "        print(col, end = ' ')\n",
    "\n",
    "    print()"
   ]
  },
  {
   "cell_type": "code",
   "execution_count": 18,
   "id": "aacf864e",
   "metadata": {},
   "outputs": [
    {
     "name": "stdout",
     "output_type": "stream",
     "text": [
      "0 0 0 \n",
      "1 1 1 \n",
      "2 2 2 \n",
      "3 3 3 \n",
      "4 4 4 \n"
     ]
    }
   ],
   "source": [
    "for row in range (5): #no of rows \n",
    "# 0 1 2 3 4\n",
    "    for col in range(3): #no of columns\n",
    "        # 0 1 2\n",
    "        print(row, end = ' ')\n",
    "    print()"
   ]
  },
  {
   "cell_type": "code",
   "execution_count": null,
   "id": "914b7d44",
   "metadata": {},
   "outputs": [
    {
     "name": "stdout",
     "output_type": "stream",
     "text": [
      "0 \n",
      "1 1 \n",
      "2 2 2 \n",
      "3 3 3 3 \n",
      "4 4 4 4 4 \n"
     ]
    }
   ],
   "source": [
    "for row in range(5): \n",
    "    for col in range(row+1): #row +1 = when row = 0 increases col = 1\n",
    "        print(row, end = ' ')\n",
    "    print()"
   ]
  },
  {
   "cell_type": "code",
   "execution_count": 24,
   "id": "85f963a4",
   "metadata": {},
   "outputs": [
    {
     "name": "stdout",
     "output_type": "stream",
     "text": [
      "* \n",
      "* * \n",
      "* * * \n",
      "* * * * \n",
      "* * * * * \n",
      "* * * * * * \n",
      "* * * * * * * \n",
      "* * * * * * * * \n",
      "* * * * * * * * * \n",
      "* * * * * * * * * * \n",
      "* * * * * * * * * * * \n",
      "* * * * * * * * * * * * \n",
      "* * * * * * * * * * * * * \n",
      "* * * * * * * * * * * * * * \n",
      "* * * * * * * * * * * * * * * \n"
     ]
    }
   ],
   "source": [
    "n = int(input(\"Enter a number: \"))\n",
    "for i in range(n):\n",
    "    for j in range(i+1):\n",
    "        print(\"*\", end = ' ')\n",
    "    print()"
   ]
  },
  {
   "cell_type": "code",
   "execution_count": 25,
   "id": "e14b1b8d",
   "metadata": {},
   "outputs": [
    {
     "name": "stdout",
     "output_type": "stream",
     "text": [
      "* * * * * * * * * * * * * * * \n",
      "* * * * * * * * * * * * * * \n",
      "* * * * * * * * * * * * * \n",
      "* * * * * * * * * * * * \n",
      "* * * * * * * * * * * \n",
      "* * * * * * * * * * \n",
      "* * * * * * * * * \n",
      "* * * * * * * * \n",
      "* * * * * * * \n",
      "* * * * * * \n",
      "* * * * * \n",
      "* * * * \n",
      "* * * \n",
      "* * \n",
      "* \n"
     ]
    }
   ],
   "source": [
    "n = int(input(\"Enter a number: \"))\n",
    "for row in range(n):\n",
    "    for col in range(n-row):\n",
    "        print(\"*\", end = ' ')\n",
    "    print()"
   ]
  },
  {
   "cell_type": "code",
   "execution_count": 26,
   "id": "6ae28bae",
   "metadata": {},
   "outputs": [
    {
     "data": {
      "text/plain": [
       "'\\nX 0 1 2 3 4 \\n0          *\\n1        * *\\n2      * * *\\n3    * * * *\\n4  * * * * *'"
      ]
     },
     "execution_count": 26,
     "metadata": {},
     "output_type": "execute_result"
    }
   ],
   "source": [
    "\"\"\"\n",
    "X 0 1 2 3 4 \n",
    "0          *\n",
    "1        * *\n",
    "2      * * *\n",
    "3    * * * *\n",
    "4  * * * * *\"\"\""
   ]
  },
  {
   "cell_type": "code",
   "execution_count": 27,
   "id": "c1e25a45",
   "metadata": {},
   "outputs": [
    {
     "name": "stdout",
     "output_type": "stream",
     "text": [
      "        * \n",
      "      * * \n",
      "    * * * \n",
      "  * * * * \n",
      "* * * * * \n"
     ]
    }
   ],
   "source": [
    "n = int(input(\"Enter a number: \"))\n",
    "for row in range(n):\n",
    "    for col_space in range(n-row-1):\n",
    "        print(\" \", end = ' ')\n",
    "    for col_star in range(row+1):\n",
    "        print(\"*\", end = ' ')\n",
    "    print()"
   ]
  },
  {
   "cell_type": "code",
   "execution_count": 31,
   "id": "165befac",
   "metadata": {},
   "outputs": [
    {
     "name": "stdout",
     "output_type": "stream",
     "text": [
      "               * \n",
      "              ** \n",
      "             *** \n",
      "            **** \n",
      "           ***** \n",
      "          ****** \n",
      "         ******* \n",
      "        ******** \n",
      "       ********* \n",
      "      ********** \n",
      "     *********** \n",
      "    ************ \n",
      "   ************* \n",
      "  ************** \n",
      " *************** \n"
     ]
    }
   ],
   "source": [
    "n = int(input(\"Enter a number: \"))\n",
    "for row in range(n):\n",
    "    print(\" \"*(n-row-1), end = ' ')\n",
    "    print(\"*\"*(row+1), end = ' ')\n",
    "    print()"
   ]
  },
  {
   "cell_type": "code",
   "execution_count": 28,
   "id": "6e3ddbea",
   "metadata": {},
   "outputs": [
    {
     "data": {
      "text/plain": [
       "'\\nX 0 1 2 3 4\\n0 * * * * *\\n1   * * * *\\n2     * * *\\n3       * *\\n4         *'"
      ]
     },
     "execution_count": 28,
     "metadata": {},
     "output_type": "execute_result"
    }
   ],
   "source": [
    "# HW \n",
    "'''\n",
    "X 0 1 2 3 4\n",
    "0 * * * * *\n",
    "1   * * * *\n",
    "2     * * *\n",
    "3       * *\n",
    "4         *'''\n"
   ]
  },
  {
   "cell_type": "code",
   "execution_count": 2,
   "id": "c851678a",
   "metadata": {},
   "outputs": [
    {
     "name": "stdout",
     "output_type": "stream",
     "text": [
      "* * * * * \n",
      "  * * * * \n",
      "    * * * \n",
      "      * * \n",
      "        * \n"
     ]
    }
   ],
   "source": [
    "n = int(input(\"Enter the size of the pattern: \"))\n",
    "for row in range(n):\n",
    "    for col_space in range(row):\n",
    "        print(\" \", end = ' ')\n",
    "    for col_star in range(n-row):\n",
    "        print(\"*\", end = ' ')\n",
    "    print()"
   ]
  },
  {
   "cell_type": "code",
   "execution_count": null,
   "id": "e10dc45f",
   "metadata": {},
   "outputs": [
    {
     "name": "stdout",
     "output_type": "stream",
     "text": [
      "  ***** \n",
      "   **** \n",
      "    *** \n",
      "     ** \n",
      "      * \n"
     ]
    }
   ],
   "source": [
    "#alternative \n",
    "n = int(input(\"Enter the size of the pattern: \"))\n",
    "for row in range(n):\n",
    "    print(\" \"*row, end = '  ')\n",
    "    print(\"*\"*(n-row), end = ' ')\n",
    "    print()"
   ]
  },
  {
   "cell_type": "code",
   "execution_count": 33,
   "id": "ba411791",
   "metadata": {},
   "outputs": [
    {
     "data": {
      "text/plain": [
       "'\\nX 0 1 2 3 4\\n0 *\\n1 * * \\n2 * * *\\n3 * * * *\\n4 * * * * *\\n5 * * * *\\n6 * * *\\n7 * *\\n8 *'"
      ]
     },
     "execution_count": 33,
     "metadata": {},
     "output_type": "execute_result"
    }
   ],
   "source": [
    "#HW\n",
    "'''\n",
    "X 0 1 2 3 4\n",
    "0 *\n",
    "1 * * \n",
    "2 * * *\n",
    "3 * * * *\n",
    "4 * * * * *\n",
    "5 * * * *\n",
    "6 * * *\n",
    "7 * *\n",
    "8 *'''"
   ]
  },
  {
   "cell_type": "code",
   "execution_count": 13,
   "id": "c52d3cf6",
   "metadata": {},
   "outputs": [
    {
     "name": "stdout",
     "output_type": "stream",
     "text": [
      "*  \n",
      "**  \n",
      "***  \n",
      "****  \n",
      "*****  \n",
      "**** \n",
      "*** \n",
      "** \n",
      "* \n"
     ]
    }
   ],
   "source": [
    "n = int(input(\"Enter the size of the pattern: \"))\n",
    "for row in range(n):\n",
    "    if row <=n//2:\n",
    "        print(\"*\"*(row+1), end = '  ')\n",
    "    else:\n",
    "        print(\"*\"*(n-row), end = ' ')\n",
    "    print()"
   ]
  },
  {
   "cell_type": "code",
   "execution_count": 1,
   "id": "cba7f646",
   "metadata": {},
   "outputs": [
    {
     "data": {
      "text/plain": [
       "'\\nx 0 1 2 3 4\\n0 * * * * *\\n1 *       *\\n2 *       *\\n3 *       *\\n4 * * * * *\\n'"
      ]
     },
     "execution_count": 1,
     "metadata": {},
     "output_type": "execute_result"
    }
   ],
   "source": [
    "'''\n",
    "x 0 1 2 3 4\n",
    "0 * * * * *\n",
    "1 *       *\n",
    "2 *       *\n",
    "3 *       *\n",
    "4 * * * * *\n",
    "'''"
   ]
  },
  {
   "cell_type": "code",
   "execution_count": 8,
   "id": "8291bead",
   "metadata": {},
   "outputs": [
    {
     "name": "stdout",
     "output_type": "stream",
     "text": [
      "* * * * * \n",
      "*       * \n",
      "*       * \n",
      "*       * \n",
      "* * * * * \n"
     ]
    }
   ],
   "source": [
    "n = int(input(\"Enter size :\"))\n",
    "for row in range(n):\n",
    "    # top and bottom lines\n",
    "    for col in range(n):\n",
    "        if row == 0 or row == n-1 or col == 0 or col == n-1: \n",
    "            print(\"*\", end = ' ')\n",
    "        else : \n",
    "            print(\" \", end = \" \")\n",
    "    print()\n"
   ]
  },
  {
   "cell_type": "code",
   "execution_count": 9,
   "id": "2e3d2e52",
   "metadata": {},
   "outputs": [
    {
     "data": {
      "text/plain": [
       "'\\nx 0 1 2 3 4\\n0 * * * * *\\n1 *       *\\n2 * * * * *\\n3 *       *\\n4 * * * * *\\n'"
      ]
     },
     "execution_count": 9,
     "metadata": {},
     "output_type": "execute_result"
    }
   ],
   "source": [
    "'''\n",
    "x 0 1 2 3 4\n",
    "0 * * * * *\n",
    "1 *       *\n",
    "2 * * * * *\n",
    "3 *       *\n",
    "4 * * * * *\n",
    "'''"
   ]
  },
  {
   "cell_type": "code",
   "execution_count": null,
   "id": "051a5f2e",
   "metadata": {},
   "outputs": [
    {
     "name": "stdout",
     "output_type": "stream",
     "text": [
      "* * * * * \n",
      "*       * \n",
      "* * * * * \n",
      "*       * \n",
      "* * * * * \n"
     ]
    }
   ],
   "source": [
    "n = int(input(\"Enter size : \"))\n",
    "for row in range(n):\n",
    "    for col in range(n):\n",
    "        if row == 0 or row == n//2 or row == n-1 or col == 0 or col == n-1:\n",
    "            print(\"*\", end = ' ')\n",
    "        else: \n",
    "            print(\" \", end = ' ')\n",
    "    print()"
   ]
  },
  {
   "cell_type": "code",
   "execution_count": 11,
   "id": "5affe4b1",
   "metadata": {},
   "outputs": [
    {
     "data": {
      "text/plain": [
       "'\\nx 0 1 2 3 4\\n0 * * * * *\\n1 *   *   *\\n2 * * * * *\\n3 *   *   *\\n4 * * * * *\\n'"
      ]
     },
     "execution_count": 11,
     "metadata": {},
     "output_type": "execute_result"
    }
   ],
   "source": [
    "'''\n",
    "x 0 1 2 3 4\n",
    "0 * * * * *\n",
    "1 *   *   *\n",
    "2 * * * * *\n",
    "3 *   *   *\n",
    "4 * * * * *\n",
    "'''"
   ]
  },
  {
   "cell_type": "code",
   "execution_count": null,
   "id": "338446c4",
   "metadata": {},
   "outputs": [
    {
     "name": "stdout",
     "output_type": "stream",
     "text": [
      "* * * * * \n",
      "*   *   * \n",
      "* * * * * \n",
      "*   *   * \n",
      "* * * * * \n"
     ]
    }
   ],
   "source": [
    "n = int(input(\"Enter size : \"))\n",
    "for row in range(n):\n",
    "    for col in range(n):\n",
    "        if row == 0 or row == n//2 or row == n-1 or col == 0 or col == n-1 or col == n//2:\n",
    "            print(\"*\", end = ' ')\n",
    "        else: \n",
    "            print(\" \", end = ' ')\n",
    "    print()"
   ]
  },
  {
   "cell_type": "code",
   "execution_count": 13,
   "id": "ac7d07a4",
   "metadata": {},
   "outputs": [
    {
     "data": {
      "text/plain": [
       "'\\nx 0 1 2 3 4\\n0 * * * * *\\n1 *   *   *\\n2 *   *   *\\n3 *   *   *\\n4 * * * * *\\n'"
      ]
     },
     "execution_count": 13,
     "metadata": {},
     "output_type": "execute_result"
    }
   ],
   "source": [
    "'''\n",
    "x 0 1 2 3 4\n",
    "0 * * * * *\n",
    "1 *   *   *\n",
    "2 *   *   *\n",
    "3 *   *   *\n",
    "4 * * * * *\n",
    "'''"
   ]
  },
  {
   "cell_type": "code",
   "execution_count": 14,
   "id": "488c7536",
   "metadata": {},
   "outputs": [
    {
     "name": "stdout",
     "output_type": "stream",
     "text": [
      "* * * * * \n",
      "*   *   * \n",
      "*   *   * \n",
      "*   *   * \n",
      "* * * * * \n"
     ]
    }
   ],
   "source": [
    "n = int(input(\"Enter size : \"))\n",
    "for row in range(n):\n",
    "    for col in range(n):\n",
    "        if row == 0 or row == n-1 or col == 0 or col == n-1 or col == n//2:\n",
    "            print(\"*\", end = ' ')\n",
    "        else: \n",
    "            print(\" \", end = ' ')\n",
    "    print()"
   ]
  },
  {
   "cell_type": "code",
   "execution_count": 15,
   "id": "e1f274e2",
   "metadata": {},
   "outputs": [
    {
     "data": {
      "text/plain": [
       "'\\nx 0 1 2 3 4\\n0 * * * * *\\n1       *\\n2     *   \\n3   *   \\n4 * * * * *\\n'"
      ]
     },
     "execution_count": 15,
     "metadata": {},
     "output_type": "execute_result"
    }
   ],
   "source": [
    "'''\n",
    "x 0 1 2 3 4\n",
    "0 * * * * *\n",
    "1       *\n",
    "2     *   \n",
    "3   *   \n",
    "4 * * * * *\n",
    "'''"
   ]
  },
  {
   "cell_type": "code",
   "execution_count": 16,
   "id": "6dfb4bef",
   "metadata": {},
   "outputs": [
    {
     "name": "stdout",
     "output_type": "stream",
     "text": [
      "* * * * * \n",
      "      *   \n",
      "    *     \n",
      "  *       \n",
      "* * * * * \n"
     ]
    }
   ],
   "source": [
    "n = int(input(\"Enter size :\"))\n",
    "for row in range(n): \n",
    "    for col in range(n):\n",
    "        if row == 0 or row == n-1 or row+col == 4:\n",
    "            print(\"*\", end = \" \")\n",
    "        else: \n",
    "            print(\" \", end =\" \")\n",
    "    print()"
   ]
  },
  {
   "cell_type": "code",
   "execution_count": 17,
   "id": "f664b83d",
   "metadata": {},
   "outputs": [
    {
     "data": {
      "text/plain": [
       "'\\nx 0 1 2 3 4\\n0 *       *\\n1   *   *\\n2     *   \\n3   *   *\\n4 *       *\\n'"
      ]
     },
     "execution_count": 17,
     "metadata": {},
     "output_type": "execute_result"
    }
   ],
   "source": [
    "'''\n",
    "x 0 1 2 3 4\n",
    "0 *       *\n",
    "1   *   *\n",
    "2     *   \n",
    "3   *   *\n",
    "4 *       *\n",
    "'''"
   ]
  },
  {
   "cell_type": "code",
   "execution_count": 20,
   "id": "aa8f3634",
   "metadata": {},
   "outputs": [
    {
     "name": "stdout",
     "output_type": "stream",
     "text": [
      "*       * \n",
      "  *   *   \n",
      "    *     \n",
      "  *   *   \n",
      "*       * \n"
     ]
    }
   ],
   "source": [
    "for row in range(n): \n",
    "    for col in range(n):\n",
    "        if row == col or row+col== n-1:\n",
    "            print(\"*\", end = ' ')\n",
    "        else: \n",
    "            print(\" \", end =' ')\n",
    "    print()"
   ]
  },
  {
   "cell_type": "code",
   "execution_count": 36,
   "id": "578c6d10",
   "metadata": {},
   "outputs": [
    {
     "name": "stdout",
     "output_type": "stream",
     "text": [
      "* * * * * * * * * * \n",
      "          *         \n",
      "          *         \n",
      "          *         \n",
      "          *         \n",
      "          *         \n",
      "          *         \n",
      "          *         \n",
      "          *         \n",
      "          *         \n"
     ]
    }
   ],
   "source": [
    "# Write your name : TARIT \n",
    "n = int(input(\"Enter size :\"))\n",
    "# T \n",
    "for row in range(n):\n",
    "    for col in range(n):\n",
    "        if row == 0 or col == n//2: \n",
    "            print(\"*\", end= \" \")\n",
    "        else: \n",
    "            print(\" \", end = ' ')\n",
    "    print()\n"
   ]
  },
  {
   "cell_type": "code",
   "execution_count": 37,
   "id": "6a65c7d3",
   "metadata": {},
   "outputs": [
    {
     "name": "stdout",
     "output_type": "stream",
     "text": [
      "* * * * * * * * * * \n",
      "*                 * \n",
      "*                 * \n",
      "*                 * \n",
      "*                 * \n",
      "* * * * * * * * * * \n",
      "*                 * \n",
      "*                 * \n",
      "*                 * \n",
      "*                 * \n"
     ]
    }
   ],
   "source": [
    "\n",
    "# A \n",
    "for row in range(n):\n",
    "    for col in range(n):\n",
    "        if row == n//2 or col == 0 or row == 0 or col == n-1 : \n",
    "            print(\"*\", end= \" \")\n",
    "        else: \n",
    "            print(\" \", end = ' ')\n",
    "    print()\n",
    "\n"
   ]
  },
  {
   "cell_type": "code",
   "execution_count": null,
   "id": "682b0e14",
   "metadata": {},
   "outputs": [
    {
     "name": "stdout",
     "output_type": "stream",
     "text": [
      "* * * * * * * * * * * * * * * \n",
      "*                           * \n",
      "*                           * \n",
      "*                           * \n",
      "*                           * \n",
      "*                           * \n",
      "*                           * \n",
      "* * * * * * * * * * * * * * * \n",
      "*                             \n",
      "*                             \n",
      "*                             \n",
      "*                             \n",
      "*                             \n",
      "*                             \n",
      "*                             \n"
     ]
    }
   ],
   "source": [
    "# R \n",
    "n = int(input(\"Enter size :\"))\n",
    "for row in range(n):\n",
    "    for col in range(n):\n",
    "        if row == n//2 or col == 0 or row == 0: \n",
    "            print(\"*\", end= \" \")\n",
    "        elif row < n//2 and col == n-1:\n",
    "            print(\"*\", end= \" \")\n",
    "            \n",
    "        else: \n",
    "            print(\" \", end = ' ')\n",
    "    print()"
   ]
  },
  {
   "cell_type": "code",
   "execution_count": 1,
   "id": "808f73d4",
   "metadata": {},
   "outputs": [
    {
     "data": {
      "text/plain": [
       "'\\n* * * * * * * * \\n*               *\\n*               *\\n*               *\\n*               *\\n* * * * * * * * \\n*               *\\n*               *\\n*               *\\n*               *'"
      ]
     },
     "execution_count": 1,
     "metadata": {},
     "output_type": "execute_result"
    }
   ],
   "source": [
    "'''\n",
    "* * * * * * * * \n",
    "*               *\n",
    "*               *\n",
    "*               *\n",
    "*               *\n",
    "* * * * * * * * \n",
    "*               *\n",
    "*               *\n",
    "*               *\n",
    "*               *'''"
   ]
  },
  {
   "cell_type": "code",
   "execution_count": 48,
   "id": "c370e078",
   "metadata": {},
   "outputs": [
    {
     "name": "stdout",
     "output_type": "stream",
     "text": [
      "* * * * * * * * * * \n",
      "          *         \n",
      "          *         \n",
      "          *         \n",
      "          *         \n",
      "          *         \n",
      "          *         \n",
      "          *         \n",
      "          *         \n",
      "* * * * * * * * * * \n"
     ]
    }
   ],
   "source": [
    "# I \n",
    "for row in range(n):\n",
    "    for col in range(n):\n",
    "        if row == n-1 or row == 0 or col == n//2 : \n",
    "            print(\"*\", end= \" \")\n",
    "        else: \n",
    "            print(\" \", end = ' ')\n",
    "    print()"
   ]
  },
  {
   "cell_type": "code",
   "execution_count": null,
   "id": "07904547",
   "metadata": {},
   "outputs": [],
   "source": []
  }
 ],
 "metadata": {
  "kernelspec": {
   "display_name": "Python 3",
   "language": "python",
   "name": "python3"
  },
  "language_info": {
   "codemirror_mode": {
    "name": "ipython",
    "version": 3
   },
   "file_extension": ".py",
   "mimetype": "text/x-python",
   "name": "python",
   "nbconvert_exporter": "python",
   "pygments_lexer": "ipython3",
   "version": "3.11.4"
  }
 },
 "nbformat": 4,
 "nbformat_minor": 5
}
