{
 "cells": [
  {
   "cell_type": "markdown",
   "id": "e9f0324e",
   "metadata": {},
   "source": [
    "# Modules -\n",
    "----\n",
    "Modules are files in python that contain reusable code. They can define functions, classes, and variables that you can use in your programs.Saved with a `.py` extension.\n",
    "\n"
   ]
  },
  {
   "cell_type": "code",
   "execution_count": 6,
   "id": "6c0e36ed",
   "metadata": {},
   "outputs": [
    {
     "name": "stdout",
     "output_type": "stream",
     "text": [
      "-3\n"
     ]
    }
   ],
   "source": [
    "import operators as opr\n",
    "a = int(input(\"Enter a : \"))\n",
    "b = int(input(\"Enter b: \"))\n",
    "\n",
    "op = input(\"Enter the operations (+-*/%): \")\n",
    "\n",
    "if op == '+':\n",
    "    opr.add(a,b)\n",
    "elif op == '-':\n",
    "    opr.sub(a,b)\n",
    "elif op =='/':\n",
    "    opr.div(a,b)\n",
    "elif op == '*':\n",
    "    opr.mull(a,b)"
   ]
  },
  {
   "cell_type": "code",
   "execution_count": null,
   "id": "03b486e4",
   "metadata": {},
   "outputs": [],
   "source": []
  }
 ],
 "metadata": {
  "kernelspec": {
   "display_name": "Python 3",
   "language": "python",
   "name": "python3"
  },
  "language_info": {
   "codemirror_mode": {
    "name": "ipython",
    "version": 3
   },
   "file_extension": ".py",
   "mimetype": "text/x-python",
   "name": "python",
   "nbconvert_exporter": "python",
   "pygments_lexer": "ipython3",
   "version": "3.11.4"
  }
 },
 "nbformat": 4,
 "nbformat_minor": 5
}
