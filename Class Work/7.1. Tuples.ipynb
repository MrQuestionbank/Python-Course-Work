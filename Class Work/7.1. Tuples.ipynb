{
 "cells": [
  {
   "cell_type": "markdown",
   "id": "f082c7a0",
   "metadata": {},
   "source": [
    "## Tuples - \n",
    "- Immutable (similar to list but cant be changed)\n",
    "- ordered \n",
    "- heterogeneous \n",
    "- Faster since immutable \n",
    "- Used for efficiency in memory"
   ]
  },
  {
   "cell_type": "code",
   "execution_count": 1,
   "id": "26635670",
   "metadata": {},
   "outputs": [
    {
     "data": {
      "text/plain": [
       "tuple"
      ]
     },
     "execution_count": 1,
     "metadata": {},
     "output_type": "execute_result"
    }
   ],
   "source": [
    "# Defining a Tuple \n",
    "t =()\n",
    "t =tuple()\n",
    "type (t)"
   ]
  },
  {
   "cell_type": "code",
   "execution_count": 2,
   "id": "57685275",
   "metadata": {},
   "outputs": [],
   "source": [
    "# Creating a Tuple with various types of values i.e. Heterogeneous\n",
    "t = (1, 2.5, \"Hello\", True, 4+3j, {1,2.3},{\"name\" : \"John\", \"age\": 30})"
   ]
  },
  {
   "cell_type": "code",
   "execution_count": 3,
   "id": "69f41901",
   "metadata": {},
   "outputs": [
    {
     "data": {
      "text/plain": [
       "True"
      ]
     },
     "execution_count": 3,
     "metadata": {},
     "output_type": "execute_result"
    }
   ],
   "source": [
    "# accessing elements of a tuple\n",
    "t[3]  # Accessing the 4th element (index 3)"
   ]
  },
  {
   "cell_type": "code",
   "execution_count": 4,
   "id": "251789d3",
   "metadata": {},
   "outputs": [
    {
     "data": {
      "text/plain": [
       "{'name': 'John', 'age': 30}"
      ]
     },
     "execution_count": 4,
     "metadata": {},
     "output_type": "execute_result"
    }
   ],
   "source": [
    "t[6]"
   ]
  },
  {
   "cell_type": "code",
   "execution_count": 6,
   "id": "29df09fe",
   "metadata": {},
   "outputs": [
    {
     "data": {
      "text/plain": [
       "(1, 2.5, 'Hello')"
      ]
     },
     "execution_count": 6,
     "metadata": {},
     "output_type": "execute_result"
    }
   ],
   "source": [
    "t[:3] # Slicing the first three elements"
   ]
  },
  {
   "cell_type": "code",
   "execution_count": 7,
   "id": "192efde5",
   "metadata": {},
   "outputs": [
    {
     "data": {
      "text/plain": [
       "({'name': 'John', 'age': 30}, {1, 2.3}, (4+3j), True, 'Hello', 2.5, 1)"
      ]
     },
     "execution_count": 7,
     "metadata": {},
     "output_type": "execute_result"
    }
   ],
   "source": [
    "t[::-1]  # Reversing the tuple"
   ]
  },
  {
   "cell_type": "code",
   "execution_count": 11,
   "id": "aec2f164",
   "metadata": {},
   "outputs": [
    {
     "data": {
      "text/plain": [
       "(1, 2, 3, 4, 4, 5, 6, 'Tarit')"
      ]
     },
     "execution_count": 11,
     "metadata": {},
     "output_type": "execute_result"
    }
   ],
   "source": [
    "# Concatenating tuples\n",
    "t1 = (1, 2, 3,4)\n",
    "t2 = (4, 5, 6, \"Tarit\")\n",
    "t3 = t1 + t2  # Concatenation\n",
    "t3"
   ]
  },
  {
   "cell_type": "code",
   "execution_count": 14,
   "id": "5d105019",
   "metadata": {},
   "outputs": [
    {
     "data": {
      "text/plain": [
       "(1, 2.5, 'Hello', 1, 2.5, 'Hello', 1, 2.5, 'Hello')"
      ]
     },
     "execution_count": 14,
     "metadata": {},
     "output_type": "execute_result"
    }
   ],
   "source": [
    "# Repeatition\n",
    "t[:3] * 3 # Repeating the first three elements three times"
   ]
  },
  {
   "cell_type": "code",
   "execution_count": 15,
   "id": "d9f040c6",
   "metadata": {},
   "outputs": [
    {
     "data": {
      "text/plain": [
       "True"
      ]
     },
     "execution_count": 15,
     "metadata": {},
     "output_type": "execute_result"
    }
   ],
   "source": [
    "#membership\n",
    "\"Tarit\" in t3  # Checking if \"Tarit\" is in the tuple"
   ]
  },
  {
   "cell_type": "code",
   "execution_count": 16,
   "id": "e367f973",
   "metadata": {},
   "outputs": [
    {
     "name": "stdout",
     "output_type": "stream",
     "text": [
      "1\n",
      "2\n",
      "3\n",
      "Hello\n"
     ]
    }
   ],
   "source": [
    "# Packing and Unpacking\n",
    "# Packing\n",
    "packed_tuple = (1, 2, 3, \"Hello\")\n",
    "# Unpacking\n",
    "a, b, c, d = packed_tuple\n",
    "print(a)  # 1\n",
    "print(b)  # 2\n",
    "print(c)  # 3\n",
    "print(d)  # Hello"
   ]
  },
  {
   "cell_type": "code",
   "execution_count": 17,
   "id": "e45bca0b",
   "metadata": {},
   "outputs": [
    {
     "name": "stdout",
     "output_type": "stream",
     "text": [
      "tarit\n",
      "python\n",
      "14\n"
     ]
    }
   ],
   "source": [
    "data = (\"tarit\", \"python\", \"14\")\n",
    "name, subject, age = data\n",
    "print(name)\n",
    "print(subject)\n",
    "print(age)"
   ]
  },
  {
   "cell_type": "code",
   "execution_count": 18,
   "id": "f7e9a87b",
   "metadata": {},
   "outputs": [
    {
     "name": "stdout",
     "output_type": "stream",
     "text": [
      "(1, 2, 3, 4)\n"
     ]
    }
   ],
   "source": [
    "# Converting a list to a tuple\n",
    "my_list = [1, 2, 3, 4]\n",
    "my_tuple = tuple(my_list)\n",
    "print(my_tuple)  "
   ]
  },
  {
   "cell_type": "code",
   "execution_count": 19,
   "id": "3b7dc282",
   "metadata": {},
   "outputs": [],
   "source": [
    "t =(1,2,3,4,[1,2,3])"
   ]
  },
  {
   "cell_type": "code",
   "execution_count": 20,
   "id": "e94fa38a",
   "metadata": {},
   "outputs": [
    {
     "ename": "AttributeError",
     "evalue": "'tuple' object has no attribute 'append'",
     "output_type": "error",
     "traceback": [
      "\u001b[31m---------------------------------------------------------------------------\u001b[39m",
      "\u001b[31mAttributeError\u001b[39m                            Traceback (most recent call last)",
      "\u001b[36mCell\u001b[39m\u001b[36m \u001b[39m\u001b[32mIn[20]\u001b[39m\u001b[32m, line 1\u001b[39m\n\u001b[32m----> \u001b[39m\u001b[32m1\u001b[39m \u001b[43mt\u001b[49m\u001b[43m.\u001b[49m\u001b[43mappend\u001b[49m(\u001b[32m3\u001b[39m)\n",
      "\u001b[31mAttributeError\u001b[39m: 'tuple' object has no attribute 'append'"
     ]
    }
   ],
   "source": [
    "t.append(3)"
   ]
  },
  {
   "cell_type": "code",
   "execution_count": 23,
   "id": "f2f3b784",
   "metadata": {},
   "outputs": [
    {
     "data": {
      "text/plain": [
       "(1, 2, 3, 4, [1, 2, 3, 9])"
      ]
     },
     "execution_count": 23,
     "metadata": {},
     "output_type": "execute_result"
    }
   ],
   "source": [
    "t[4].append(9)  # Appending to the list inside the tuple\n",
    "t"
   ]
  },
  {
   "cell_type": "markdown",
   "id": "d0204720",
   "metadata": {},
   "source": [
    "#### Advantages of a Tuple: \n",
    "- Immutable \n",
    "- Faster - memory efficient\n",
    "- Hashable - Can be used as keys in a dictionary\n",
    "- Data Intergrity - ideal for storing a constant data "
   ]
  },
  {
   "cell_type": "code",
   "execution_count": 24,
   "id": "ad75c21b",
   "metadata": {},
   "outputs": [
    {
     "data": {
      "text/plain": [
       "{'name': 'Tarit', 'subject': 'Python', 'age': 14}"
      ]
     },
     "execution_count": 24,
     "metadata": {},
     "output_type": "execute_result"
    }
   ],
   "source": [
    "# Hashable\n",
    "t = [(\"name\", \"Tarit\"), (\"subject\", \"Python\"), (\"age\", 14)] #tuples wrapped in a list\n",
    "dict(t)  # Converting list of tuples to a dictionary"
   ]
  },
  {
   "cell_type": "code",
   "execution_count": null,
   "id": "d88cf5f9",
   "metadata": {},
   "outputs": [],
   "source": []
  }
 ],
 "metadata": {
  "kernelspec": {
   "display_name": "Python 3",
   "language": "python",
   "name": "python3"
  },
  "language_info": {
   "codemirror_mode": {
    "name": "ipython",
    "version": 3
   },
   "file_extension": ".py",
   "mimetype": "text/x-python",
   "name": "python",
   "nbconvert_exporter": "python",
   "pygments_lexer": "ipython3",
   "version": "3.11.4"
  }
 },
 "nbformat": 4,
 "nbformat_minor": 5
}
