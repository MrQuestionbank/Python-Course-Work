{
 "cells": [
  {
   "cell_type": "markdown",
   "id": "ec2aed51",
   "metadata": {},
   "source": [
    "- if statement \n",
    "- if - else \n",
    "- if - elif - else \n",
    "- Nested conditional statements "
   ]
  },
  {
   "cell_type": "markdown",
   "id": "73af817e",
   "metadata": {},
   "source": [
    "### if statement -"
   ]
  },
  {
   "cell_type": "markdown",
   "id": "a3a9cc87",
   "metadata": {},
   "source": [
    "if the condition is true then executes the block of code under 'if' statement. "
   ]
  },
  {
   "cell_type": "markdown",
   "id": "07ccb9af",
   "metadata": {},
   "source": [
    "### else statement -\n",
    "when the 'if' condition is false then the block of code under else statement is executed. "
   ]
  },
  {
   "cell_type": "markdown",
   "id": "de59cf2b",
   "metadata": {},
   "source": [
    "### elif statement - \n",
    "Used incase of multiple if conditions. when the condition under 'if' is false then the condition under 'elif' is checked and finally when all the if and elif statements are false, only then the 'else' statement is executed. "
   ]
  },
  {
   "cell_type": "markdown",
   "id": "67622af4",
   "metadata": {},
   "source": [
    "---------"
   ]
  },
  {
   "cell_type": "code",
   "execution_count": 6,
   "id": "7236f749",
   "metadata": {},
   "outputs": [
    {
     "ename": "SyntaxError",
     "evalue": "incomplete input (3095405379.py, line 3)",
     "output_type": "error",
     "traceback": [
      "  \u001b[36mCell\u001b[39m\u001b[36m \u001b[39m\u001b[32mIn[6]\u001b[39m\u001b[32m, line 3\u001b[39m\n\u001b[31m    \u001b[39m\u001b[31m# if-True-statement\u001b[39m\n                       ^\n\u001b[31mSyntaxError\u001b[39m\u001b[31m:\u001b[39m incomplete input\n"
     ]
    }
   ],
   "source": [
    "# simple if \n",
    "if condition: \n",
    "    # if-True-statement"
   ]
  },
  {
   "cell_type": "code",
   "execution_count": 7,
   "id": "a3a525d0",
   "metadata": {},
   "outputs": [
    {
     "ename": "IndentationError",
     "evalue": "expected an indented block after 'if' statement on line 2 (2870881420.py, line 4)",
     "output_type": "error",
     "traceback": [
      "  \u001b[36mCell\u001b[39m\u001b[36m \u001b[39m\u001b[32mIn[7]\u001b[39m\u001b[32m, line 4\u001b[39m\n\u001b[31m    \u001b[39m\u001b[31melse:\u001b[39m\n    ^\n\u001b[31mIndentationError\u001b[39m\u001b[31m:\u001b[39m expected an indented block after 'if' statement on line 2\n"
     ]
    }
   ],
   "source": [
    "# if-else \n",
    "if condition: \n",
    "    # if-True-statement    \n",
    "else:\n",
    "    # if-False-statement    "
   ]
  },
  {
   "cell_type": "code",
   "execution_count": 9,
   "id": "5cd316e7",
   "metadata": {},
   "outputs": [
    {
     "ename": "IndentationError",
     "evalue": "expected an indented block after 'if' statement on line 2 (2867499674.py, line 4)",
     "output_type": "error",
     "traceback": [
      "  \u001b[36mCell\u001b[39m\u001b[36m \u001b[39m\u001b[32mIn[9]\u001b[39m\u001b[32m, line 4\u001b[39m\n\u001b[31m    \u001b[39m\u001b[31melif condition2:\u001b[39m\n    ^\n\u001b[31mIndentationError\u001b[39m\u001b[31m:\u001b[39m expected an indented block after 'if' statement on line 2\n"
     ]
    }
   ],
   "source": [
    "# if - elif - else\n",
    "if condition1:\n",
    "    # if-True-statement\n",
    "elif condition2:\n",
    "    # elif-True-statement\n",
    "else:\n",
    "    # if-False-statement"
   ]
  },
  {
   "cell_type": "code",
   "execution_count": 10,
   "id": "0862e961",
   "metadata": {},
   "outputs": [
    {
     "ename": "IndentationError",
     "evalue": "expected an indented block after 'if' statement on line 3 (2504222356.py, line 5)",
     "output_type": "error",
     "traceback": [
      "  \u001b[36mCell\u001b[39m\u001b[36m \u001b[39m\u001b[32mIn[10]\u001b[39m\u001b[32m, line 5\u001b[39m\n\u001b[31m    \u001b[39m\u001b[31melse:\u001b[39m\n    ^\n\u001b[31mIndentationError\u001b[39m\u001b[31m:\u001b[39m expected an indented block after 'if' statement on line 3\n"
     ]
    }
   ],
   "source": [
    "# Nested if \n",
    "if condition- outer: \n",
    "    if condition-inner: \n",
    "        #if true-statement\n",
    "    else:\n",
    "        #if false-statement\n",
    "else:\n",
    "    # if-outer-false-statement"
   ]
  },
  {
   "cell_type": "markdown",
   "id": "c31fcf6c",
   "metadata": {},
   "source": [
    "##### Online store example - "
   ]
  },
  {
   "cell_type": "code",
   "execution_count": 12,
   "id": "df6b972d",
   "metadata": {},
   "outputs": [
    {
     "name": "stdout",
     "output_type": "stream",
     "text": [
      "*************Welcome to amazon store**************\n"
     ]
    }
   ],
   "source": [
    "print(\"Welcome to amazon store\".center(50,\"*\"))\n",
    "items = ['shoes', 'smartwatch', 'phone', 'laptop', 'airpods', 'toycar']\n",
    "\n",
    "search_input = input(\"Enter the item : \").lower()"
   ]
  },
  {
   "cell_type": "code",
   "execution_count": 14,
   "id": "a3598e37",
   "metadata": {},
   "outputs": [
    {
     "name": "stdout",
     "output_type": "stream",
     "text": [
      "shoes found. Buy now!!\n"
     ]
    }
   ],
   "source": [
    "if search_input in items: \n",
    "    print(f\"{search_input} found. Buy now!!\")\n",
    "else: \n",
    "    print(f\"{search_input} is out of stock. We will notify you.\")"
   ]
  },
  {
   "cell_type": "markdown",
   "id": "b5ab6060",
   "metadata": {},
   "source": [
    "##### Weekend plan: "
   ]
  },
  {
   "cell_type": "code",
   "execution_count": 16,
   "id": "964913da",
   "metadata": {},
   "outputs": [
    {
     "name": "stdout",
     "output_type": "stream",
     "text": [
      "Spend money judiciously GENIOUS :|\n"
     ]
    }
   ],
   "source": [
    "amt = int(input(\"enter budget for weekend : \"))\n",
    "if amt >=20000 : \n",
    "    print(\"Go to goa!\")\n",
    "elif amt >= 15000 : \n",
    "    print(\"Shopping!\")\n",
    "elif amt >= 10000 : \n",
    "    print(\"Clubbing\")\n",
    "elif amt >= 5000 : \n",
    "    print(\"Cafe/Dinner\")\n",
    "elif amt >=1000: \n",
    "    print(\"Invest 500 and save 500\")\n",
    "else: \n",
    "    print(\"Spend money judiciously GENIOUS :|\")"
   ]
  }
 ],
 "metadata": {
  "kernelspec": {
   "display_name": "Python 3",
   "language": "python",
   "name": "python3"
  },
  "language_info": {
   "codemirror_mode": {
    "name": "ipython",
    "version": 3
   },
   "file_extension": ".py",
   "mimetype": "text/x-python",
   "name": "python",
   "nbconvert_exporter": "python",
   "pygments_lexer": "ipython3",
   "version": "3.11.4"
  }
 },
 "nbformat": 4,
 "nbformat_minor": 5
}
