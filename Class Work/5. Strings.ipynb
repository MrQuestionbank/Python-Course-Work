{
 "cells": [
  {
   "cell_type": "markdown",
   "id": "f1ddd8ef",
   "metadata": {},
   "source": [
    "### Strings : \n",
    "- Enclosed in '' , \"\", ''' '''\n",
    "- Immutable "
   ]
  },
  {
   "cell_type": "markdown",
   "id": "4244ef0b",
   "metadata": {},
   "source": [
    "### Operations on a string : "
   ]
  },
  {
   "cell_type": "markdown",
   "id": "78acc406",
   "metadata": {},
   "source": [
    "#### 1. Concatenation (+) -  \n",
    "Joining strings."
   ]
  },
  {
   "cell_type": "code",
   "execution_count": 27,
   "id": "2996cf89",
   "metadata": {},
   "outputs": [
    {
     "data": {
      "text/plain": [
       "'TaritSingh'"
      ]
     },
     "execution_count": 27,
     "metadata": {},
     "output_type": "execute_result"
    }
   ],
   "source": [
    "fn = \"Tarit\" \n",
    "ln = \"Singh\" \n",
    "fn+ln"
   ]
  },
  {
   "cell_type": "markdown",
   "id": "9e3042ac",
   "metadata": {},
   "source": [
    "#### 2. Repitition (*) - \n",
    "repeat a string multiple times. "
   ]
  },
  {
   "cell_type": "code",
   "execution_count": 2,
   "id": "298b9ce3",
   "metadata": {},
   "outputs": [
    {
     "data": {
      "text/plain": [
       "'TaritTaritTaritTaritTaritTaritTaritTaritTaritTarit'"
      ]
     },
     "execution_count": 2,
     "metadata": {},
     "output_type": "execute_result"
    }
   ],
   "source": [
    "fn * 10"
   ]
  },
  {
   "cell_type": "markdown",
   "id": "975a448d",
   "metadata": {},
   "source": [
    "#### 3. Indexing -\n",
    "Accessing individual characters. Indices Starts from '0' in the left, and in -ve indices it starts from '-1'."
   ]
  },
  {
   "cell_type": "code",
   "execution_count": 5,
   "id": "a6102662",
   "metadata": {},
   "outputs": [
    {
     "data": {
      "text/plain": [
       "'T'"
      ]
     },
     "execution_count": 5,
     "metadata": {},
     "output_type": "execute_result"
    }
   ],
   "source": [
    "fn[0] "
   ]
  },
  {
   "cell_type": "code",
   "execution_count": 6,
   "id": "a131a60b",
   "metadata": {},
   "outputs": [
    {
     "data": {
      "text/plain": [
       "'h'"
      ]
     },
     "execution_count": 6,
     "metadata": {},
     "output_type": "execute_result"
    }
   ],
   "source": [
    "ln[-1]"
   ]
  },
  {
   "cell_type": "markdown",
   "id": "e954835b",
   "metadata": {},
   "source": [
    "#### 4. Slicing -\n",
    "Extracting substring from a string. "
   ]
  },
  {
   "cell_type": "code",
   "execution_count": 19,
   "id": "71600fdb",
   "metadata": {},
   "outputs": [
    {
     "name": "stdout",
     "output_type": "stream",
     "text": [
      "Tarit\n",
      "Trt\n",
      "Sing\n",
      "\n",
      "Singh\n"
     ]
    }
   ],
   "source": [
    "names = \"TaritKumarSingh\"\n",
    "\n",
    "#Positive Slicing\n",
    "print(names[0:5:1]) # variable[start:end+1:step]\n",
    "print(names[0:5:2]) # step = 2 skips by 2 values.\n",
    "\n",
    "# Negative Slicing \n",
    "print(names[-5:-1])\n",
    "print(names[-1:-5])\n",
    "print(names[-5:]) # prints till the end of the string  with step = 1 by default."
   ]
  },
  {
   "cell_type": "code",
   "execution_count": 23,
   "id": "d67278d5",
   "metadata": {},
   "outputs": [
    {
     "name": "stdout",
     "output_type": "stream",
     "text": [
      "hgniSramuKtiraT\n",
      "hgniS\n",
      "hnS\n"
     ]
    }
   ],
   "source": [
    "# To Reverse a string.\n",
    "print(names[::-1]) # the step value = -1\n",
    "print(names[-1:-6:-1])\n",
    "print(names[-1:-6:-2]) # reverse of string by skipping 2 values"
   ]
  },
  {
   "cell_type": "markdown",
   "id": "27bac9c3",
   "metadata": {},
   "source": [
    "#### 5. Membership : \n",
    "To check the presence of a substring in string. "
   ]
  },
  {
   "cell_type": "code",
   "execution_count": 24,
   "id": "77e27c45",
   "metadata": {},
   "outputs": [
    {
     "data": {
      "text/plain": [
       "True"
      ]
     },
     "execution_count": 24,
     "metadata": {},
     "output_type": "execute_result"
    }
   ],
   "source": [
    "\"Tarit\" in names "
   ]
  },
  {
   "cell_type": "code",
   "execution_count": 25,
   "id": "ffb0a587",
   "metadata": {},
   "outputs": [
    {
     "data": {
      "text/plain": [
       "False"
      ]
     },
     "execution_count": 25,
     "metadata": {},
     "output_type": "execute_result"
    }
   ],
   "source": [
    "\"23\" in names "
   ]
  },
  {
   "cell_type": "code",
   "execution_count": 26,
   "id": "0c8dae4d",
   "metadata": {},
   "outputs": [
    {
     "data": {
      "text/plain": [
       "True"
      ]
     },
     "execution_count": 26,
     "metadata": {},
     "output_type": "execute_result"
    }
   ],
   "source": [
    "\"23\" not in names"
   ]
  },
  {
   "cell_type": "markdown",
   "id": "fff76567",
   "metadata": {},
   "source": [
    "### Built-in functions : "
   ]
  },
  {
   "cell_type": "code",
   "execution_count": 29,
   "id": "a6cd042f",
   "metadata": {},
   "outputs": [
    {
     "data": {
      "text/plain": [
       "15"
      ]
     },
     "execution_count": 29,
     "metadata": {},
     "output_type": "execute_result"
    }
   ],
   "source": [
    "len(names) #Gives the length of the strings."
   ]
  },
  {
   "cell_type": "code",
   "execution_count": null,
   "id": "bd79bd01",
   "metadata": {},
   "outputs": [
    {
     "data": {
      "text/plain": [
       "['K', 'S', 'T', 'a', 'a', 'g', 'h', 'i', 'i', 'm', 'n', 'r', 'r', 't', 'u']"
      ]
     },
     "execution_count": 33,
     "metadata": {},
     "output_type": "execute_result"
    }
   ],
   "source": [
    "sorted(names) #Sorts the string on the basis of ascii values.  first Uppercases and then lowercases."
   ]
  },
  {
   "cell_type": "code",
   "execution_count": null,
   "id": "471a7519",
   "metadata": {},
   "outputs": [
    {
     "data": {
      "text/plain": [
       "'u'"
      ]
     },
     "execution_count": 31,
     "metadata": {},
     "output_type": "execute_result"
    }
   ],
   "source": [
    "max(names) # last according ascii values."
   ]
  },
  {
   "cell_type": "code",
   "execution_count": 44,
   "id": "444aacb3",
   "metadata": {},
   "outputs": [
    {
     "data": {
      "text/plain": [
       "'K'"
      ]
     },
     "execution_count": 44,
     "metadata": {},
     "output_type": "execute_result"
    }
   ],
   "source": [
    "min(names) # first according  ascii values."
   ]
  },
  {
   "cell_type": "code",
   "execution_count": 42,
   "id": "cf0288ea",
   "metadata": {},
   "outputs": [
    {
     "name": "stdout",
     "output_type": "stream",
     "text": [
      "97\n",
      "49\n"
     ]
    }
   ],
   "source": [
    "#  characters to ascii values\n",
    "print(ord(\"a\"))# gives the ascii value of the character.\n",
    "print(ord('1'))"
   ]
  },
  {
   "cell_type": "code",
   "execution_count": 43,
   "id": "3d28d2c2",
   "metadata": {},
   "outputs": [
    {
     "name": "stdout",
     "output_type": "stream",
     "text": [
      "a\n"
     ]
    }
   ],
   "source": [
    "# ascii values to characters\n",
    "print(chr(97))# gives the character for the ascii value."
   ]
  },
  {
   "cell_type": "code",
   "execution_count": null,
   "id": "1c061afc",
   "metadata": {},
   "outputs": [
    {
     "data": {
      "text/plain": [
       "'Kmri'"
      ]
     },
     "execution_count": 46,
     "metadata": {},
     "output_type": "execute_result"
    }
   ],
   "source": []
  },
  {
   "cell_type": "code",
   "execution_count": null,
   "id": "3fe58d3c",
   "metadata": {},
   "outputs": [],
   "source": []
  }
 ],
 "metadata": {
  "kernelspec": {
   "display_name": "Python 3",
   "language": "python",
   "name": "python3"
  },
  "language_info": {
   "codemirror_mode": {
    "name": "ipython",
    "version": 3
   },
   "file_extension": ".py",
   "mimetype": "text/x-python",
   "name": "python",
   "nbconvert_exporter": "python",
   "pygments_lexer": "ipython3",
   "version": "3.11.4"
  }
 },
 "nbformat": 4,
 "nbformat_minor": 5
}
