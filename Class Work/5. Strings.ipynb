{
 "cells": [
  {
   "cell_type": "markdown",
   "id": "f1ddd8ef",
   "metadata": {},
   "source": [
    "### Strings : \n",
    "- Enclosed in '' , \"\", ''' '''\n",
    "- Immutable "
   ]
  },
  {
   "cell_type": "markdown",
   "id": "4244ef0b",
   "metadata": {},
   "source": [
    "### Operations on a string : "
   ]
  },
  {
   "cell_type": "markdown",
   "id": "78acc406",
   "metadata": {},
   "source": [
    "#### 1. Concatenation (+) -  \n",
    "Joining strings."
   ]
  },
  {
   "cell_type": "code",
   "execution_count": 2,
   "id": "2996cf89",
   "metadata": {},
   "outputs": [
    {
     "data": {
      "text/plain": [
       "'TaritSingh'"
      ]
     },
     "execution_count": 2,
     "metadata": {},
     "output_type": "execute_result"
    }
   ],
   "source": [
    "fn = \"Tarit\" \n",
    "ln = \"Singh\" \n",
    "fn+ln"
   ]
  },
  {
   "cell_type": "markdown",
   "id": "9e3042ac",
   "metadata": {},
   "source": [
    "#### 2. Repitition (*) - \n",
    "repeat a string multiple times. "
   ]
  },
  {
   "cell_type": "code",
   "execution_count": 3,
   "id": "298b9ce3",
   "metadata": {},
   "outputs": [
    {
     "data": {
      "text/plain": [
       "'TaritTaritTaritTaritTaritTaritTaritTaritTaritTarit'"
      ]
     },
     "execution_count": 3,
     "metadata": {},
     "output_type": "execute_result"
    }
   ],
   "source": [
    "fn * 10"
   ]
  },
  {
   "cell_type": "markdown",
   "id": "975a448d",
   "metadata": {},
   "source": [
    "#### 3. Indexing -\n",
    "Accessing individual characters. Indices Starts from '0' in the left, and in -ve indices it starts from '-1'."
   ]
  },
  {
   "cell_type": "code",
   "execution_count": 4,
   "id": "a6102662",
   "metadata": {},
   "outputs": [
    {
     "data": {
      "text/plain": [
       "'T'"
      ]
     },
     "execution_count": 4,
     "metadata": {},
     "output_type": "execute_result"
    }
   ],
   "source": [
    "fn[0] "
   ]
  },
  {
   "cell_type": "code",
   "execution_count": 5,
   "id": "a131a60b",
   "metadata": {},
   "outputs": [
    {
     "data": {
      "text/plain": [
       "'h'"
      ]
     },
     "execution_count": 5,
     "metadata": {},
     "output_type": "execute_result"
    }
   ],
   "source": [
    "ln[-1]"
   ]
  },
  {
   "cell_type": "markdown",
   "id": "e954835b",
   "metadata": {},
   "source": [
    "#### 4. Slicing -\n",
    "Extracting substring from a string. "
   ]
  },
  {
   "cell_type": "code",
   "execution_count": 6,
   "id": "71600fdb",
   "metadata": {},
   "outputs": [
    {
     "name": "stdout",
     "output_type": "stream",
     "text": [
      "Tarit\n",
      "Trt\n",
      "Sing\n",
      "\n",
      "Singh\n"
     ]
    }
   ],
   "source": [
    "names = \"Tarit Kumar Singh\"\n",
    "\n",
    "#Positive Slicing\n",
    "print(names[0:5:1]) # variable[start:end+1:step]\n",
    "print(names[0:5:2]) # step = 2 skips by 2 values.\n",
    "\n",
    "# Negative Slicing \n",
    "print(names[-5:-1])\n",
    "print(names[-1:-5])\n",
    "print(names[-5:]) # prints till the end of the string  with step = 1 by default."
   ]
  },
  {
   "cell_type": "code",
   "execution_count": 7,
   "id": "d67278d5",
   "metadata": {},
   "outputs": [
    {
     "name": "stdout",
     "output_type": "stream",
     "text": [
      "hgniS ramuK tiraT\n",
      "hgniS\n",
      "hnS\n"
     ]
    }
   ],
   "source": [
    "# To Reverse a string.\n",
    "print(names[::-1]) # the step value = -1\n",
    "print(names[-1:-6:-1])\n",
    "print(names[-1:-6:-2]) # reverse of string by skipping 2 values"
   ]
  },
  {
   "cell_type": "markdown",
   "id": "27bac9c3",
   "metadata": {},
   "source": [
    "#### 5. Membership : \n",
    "To check the presence of a substring in string. "
   ]
  },
  {
   "cell_type": "code",
   "execution_count": 8,
   "id": "77e27c45",
   "metadata": {},
   "outputs": [
    {
     "data": {
      "text/plain": [
       "True"
      ]
     },
     "execution_count": 8,
     "metadata": {},
     "output_type": "execute_result"
    }
   ],
   "source": [
    "\"Tarit\" in names "
   ]
  },
  {
   "cell_type": "code",
   "execution_count": 9,
   "id": "ffb0a587",
   "metadata": {},
   "outputs": [
    {
     "data": {
      "text/plain": [
       "False"
      ]
     },
     "execution_count": 9,
     "metadata": {},
     "output_type": "execute_result"
    }
   ],
   "source": [
    "\"23\" in names "
   ]
  },
  {
   "cell_type": "code",
   "execution_count": 10,
   "id": "0c8dae4d",
   "metadata": {},
   "outputs": [
    {
     "data": {
      "text/plain": [
       "True"
      ]
     },
     "execution_count": 10,
     "metadata": {},
     "output_type": "execute_result"
    }
   ],
   "source": [
    "\"23\" not in names"
   ]
  },
  {
   "cell_type": "markdown",
   "id": "fff76567",
   "metadata": {},
   "source": [
    "### Built-in functions : "
   ]
  },
  {
   "cell_type": "code",
   "execution_count": 11,
   "id": "a6cd042f",
   "metadata": {},
   "outputs": [
    {
     "data": {
      "text/plain": [
       "17"
      ]
     },
     "execution_count": 11,
     "metadata": {},
     "output_type": "execute_result"
    }
   ],
   "source": [
    "len(names) #Gives the length of the strings."
   ]
  },
  {
   "cell_type": "code",
   "execution_count": 12,
   "id": "bd79bd01",
   "metadata": {},
   "outputs": [
    {
     "data": {
      "text/plain": [
       "[' ',\n",
       " ' ',\n",
       " 'K',\n",
       " 'S',\n",
       " 'T',\n",
       " 'a',\n",
       " 'a',\n",
       " 'g',\n",
       " 'h',\n",
       " 'i',\n",
       " 'i',\n",
       " 'm',\n",
       " 'n',\n",
       " 'r',\n",
       " 'r',\n",
       " 't',\n",
       " 'u']"
      ]
     },
     "execution_count": 12,
     "metadata": {},
     "output_type": "execute_result"
    }
   ],
   "source": [
    "sorted(names) #Sorts the string on the basis of ascii values.  first Uppercases and then lowercases."
   ]
  },
  {
   "cell_type": "code",
   "execution_count": 13,
   "id": "471a7519",
   "metadata": {},
   "outputs": [
    {
     "data": {
      "text/plain": [
       "'u'"
      ]
     },
     "execution_count": 13,
     "metadata": {},
     "output_type": "execute_result"
    }
   ],
   "source": [
    "max(names) # last according ascii values."
   ]
  },
  {
   "cell_type": "code",
   "execution_count": 14,
   "id": "444aacb3",
   "metadata": {},
   "outputs": [
    {
     "data": {
      "text/plain": [
       "' '"
      ]
     },
     "execution_count": 14,
     "metadata": {},
     "output_type": "execute_result"
    }
   ],
   "source": [
    "min(names) # first according  ascii values."
   ]
  },
  {
   "cell_type": "code",
   "execution_count": 15,
   "id": "cf0288ea",
   "metadata": {},
   "outputs": [
    {
     "name": "stdout",
     "output_type": "stream",
     "text": [
      "97\n",
      "49\n"
     ]
    }
   ],
   "source": [
    "#  characters to ascii values\n",
    "print(ord(\"a\"))# gives the ascii value of the character.\n",
    "print(ord('1'))"
   ]
  },
  {
   "cell_type": "code",
   "execution_count": 16,
   "id": "3d28d2c2",
   "metadata": {},
   "outputs": [
    {
     "name": "stdout",
     "output_type": "stream",
     "text": [
      "a\n"
     ]
    }
   ],
   "source": [
    "# ascii values to characters\n",
    "print(chr(97))# gives the character for the ascii value."
   ]
  },
  {
   "cell_type": "markdown",
   "id": "1c061afc",
   "metadata": {},
   "source": [
    "### Python String Methods : "
   ]
  },
  {
   "cell_type": "markdown",
   "id": "3fe58d3c",
   "metadata": {},
   "source": [
    "#### 1. Case Conversion Methods-"
   ]
  },
  {
   "cell_type": "code",
   "execution_count": 17,
   "id": "e10d50cc",
   "metadata": {},
   "outputs": [
    {
     "data": {
      "text/plain": [
       "'TARIT KUMAR SINGH'"
      ]
     },
     "execution_count": 17,
     "metadata": {},
     "output_type": "execute_result"
    }
   ],
   "source": [
    "names.upper() #Converts the string to uppercase."
   ]
  },
  {
   "cell_type": "code",
   "execution_count": 18,
   "id": "f44e46f9",
   "metadata": {},
   "outputs": [
    {
     "data": {
      "text/plain": [
       "'tarit kumar singh'"
      ]
     },
     "execution_count": 18,
     "metadata": {},
     "output_type": "execute_result"
    }
   ],
   "source": [
    "names.lower() #Converts the string to lowercase."
   ]
  },
  {
   "cell_type": "code",
   "execution_count": 19,
   "id": "6f3f36ba",
   "metadata": {},
   "outputs": [
    {
     "data": {
      "text/plain": [
       "'Tarit kumar singh'"
      ]
     },
     "execution_count": 19,
     "metadata": {},
     "output_type": "execute_result"
    }
   ],
   "source": [
    "names.capitalize() #Converts the first character to uppercase and rest to lowercase."
   ]
  },
  {
   "cell_type": "code",
   "execution_count": 20,
   "id": "41ec3c3d",
   "metadata": {},
   "outputs": [
    {
     "data": {
      "text/plain": [
       "'Tarit Kumar Singh'"
      ]
     },
     "execution_count": 20,
     "metadata": {},
     "output_type": "execute_result"
    }
   ],
   "source": [
    "names.title() #Converts the first character of each word to uppercase and rest to lowercase."
   ]
  },
  {
   "cell_type": "code",
   "execution_count": 21,
   "id": "51c8e1aa",
   "metadata": {},
   "outputs": [
    {
     "data": {
      "text/plain": [
       "'tARIT kUMAR sINGH'"
      ]
     },
     "execution_count": 21,
     "metadata": {},
     "output_type": "execute_result"
    }
   ],
   "source": [
    "names.swapcase() #Converts the uppercase characters to lowercase and vice versa."
   ]
  },
  {
   "cell_type": "code",
   "execution_count": 22,
   "id": "d63fcfdd",
   "metadata": {},
   "outputs": [
    {
     "data": {
      "text/plain": [
       "'ss'"
      ]
     },
     "execution_count": 22,
     "metadata": {},
     "output_type": "execute_result"
    }
   ],
   "source": [
    "\"ß\".casefold()  #Converts the string to lowercase, but it is used for case-insensitive comparisons."
   ]
  },
  {
   "cell_type": "markdown",
   "id": "4d2bd0c0",
   "metadata": {},
   "source": [
    "#### 2. Alignment and Formatting Methods -"
   ]
  },
  {
   "cell_type": "code",
   "execution_count": 23,
   "id": "4280914e",
   "metadata": {},
   "outputs": [
    {
     "data": {
      "text/plain": [
       "'****************Tarit Kumar Singh*****************'"
      ]
     },
     "execution_count": 23,
     "metadata": {},
     "output_type": "execute_result"
    }
   ],
   "source": [
    "names.center(50, \"*\") #Centers the string within a specified width, padding with the specified character."
   ]
  },
  {
   "cell_type": "code",
   "execution_count": 24,
   "id": "ae213a89",
   "metadata": {},
   "outputs": [
    {
     "data": {
      "text/plain": [
       "'Tarit Kumar Singh*********************************'"
      ]
     },
     "execution_count": 24,
     "metadata": {},
     "output_type": "execute_result"
    }
   ],
   "source": [
    "names.ljust(50, \"*\") #Left-justifies the string within a specified width, padding with the specified character."
   ]
  },
  {
   "cell_type": "code",
   "execution_count": 25,
   "id": "824b68ed",
   "metadata": {},
   "outputs": [
    {
     "data": {
      "text/plain": [
       "'*********************************Tarit Kumar Singh'"
      ]
     },
     "execution_count": 25,
     "metadata": {},
     "output_type": "execute_result"
    }
   ],
   "source": [
    "names.rjust(50,\"*\") #Right-justifies the string within a specified width, padding with the specified character."
   ]
  },
  {
   "cell_type": "code",
   "execution_count": 26,
   "id": "b7fb67f7",
   "metadata": {},
   "outputs": [
    {
     "name": "stdout",
     "output_type": "stream",
     "text": [
      "00034\n",
      "000Tarit Kumar Singh\n"
     ]
    }
   ],
   "source": [
    "print(\"34\".zfill(5)) #Pads the string with zeros on the left to fill a specified width.\n",
    "print(names.zfill(20)) #Pads the string with zeros on the left to fill a specified width."
   ]
  },
  {
   "cell_type": "code",
   "execution_count": 27,
   "id": "de7239bf",
   "metadata": {},
   "outputs": [],
   "source": [
    "#format() method"
   ]
  },
  {
   "cell_type": "code",
   "execution_count": 28,
   "id": "e98a7280",
   "metadata": {},
   "outputs": [],
   "source": [
    "#format_mapping"
   ]
  },
  {
   "cell_type": "markdown",
   "id": "052077c0",
   "metadata": {},
   "source": [
    "### 3. Search and Find Methods "
   ]
  },
  {
   "cell_type": "code",
   "execution_count": 29,
   "id": "79261bb0",
   "metadata": {},
   "outputs": [
    {
     "data": {
      "text/plain": [
       "0"
      ]
     },
     "execution_count": 29,
     "metadata": {},
     "output_type": "execute_result"
    }
   ],
   "source": [
    "names.find(\"Tarit\") #Returns the index of the first occurrence of the substring. If not found, returns -1."
   ]
  },
  {
   "cell_type": "code",
   "execution_count": 30,
   "id": "d09726f4",
   "metadata": {},
   "outputs": [
    {
     "data": {
      "text/plain": [
       "13"
      ]
     },
     "execution_count": 30,
     "metadata": {},
     "output_type": "execute_result"
    }
   ],
   "source": [
    "names.rfind(\"i\") #Returns the index of the last occurrence of the substring. If not found, returns -1."
   ]
  },
  {
   "cell_type": "code",
   "execution_count": 31,
   "id": "5e0f634f",
   "metadata": {},
   "outputs": [
    {
     "ename": "ValueError",
     "evalue": "substring not found",
     "output_type": "error",
     "traceback": [
      "\u001b[31m---------------------------------------------------------------------------\u001b[39m",
      "\u001b[31mValueError\u001b[39m                                Traceback (most recent call last)",
      "\u001b[36mCell\u001b[39m\u001b[36m \u001b[39m\u001b[32mIn[31]\u001b[39m\u001b[32m, line 1\u001b[39m\n\u001b[32m----> \u001b[39m\u001b[32m1\u001b[39m \u001b[43mnames\u001b[49m\u001b[43m.\u001b[49m\u001b[43mindex\u001b[49m\u001b[43m(\u001b[49m\u001b[33;43m\"\u001b[39;49m\u001b[33;43mBanana\u001b[39;49m\u001b[33;43m\"\u001b[39;49m\u001b[43m)\u001b[49m \u001b[38;5;66;03m#Returns the index of the first occurrence of the substring. If not found, raises a ValueError.\u001b[39;00m\n",
      "\u001b[31mValueError\u001b[39m: substring not found"
     ]
    }
   ],
   "source": [
    "names.index(\"Banana\") #Returns the index of the first occurrence of the substring. If not found, raises a ValueError."
   ]
  },
  {
   "cell_type": "code",
   "execution_count": 32,
   "id": "c4269be4",
   "metadata": {},
   "outputs": [
    {
     "data": {
      "text/plain": [
       "2"
      ]
     },
     "execution_count": 32,
     "metadata": {},
     "output_type": "execute_result"
    }
   ],
   "source": [
    "names.count(\"a\")"
   ]
  },
  {
   "cell_type": "markdown",
   "id": "281fb089",
   "metadata": {},
   "source": [
    "### 4. String Testing Methods (Boolean Results)"
   ]
  },
  {
   "cell_type": "code",
   "execution_count": 34,
   "id": "90c68b4b",
   "metadata": {},
   "outputs": [
    {
     "data": {
      "text/plain": [
       "False"
      ]
     },
     "execution_count": 34,
     "metadata": {},
     "output_type": "execute_result"
    }
   ],
   "source": [
    "names.startswith(\"t\") #Checks if the string starts with the specified substring. Returns True or False."
   ]
  },
  {
   "cell_type": "code",
   "execution_count": 37,
   "id": "7cb35c1b",
   "metadata": {},
   "outputs": [
    {
     "data": {
      "text/plain": [
       "True"
      ]
     },
     "execution_count": 37,
     "metadata": {},
     "output_type": "execute_result"
    }
   ],
   "source": [
    "names.endswith(\"h\") #Checks if the string ends with the specified substring. "
   ]
  },
  {
   "cell_type": "code",
   "execution_count": 38,
   "id": "b61e8bab",
   "metadata": {},
   "outputs": [
    {
     "data": {
      "text/plain": [
       "False"
      ]
     },
     "execution_count": 38,
     "metadata": {},
     "output_type": "execute_result"
    }
   ],
   "source": [
    "names.isalpha() #Checks if all characters in the string are alphabetic. "
   ]
  },
  {
   "cell_type": "code",
   "execution_count": 41,
   "id": "bc8cb837",
   "metadata": {},
   "outputs": [
    {
     "data": {
      "text/plain": [
       "True"
      ]
     },
     "execution_count": 41,
     "metadata": {},
     "output_type": "execute_result"
    }
   ],
   "source": [
    "\"abc123\".isalnum() #Checks if all characters in the string are alphanumeric (letters and numbers). "
   ]
  },
  {
   "cell_type": "markdown",
   "id": "d1e0aef9",
   "metadata": {},
   "source": [
    "Special Characters like - !,@,#, etc. are not alphanumeric."
   ]
  },
  {
   "cell_type": "code",
   "execution_count": 42,
   "id": "1ee63ad2",
   "metadata": {},
   "outputs": [
    {
     "data": {
      "text/plain": [
       "False"
      ]
     },
     "execution_count": 42,
     "metadata": {},
     "output_type": "execute_result"
    }
   ],
   "source": [
    "names.islower() #Checks if all characters in the string are lowercase."
   ]
  },
  {
   "cell_type": "code",
   "execution_count": 43,
   "id": "7fccc7bf",
   "metadata": {},
   "outputs": [
    {
     "data": {
      "text/plain": [
       "False"
      ]
     },
     "execution_count": 43,
     "metadata": {},
     "output_type": "execute_result"
    }
   ],
   "source": [
    "names.isupper() #Checks if all characters in the string are uppercase."
   ]
  },
  {
   "cell_type": "code",
   "execution_count": null,
   "id": "30daf737",
   "metadata": {},
   "outputs": [
    {
     "data": {
      "text/plain": [
       "True"
      ]
     },
     "execution_count": 47,
     "metadata": {},
     "output_type": "execute_result"
    }
   ],
   "source": [
    "\"  \".isspace() #Checks if all characters in the string are only whitespace characters (spaces, tabs, newlines)."
   ]
  },
  {
   "cell_type": "code",
   "execution_count": 45,
   "id": "09648c96",
   "metadata": {},
   "outputs": [
    {
     "data": {
      "text/plain": [
       "True"
      ]
     },
     "execution_count": 45,
     "metadata": {},
     "output_type": "execute_result"
    }
   ],
   "source": [
    "names.istitle() #Checks if the string is in title case (first character of each word is uppercase, rest are lowercase)."
   ]
  },
  {
   "cell_type": "code",
   "execution_count": 48,
   "id": "e3721c09",
   "metadata": {},
   "outputs": [
    {
     "data": {
      "text/plain": [
       "False"
      ]
     },
     "execution_count": 48,
     "metadata": {},
     "output_type": "execute_result"
    }
   ],
   "source": [
    "\"!@#my_var\".isidentifier() #Checks if the string is a valid identifier (variable name) in Python."
   ]
  },
  {
   "cell_type": "markdown",
   "id": "8529c365",
   "metadata": {},
   "source": [
    "#### 5. Replace & Modify Methods"
   ]
  },
  {
   "cell_type": "code",
   "execution_count": 49,
   "id": "6d45ed9b",
   "metadata": {},
   "outputs": [
    {
     "data": {
      "text/plain": [
       "'Tarit'"
      ]
     },
     "execution_count": 49,
     "metadata": {},
     "output_type": "execute_result"
    }
   ],
   "source": [
    "\"Tariq\".replace(\"q\", \"t\") #Replaces all occurrences of the specified substring with another substring.\n",
    "# .replace(\"to replace\", \"new value\", count) # count is optional, if not given, replaces all occurrences."
   ]
  },
  {
   "cell_type": "code",
   "execution_count": 88,
   "id": "204a1463",
   "metadata": {},
   "outputs": [
    {
     "data": {
      "text/plain": [
       "{97: 64}"
      ]
     },
     "execution_count": 88,
     "metadata": {},
     "output_type": "execute_result"
    }
   ],
   "source": [
    "\"tarit\".maketrans(\"a\", \"@\") #Creates a translation table for character replacement. \n",
    "#gives a dictionary with the characters to be replaced as keys and the new characters as values."
   ]
  },
  {
   "cell_type": "code",
   "execution_count": 89,
   "id": "10de101b",
   "metadata": {},
   "outputs": [
    {
     "data": {
      "text/plain": [
       "'t@rit'"
      ]
     },
     "execution_count": 89,
     "metadata": {},
     "output_type": "execute_result"
    }
   ],
   "source": [
    "\"tarit\".translate(\"tarit\".maketrans(\"a\", \"@\")) #Replaces characters using translation table made in .maketrans()"
   ]
  },
  {
   "cell_type": "code",
   "execution_count": 91,
   "id": "9c4d5c02",
   "metadata": {},
   "outputs": [
    {
     "data": {
      "text/plain": [
       "'t@rit'"
      ]
     },
     "execution_count": 91,
     "metadata": {},
     "output_type": "execute_result"
    }
   ],
   "source": [
    "\"tarit\".translate(str.maketrans(\"a\", \"@\")) #here 'str' is used instead of \"tarit\" to make it the code shorter."
   ]
  },
  {
   "cell_type": "markdown",
   "id": "62179bd7",
   "metadata": {},
   "source": [
    "#### 6. Splitting & Joining Methods"
   ]
  },
  {
   "cell_type": "code",
   "execution_count": 51,
   "id": "a6800bc8",
   "metadata": {},
   "outputs": [],
   "source": [
    "s = \"My name is Tarit Kumar Singh\""
   ]
  },
  {
   "cell_type": "code",
   "execution_count": 52,
   "id": "cc975428",
   "metadata": {},
   "outputs": [
    {
     "data": {
      "text/plain": [
       "['My', 'name', 'is', 'Tarit', 'Kumar', 'Singh']"
      ]
     },
     "execution_count": 52,
     "metadata": {},
     "output_type": "execute_result"
    }
   ],
   "source": [
    "s.split() #Splits the string into a list of substrings based on whitespace by default.\n",
    "# s.split(\"delimiter\")"
   ]
  },
  {
   "cell_type": "code",
   "execution_count": 53,
   "id": "a304c08d",
   "metadata": {},
   "outputs": [
    {
     "data": {
      "text/plain": [
       "['My name is Tarit', 'Kumar', 'Singh']"
      ]
     },
     "execution_count": 53,
     "metadata": {},
     "output_type": "execute_result"
    }
   ],
   "source": [
    "s.rsplit(\" \", 2) #Splits the string from the right side, limiting the number of splits to 2."
   ]
  },
  {
   "cell_type": "code",
   "execution_count": 55,
   "id": "2b5d3838",
   "metadata": {},
   "outputs": [
    {
     "data": {
      "text/plain": [
       "['Hello ', 'world ', 'python']"
      ]
     },
     "execution_count": 55,
     "metadata": {},
     "output_type": "execute_result"
    }
   ],
   "source": [
    "l = \"\"\"Hello \n",
    "world \n",
    "python\"\"\"\n",
    "l.splitlines() #Splits the string into a list of lines, removing the newline "
   ]
  },
  {
   "cell_type": "code",
   "execution_count": 61,
   "id": "696b3edf",
   "metadata": {},
   "outputs": [
    {
     "data": {
      "text/plain": [
       "'Hello|world|python'"
      ]
     },
     "execution_count": 61,
     "metadata": {},
     "output_type": "execute_result"
    }
   ],
   "source": [
    "file = ['Hello', 'world', 'python']\n",
    "\"|\".join(file) #Joins the list of strings into a single string with the specified delimiter."
   ]
  },
  {
   "cell_type": "code",
   "execution_count": 63,
   "id": "4188826d",
   "metadata": {},
   "outputs": [
    {
     "data": {
      "text/plain": [
       "('Taritkumar', '@', 'gmail@com')"
      ]
     },
     "execution_count": 63,
     "metadata": {},
     "output_type": "execute_result"
    }
   ],
   "source": [
    "mail = \"Taritkumar@gmail@com\"\n",
    "mail.partition(\"@\") #Splits the string into three parts: the part before the separator, the separator itself, and the part after the separator.\n",
    "#partition gives output as TUPLE (before, separator, after) unlike split which gives a LIST."
   ]
  },
  {
   "cell_type": "code",
   "execution_count": null,
   "id": "fb9bf887",
   "metadata": {},
   "outputs": [
    {
     "data": {
      "text/plain": [
       "('Taritkumar@gmail', '@', 'com')"
      ]
     },
     "execution_count": 64,
     "metadata": {},
     "output_type": "execute_result"
    }
   ],
   "source": [
    "mail.rpartition(\"@\") # splits the string from the right side into three parts: the part before the separator, the separator itself, and the part after the separator."
   ]
  },
  {
   "cell_type": "markdown",
   "id": "ec43308a",
   "metadata": {},
   "source": [
    "#### 7. Whitespace & Trimming Methods"
   ]
  },
  {
   "cell_type": "code",
   "execution_count": 70,
   "id": "3288f3b7",
   "metadata": {},
   "outputs": [
    {
     "data": {
      "text/plain": [
       "'Python'"
      ]
     },
     "execution_count": 70,
     "metadata": {},
     "output_type": "execute_result"
    }
   ],
   "source": [
    "str = \"          Python                \"\n",
    "str.strip() #Removes leading and trailing whitespace characters from the string."
   ]
  },
  {
   "cell_type": "code",
   "execution_count": 71,
   "id": "42dbe693",
   "metadata": {},
   "outputs": [
    {
     "data": {
      "text/plain": [
       "'Python                '"
      ]
     },
     "execution_count": 71,
     "metadata": {},
     "output_type": "execute_result"
    }
   ],
   "source": [
    "str.lstrip() #Removes leading whitespace characters from the string."
   ]
  },
  {
   "cell_type": "code",
   "execution_count": 72,
   "id": "36b5a97f",
   "metadata": {},
   "outputs": [
    {
     "data": {
      "text/plain": [
       "'          Python'"
      ]
     },
     "execution_count": 72,
     "metadata": {},
     "output_type": "execute_result"
    }
   ],
   "source": [
    "str.rstrip() #Removes trailing whitespace characters from the string."
   ]
  },
  {
   "cell_type": "markdown",
   "id": "17164918",
   "metadata": {},
   "source": [
    "#### 8. Encoding & Decoding Methods"
   ]
  },
  {
   "cell_type": "code",
   "execution_count": 84,
   "id": "2ce9f6e8",
   "metadata": {},
   "outputs": [
    {
     "data": {
      "text/plain": [
       "b'Trap \\xf0\\x9f\\x98\\x81'"
      ]
     },
     "execution_count": 84,
     "metadata": {},
     "output_type": "execute_result"
    }
   ],
   "source": [
    "\"Trap 😁\".encode() # Encodes a string to bytes; by default encoding is in (UTF-8)"
   ]
  },
  {
   "cell_type": "code",
   "execution_count": 85,
   "id": "11c44e1b",
   "metadata": {},
   "outputs": [
    {
     "data": {
      "text/plain": [
       "'Trap 😁'"
      ]
     },
     "execution_count": 85,
     "metadata": {},
     "output_type": "execute_result"
    }
   ],
   "source": [
    "b'Trap \\xf0\\x9f\\x98\\x81'.decode() #Decodes the bytes object back to a string using the default encoding (UTF-8)."
   ]
  }
 ],
 "metadata": {
  "kernelspec": {
   "display_name": "Python 3",
   "language": "python",
   "name": "python3"
  },
  "language_info": {
   "codemirror_mode": {
    "name": "ipython",
    "version": 3
   },
   "file_extension": ".py",
   "mimetype": "text/x-python",
   "name": "python",
   "nbconvert_exporter": "python",
   "pygments_lexer": "ipython3",
   "version": "3.11.4"
  }
 },
 "nbformat": 4,
 "nbformat_minor": 5
}
