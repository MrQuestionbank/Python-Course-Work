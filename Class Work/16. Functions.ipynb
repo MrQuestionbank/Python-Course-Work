{
 "cells": [
  {
   "cell_type": "markdown",
   "id": "93ebc3be",
   "metadata": {},
   "source": [
    "## Functions : \n",
    "a reusable block of code for performing a specific task."
   ]
  },
  {
   "cell_type": "markdown",
   "id": "03a4c895",
   "metadata": {},
   "source": [
    "### Features of functions: \n",
    "- reusability\n",
    "- modularity - divide code into logical sections \n",
    "- maintainability - easier to debug and modify\n",
    "- scalability - helps in handling complex applications \n",
    "- encapsulation - hides implementation details from users \n",
    "- parameterization - \n",
    "- return values - return values for further use "
   ]
  },
  {
   "cell_type": "markdown",
   "id": "b4b1d3a8",
   "metadata": {},
   "source": [
    "### Types of function: \n",
    "- Built-in function \n",
    "- User defined function "
   ]
  },
  {
   "cell_type": "markdown",
   "id": "cc93cd05",
   "metadata": {},
   "source": [
    "#### User Defined functions: \n",
    "customized functions defined by the programmer."
   ]
  },
  {
   "cell_type": "code",
   "execution_count": 1,
   "id": "071a2c27",
   "metadata": {},
   "outputs": [
    {
     "name": "stdout",
     "output_type": "stream",
     "text": [
      "1. Check Balance\n",
      "2. Deposit\n",
      "3. Withdraw\n",
      "4. History\n",
      "0. Exit\n",
      "current balance : 46578\n",
      "1. Check Balance\n",
      "2. Deposit\n",
      "3. Withdraw\n",
      "4. History\n",
      "0. Exit\n",
      "Deposited successfully = Rs.12312\n",
      "1. Check Balance\n",
      "2. Deposit\n",
      "3. Withdraw\n",
      "4. History\n",
      "0. Exit\n",
      "current balance : 58890\n",
      "1. Check Balance\n",
      "2. Deposit\n",
      "3. Withdraw\n",
      "4. History\n",
      "0. Exit\n",
      "thank you for using our services\n"
     ]
    }
   ],
   "source": [
    "data = { 'current_balance' : 46578, 'history' : [] }\n",
    "def check_balance(): \n",
    "    print(f\"current balance : {data['current_balance']}\")\n",
    "\n",
    "def deposit(): \n",
    "    amount = int(input(\"Enter the amount : \"))\n",
    "    data[\"current_balance\"] += amount \n",
    "    data['history'].append(f\"Deposited - Rs.{amount}\")\n",
    "    print(f\"Deposited successfully = Rs.{amount}\")\n",
    "\n",
    "def withdraw():\n",
    "    amount = int(input(\"Enter the amount : \"))\n",
    "    if data['current_balance'] <= amount :\n",
    "        data['current_balance'] -= amount\n",
    "        data['history'].append(f'withdraw - Rs.{amount}')\n",
    "        print(f\"Withdrawn Successfully - Rs.{amount}\")\n",
    "    else: \n",
    "        print(\"Ins blnc\")\n",
    "\n",
    "def history(): \n",
    "    print(\"Transactions\")\n",
    "    for i in data['history']:\n",
    "        print(i)\n",
    "\n",
    "while True: \n",
    "    print(\"1. Check Balance\")\n",
    "    print(\"2. Deposit\")\n",
    "    print(\"3. Withdraw\")\n",
    "    print(\"4. History\")\n",
    "    print(\"0. Exit\")\n",
    "\n",
    "    op = int(input(\"Enter your choice : \"))\n",
    "    if op == 0 : \n",
    "        print(\"thank you for using our services\")\n",
    "        break\n",
    "    elif op == 1 : \n",
    "        check_balance()\n",
    "    elif op == 2 : \n",
    "        deposit()\n",
    "    elif op == 3:\n",
    "        withdraw()\n",
    "    elif op == 4: \n",
    "        history()\n",
    "    else: \n",
    "        print(\"invalid choice. Select the correct option : \")\n"
   ]
  },
  {
   "cell_type": "code",
   "execution_count": null,
   "id": "00a43b5e",
   "metadata": {},
   "outputs": [],
   "source": []
  }
 ],
 "metadata": {
  "kernelspec": {
   "display_name": "Python 3",
   "language": "python",
   "name": "python3"
  },
  "language_info": {
   "codemirror_mode": {
    "name": "ipython",
    "version": 3
   },
   "file_extension": ".py",
   "mimetype": "text/x-python",
   "name": "python",
   "nbconvert_exporter": "python",
   "pygments_lexer": "ipython3",
   "version": "3.11.4"
  }
 },
 "nbformat": 4,
 "nbformat_minor": 5
}
