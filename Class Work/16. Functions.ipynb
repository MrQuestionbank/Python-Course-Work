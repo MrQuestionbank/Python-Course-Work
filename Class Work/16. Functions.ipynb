{
 "cells": [
  {
   "cell_type": "markdown",
   "id": "93ebc3be",
   "metadata": {},
   "source": [
    "## Functions : \n",
    "a reusable block of code for performing a specific task."
   ]
  },
  {
   "cell_type": "markdown",
   "id": "03a4c895",
   "metadata": {},
   "source": [
    "### Features of functions: \n",
    "- reusability\n",
    "- modularity - divide code into logical sections \n",
    "- maintainability - easier to debug and modify\n",
    "- scalability - helps in handling complex applications \n",
    "- encapsulation - hides implementation details from users \n",
    "- parameterization - \n",
    "- return values - return values for further use "
   ]
  },
  {
   "cell_type": "markdown",
   "id": "b4b1d3a8",
   "metadata": {},
   "source": [
    "### Types of function: \n",
    "- Built-in function \n",
    "- User defined function "
   ]
  },
  {
   "cell_type": "markdown",
   "id": "cc93cd05",
   "metadata": {},
   "source": [
    "#### User Defined functions: \n",
    "customized functions defined by the programmer."
   ]
  },
  {
   "cell_type": "code",
   "execution_count": 1,
   "id": "071a2c27",
   "metadata": {},
   "outputs": [
    {
     "name": "stdout",
     "output_type": "stream",
     "text": [
      "1. Check Balance\n",
      "2. Deposit\n",
      "3. Withdraw\n",
      "4. History\n",
      "0. Exit\n",
      "current balance : 46578\n",
      "1. Check Balance\n",
      "2. Deposit\n",
      "3. Withdraw\n",
      "4. History\n",
      "0. Exit\n",
      "Deposited successfully = Rs.12312\n",
      "1. Check Balance\n",
      "2. Deposit\n",
      "3. Withdraw\n",
      "4. History\n",
      "0. Exit\n",
      "current balance : 58890\n",
      "1. Check Balance\n",
      "2. Deposit\n",
      "3. Withdraw\n",
      "4. History\n",
      "0. Exit\n",
      "thank you for using our services\n"
     ]
    }
   ],
   "source": [
    "data = { 'current_balance' : 46578, 'history' : [] }\n",
    "def check_balance(): \n",
    "    print(f\"current balance : {data['current_balance']}\")\n",
    "\n",
    "def deposit(): \n",
    "    amount = int(input(\"Enter the amount : \"))\n",
    "    data[\"current_balance\"] += amount \n",
    "    data['history'].append(f\"Deposited - Rs.{amount}\")\n",
    "    print(f\"Deposited successfully = Rs.{amount}\")\n",
    "\n",
    "def withdraw():\n",
    "    amount = int(input(\"Enter the amount : \"))\n",
    "    if data['current_balance'] <= amount :\n",
    "        data['current_balance'] -= amount\n",
    "        data['history'].append(f'withdraw - Rs.{amount}')\n",
    "        print(f\"Withdrawn Successfully - Rs.{amount}\")\n",
    "    else: \n",
    "        print(\"Ins blnc\")\n",
    "\n",
    "def history(): \n",
    "    print(\"Transactions\")\n",
    "    for i in data['history']:\n",
    "        print(i)\n",
    "\n",
    "while True: \n",
    "    print(\"1. Check Balance\")\n",
    "    print(\"2. Deposit\")\n",
    "    print(\"3. Withdraw\")\n",
    "    print(\"4. History\")\n",
    "    print(\"0. Exit\")\n",
    "\n",
    "    op = int(input(\"Enter your choice : \"))\n",
    "    if op == 0 : \n",
    "        print(\"thank you for using our services\")\n",
    "        break\n",
    "    elif op == 1 : \n",
    "        check_balance()\n",
    "    elif op == 2 : \n",
    "        deposit()\n",
    "    elif op == 3:\n",
    "        withdraw()\n",
    "    elif op == 4: \n",
    "        history()\n",
    "    else: \n",
    "        print(\"invalid choice. Select the correct option : \")\n"
   ]
  },
  {
   "cell_type": "code",
   "execution_count": 6,
   "id": "00a43b5e",
   "metadata": {},
   "outputs": [],
   "source": [
    "data = ('xyz', 'xyz@123')\n",
    "def login(username, password): \n",
    "    if username == data[0] and password == data[1] :\n",
    "        print(\"Login Successful\")\n",
    "    else: \n",
    "        print(\"Invalid Username or Password\")"
   ]
  },
  {
   "cell_type": "code",
   "execution_count": null,
   "id": "f45a8cd2",
   "metadata": {},
   "outputs": [
    {
     "name": "stdout",
     "output_type": "stream",
     "text": [
      "Login Successful\n"
     ]
    }
   ],
   "source": [
    "username = input(\"Enter Username : \")\n",
    "password = input(\"Enter the password : \")\n",
    "\n",
    "login(username, password)#Positional Arguments "
   ]
  },
  {
   "cell_type": "code",
   "execution_count": 9,
   "id": "00c6e805",
   "metadata": {},
   "outputs": [
    {
     "name": "stdout",
     "output_type": "stream",
     "text": [
      "Login Successful\n"
     ]
    }
   ],
   "source": [
    "login(password = password, username = username) # key word argument. \n",
    "# when written this way the position of arguments can be changed. "
   ]
  },
  {
   "cell_type": "code",
   "execution_count": null,
   "id": "bc8b882b",
   "metadata": {},
   "outputs": [
    {
     "ename": "IndexError",
     "evalue": "tuple index out of range",
     "output_type": "error",
     "traceback": [
      "\u001b[31m---------------------------------------------------------------------------\u001b[39m",
      "\u001b[31mIndexError\u001b[39m                                Traceback (most recent call last)",
      "\u001b[36mCell\u001b[39m\u001b[36m \u001b[39m\u001b[32mIn[12]\u001b[39m\u001b[32m, line 7\u001b[39m\n\u001b[32m      4\u001b[39m     \u001b[38;5;28;01melse\u001b[39;00m: \n\u001b[32m      5\u001b[39m         \u001b[38;5;28mprint\u001b[39m(\u001b[33m\"\u001b[39m\u001b[33mInvalid Username or Password\u001b[39m\u001b[33m\"\u001b[39m)\n\u001b[32m----> \u001b[39m\u001b[32m7\u001b[39m \u001b[43mlogin\u001b[49m\u001b[43m(\u001b[49m\u001b[43musername\u001b[49m\u001b[43m,\u001b[49m\u001b[43mpassword\u001b[49m\u001b[43m)\u001b[49m\n",
      "\u001b[36mCell\u001b[39m\u001b[36m \u001b[39m\u001b[32mIn[12]\u001b[39m\u001b[32m, line 2\u001b[39m, in \u001b[36mlogin\u001b[39m\u001b[34m(username, password, mail)\u001b[39m\n\u001b[32m      1\u001b[39m \u001b[38;5;28;01mdef\u001b[39;00m\u001b[38;5;250m \u001b[39m\u001b[34mlogin\u001b[39m(username, password, mail = \u001b[33m'\u001b[39m\u001b[33mxyz@gmail\u001b[39m\u001b[33m'\u001b[39m): \u001b[38;5;66;03m#here \u001b[39;00m\n\u001b[32m----> \u001b[39m\u001b[32m2\u001b[39m     \u001b[38;5;28;01mif\u001b[39;00m mail == \u001b[43mdata\u001b[49m\u001b[43m[\u001b[49m\u001b[32;43m2\u001b[39;49m\u001b[43m]\u001b[49m \u001b[38;5;129;01mand\u001b[39;00m password == data[\u001b[32m1\u001b[39m] :\n\u001b[32m      3\u001b[39m         \u001b[38;5;28mprint\u001b[39m(\u001b[33m\"\u001b[39m\u001b[33mLogin Successful\u001b[39m\u001b[33m\"\u001b[39m)\n\u001b[32m      4\u001b[39m     \u001b[38;5;28;01melse\u001b[39;00m: \n",
      "\u001b[31mIndexError\u001b[39m: tuple index out of range"
     ]
    }
   ],
   "source": [
    "def login(username, password, mail = 'xyz@gmail'): #here the function automatically takes 'xyz@gmail' as default value for mail.\n",
    "    if mail == data[2] and password == data[1] :\n",
    "        print(\"Login Successful\")\n",
    "    else: \n",
    "        print(\"Invalid Username or Password\")\n",
    "\n"
   ]
  },
  {
   "cell_type": "code",
   "execution_count": 16,
   "id": "39da4b8a",
   "metadata": {},
   "outputs": [
    {
     "name": "stdout",
     "output_type": "stream",
     "text": [
      "28\n",
      "6\n",
      "3\n"
     ]
    }
   ],
   "source": [
    "def sum(*l): #incase the no.of parameters is variable... use '*' before the parameter.\n",
    "    s = 0\n",
    "    for i in l:\n",
    "        s = s + i\n",
    "    return s \n",
    "\n",
    "print(sum(1,2,3,4,5,6,7)) \n",
    "print(sum(1,2,3))\n",
    "print(sum(1,2))\n"
   ]
  },
  {
   "cell_type": "code",
   "execution_count": null,
   "id": "58fa7a16",
   "metadata": {},
   "outputs": [],
   "source": [
    "# **kwargs \n",
    "def display(**l): #use '**' when key-value pairs are passed at variable lengths.\n",
    "    return l\n"
   ]
  },
  {
   "cell_type": "code",
   "execution_count": 28,
   "id": "79bdfa9e",
   "metadata": {},
   "outputs": [
    {
     "name": "stdout",
     "output_type": "stream",
     "text": [
      "{'python': 34, 'sql': 23, 'excel': 9}\n",
      "{'python': 2, 'sql': 23}\n"
     ]
    }
   ],
   "source": [
    "print(display(python = 34, sql = 23, excel = 9))\n",
    "print(display(python = 2, sql = 23))"
   ]
  },
  {
   "cell_type": "markdown",
   "id": "21dd7348",
   "metadata": {},
   "source": [
    "\n",
    "### Scope of a variable \n",
    "It is the block / region of code, within which a variable is accessible. "
   ]
  },
  {
   "cell_type": "markdown",
   "id": "2fdffe5e",
   "metadata": {},
   "source": [
    "#### Local Scope : \n",
    "Variable is accessible only inside the function. "
   ]
  },
  {
   "cell_type": "code",
   "execution_count": 30,
   "id": "6af2938e",
   "metadata": {},
   "outputs": [
    {
     "name": "stdout",
     "output_type": "stream",
     "text": [
      "Hello\n"
     ]
    },
    {
     "ename": "NameError",
     "evalue": "name 'message' is not defined",
     "output_type": "error",
     "traceback": [
      "\u001b[31m---------------------------------------------------------------------------\u001b[39m",
      "\u001b[31mNameError\u001b[39m                                 Traceback (most recent call last)",
      "\u001b[36mCell\u001b[39m\u001b[36m \u001b[39m\u001b[32mIn[30]\u001b[39m\u001b[32m, line 5\u001b[39m\n\u001b[32m      3\u001b[39m     \u001b[38;5;28mprint\u001b[39m(message)\n\u001b[32m      4\u001b[39m greet()\n\u001b[32m----> \u001b[39m\u001b[32m5\u001b[39m \u001b[38;5;28mprint\u001b[39m(\u001b[43mmessage\u001b[49m) \u001b[38;5;66;03m# Error: message is not defined outside\u001b[39;00m\n",
      "\u001b[31mNameError\u001b[39m: name 'message' is not defined"
     ]
    }
   ],
   "source": [
    "def greet():\n",
    "    message = \"Hello\"\n",
    "    print(message)\n",
    "greet()\n",
    "print(message) # Error: message is not defined outside"
   ]
  },
  {
   "cell_type": "markdown",
   "id": "8e8cd134",
   "metadata": {},
   "source": [
    "#### Global Scope :\n",
    "Variable is accessible even outside the function. "
   ]
  },
  {
   "cell_type": "code",
   "execution_count": 32,
   "id": "4ff755ca",
   "metadata": {},
   "outputs": [
    {
     "name": "stdout",
     "output_type": "stream",
     "text": [
      "Inside Function :  Python\n",
      "Outside Function Python\n"
     ]
    }
   ],
   "source": [
    "def outer_fun():\n",
    "    global course #here 'course' is declared as a global variable\n",
    "    course = \"Python\"\n",
    "    print(\"Inside Function : \", course)\n",
    "\n",
    "outer_fun()\n",
    "print(\"Outside Function\", course)"
   ]
  },
  {
   "cell_type": "markdown",
   "id": "9133b139",
   "metadata": {},
   "source": [
    "### Non-Local Scope : \n",
    "- occurs in nested functions\n",
    "- "
   ]
  },
  {
   "cell_type": "code",
   "execution_count": null,
   "id": "8d966ab8",
   "metadata": {},
   "outputs": [
    {
     "name": "stdout",
     "output_type": "stream",
     "text": [
      "First Selected :  Python\n",
      "Modified course :  java\n",
      "Finally :  Python\n"
     ]
    }
   ],
   "source": [
    "# without nonlocal\n",
    "def outfun():\n",
    "    c = 'Python'\n",
    "    print(\"First Selected : \", c)\n",
    "    def innerfun():\n",
    "        c = 'java'\n",
    "        print(\"Modified course : \", c)\n",
    "    innerfun()\n",
    "    \n",
    "    print('Finally : ', c)\n",
    "\n",
    "outfun()"
   ]
  },
  {
   "cell_type": "code",
   "execution_count": 43,
   "id": "879e2759",
   "metadata": {},
   "outputs": [
    {
     "name": "stdout",
     "output_type": "stream",
     "text": [
      "First Selected :  Python\n",
      "Modified course :  java\n",
      "Finally :  java\n"
     ]
    }
   ],
   "source": [
    "# with nonlocal\n",
    "def outfun():\n",
    "    c = 'Python'\n",
    "    print(\"First Selected : \", c)\n",
    "    def innerfun():\n",
    "        nonlocal c\n",
    "        c = 'java'\n",
    "        print(\"Modified course : \", c)\n",
    "    innerfun()\n",
    "    \n",
    "    print('Finally : ', c)\n",
    "\n",
    "outfun()"
   ]
  },
  {
   "cell_type": "code",
   "execution_count": 46,
   "id": "9a1720a5",
   "metadata": {},
   "outputs": [
    {
     "data": {
      "text/plain": [
       "10"
      ]
     },
     "execution_count": 46,
     "metadata": {},
     "output_type": "execute_result"
    }
   ],
   "source": [
    "l = [1,2,3,4]\n",
    "sum(*l)"
   ]
  },
  {
   "cell_type": "code",
   "execution_count": null,
   "id": "4f237fcd",
   "metadata": {},
   "outputs": [
    {
     "ename": "TypeError",
     "evalue": "'int' object is not callable",
     "output_type": "error",
     "traceback": [
      "\u001b[31m---------------------------------------------------------------------------\u001b[39m",
      "\u001b[31mTypeError\u001b[39m                                 Traceback (most recent call last)",
      "\u001b[36mCell\u001b[39m\u001b[36m \u001b[39m\u001b[32mIn[48]\u001b[39m\u001b[32m, line 2\u001b[39m\n\u001b[32m      1\u001b[39m \u001b[38;5;28mlen\u001b[39m = \u001b[32m10\u001b[39m\n\u001b[32m----> \u001b[39m\u001b[32m2\u001b[39m \u001b[38;5;28;43mlen\u001b[39;49m\u001b[43m(\u001b[49m\u001b[43ml\u001b[49m\u001b[43m)\u001b[49m\n",
      "\u001b[31mTypeError\u001b[39m: 'int' object is not callable"
     ]
    }
   ],
   "source": [
    "len = 10\n",
    "len(l) # here the original meaning of len is replaced with the variable defined as 10."
   ]
  },
  {
   "cell_type": "markdown",
   "id": "e5ceffab",
   "metadata": {},
   "source": [
    "---------\n",
    "## Calculator\n",
    "\n",
    "------"
   ]
  },
  {
   "cell_type": "code",
   "execution_count": 49,
   "id": "704bede8",
   "metadata": {},
   "outputs": [],
   "source": [
    "def add(a,b):\n",
    "    return a+b\n",
    "\n",
    "def sub(a,b):\n",
    "    return a-b\n",
    "\n",
    "def mul(a,b):\n",
    "    return a*b\n",
    "\n",
    "def div(a,b): \n",
    "    return a/b\n",
    "\n",
    "def  mod(a,b):\n",
    "    return a%b"
   ]
  },
  {
   "cell_type": "code",
   "execution_count": 52,
   "id": "a7f29f8e",
   "metadata": {},
   "outputs": [
    {
     "ename": "TypeError",
     "evalue": "'builtin_function_or_method' object is not subscriptable",
     "output_type": "error",
     "traceback": [
      "\u001b[31m---------------------------------------------------------------------------\u001b[39m",
      "\u001b[31mTypeError\u001b[39m                                 Traceback (most recent call last)",
      "\u001b[36mCell\u001b[39m\u001b[36m \u001b[39m\u001b[32mIn[52]\u001b[39m\u001b[32m, line 4\u001b[39m\n\u001b[32m      2\u001b[39m e = []\n\u001b[32m      3\u001b[39m \u001b[38;5;28;01mfor\u001b[39;00m i \u001b[38;5;129;01min\u001b[39;00m exp:\n\u001b[32m----> \u001b[39m\u001b[32m4\u001b[39m     \u001b[43me\u001b[49m\u001b[43m.\u001b[49m\u001b[43mappend\u001b[49m\u001b[43m[\u001b[49m\u001b[43mi\u001b[49m\u001b[43m]\u001b[49m\n",
      "\u001b[31mTypeError\u001b[39m: 'builtin_function_or_method' object is not subscriptable"
     ]
    }
   ],
   "source": [
    "exp = input(\"Enter the expression : \" )\n",
    "e = []\n",
    "for i in exp:\n",
    "    e.append[i]"
   ]
  },
  {
   "cell_type": "code",
   "execution_count": 59,
   "id": "dc503b83",
   "metadata": {},
   "outputs": [
    {
     "name": "stdout",
     "output_type": "stream",
     "text": [
      "196.8659626320065\n"
     ]
    }
   ],
   "source": [
    "exp = input(\"Enter the expression : \" )\n",
    "for i in exp: \n",
    "    if not i.isdigit(): #finding the operator, as it is not a digit\n",
    "        op = i #assigning the operator which is a 'i'th iteraion of the expression to 'op'.\n",
    "        break\n",
    "\n",
    "a, b = exp.split(op) # splits the expression at 'op'. and converts it to string.\n",
    "a,b = int(a), int(b) # converts the string to integer.\n",
    "if op == \"+\":\n",
    "    print(add(a,b))\n",
    "elif op == \"-\":\n",
    "    print(sub(a,b))\n",
    "elif op == \"*\":\n",
    "    print(mul(a,b))\n",
    "elif op == \"/\":\n",
    "    print(div(a,b))\n",
    "elif op == \"%\":\n",
    "    print(mod(a,b))\n",
    "else: \n",
    "    print(\"enter valid input\")"
   ]
  },
  {
   "cell_type": "markdown",
   "id": "fde96047",
   "metadata": {},
   "source": [
    "-----\n",
    "### pass by value pass by reference "
   ]
  },
  {
   "cell_type": "markdown",
   "id": "cb6712ef",
   "metadata": {},
   "source": [
    "------\n",
    "### Recursion"
   ]
  },
  {
   "cell_type": "code",
   "execution_count": null,
   "id": "f2df27a3",
   "metadata": {},
   "outputs": [
    {
     "name": "stdout",
     "output_type": "stream",
     "text": [
      "6\n"
     ]
    }
   ],
   "source": [
    "n = int(input(\"Enter the number : \"))\n",
    "\n",
    "sum_dig=0\n",
    "while n>0:\n",
    "    sum_dig += (n%10)\n",
    "    n = n//10\n",
    "\n",
    "print(sum_dig)"
   ]
  },
  {
   "cell_type": "code",
   "execution_count": 48,
   "id": "64a12992",
   "metadata": {},
   "outputs": [
    {
     "name": "stdout",
     "output_type": "stream",
     "text": [
      "<function sum_of_digits at 0x10b331260>\n"
     ]
    }
   ],
   "source": [
    "def sum_of_digits(n):\n",
    "    if n>0:\n",
    "        return n\n",
    "    return (n%10)+ sum_of_digits(n//10)\n",
    "\n",
    "n = int(input(\"Enter the number : \"))\n",
    "print(sum_of_digits)"
   ]
  },
  {
   "cell_type": "code",
   "execution_count": null,
   "id": "6ba835ae",
   "metadata": {},
   "outputs": [],
   "source": []
  }
 ],
 "metadata": {
  "kernelspec": {
   "display_name": "Python 3",
   "language": "python",
   "name": "python3"
  },
  "language_info": {
   "codemirror_mode": {
    "name": "ipython",
    "version": 3
   },
   "file_extension": ".py",
   "mimetype": "text/x-python",
   "name": "python",
   "nbconvert_exporter": "python",
   "pygments_lexer": "ipython3",
   "version": "3.11.4"
  }
 },
 "nbformat": 4,
 "nbformat_minor": 5
}
