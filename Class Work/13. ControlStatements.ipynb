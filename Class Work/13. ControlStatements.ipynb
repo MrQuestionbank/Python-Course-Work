{
 "cells": [
  {
   "cell_type": "markdown",
   "id": "262dea83",
   "metadata": {},
   "source": [
    "## for loops: \n",
    "used to iterate over a sequence like- list, tuple, etc."
   ]
  },
  {
   "cell_type": "code",
   "execution_count": 1,
   "id": "0289d61a",
   "metadata": {},
   "outputs": [
    {
     "data": {
      "text/plain": [
       "112"
      ]
     },
     "execution_count": 1,
     "metadata": {},
     "output_type": "execute_result"
    }
   ],
   "source": [
    "s =\"python programming\"\n",
    "ord(s[0])"
   ]
  },
  {
   "cell_type": "code",
   "execution_count": 2,
   "id": "6b6f3c2a",
   "metadata": {},
   "outputs": [
    {
     "name": "stdout",
     "output_type": "stream",
     "text": [
      "p 112\n",
      "y 121\n",
      "t 116\n",
      "h 104\n",
      "o 111\n",
      "n 110\n",
      "  32\n",
      "p 112\n",
      "r 114\n",
      "o 111\n",
      "g 103\n",
      "r 114\n",
      "a 97\n",
      "m 109\n",
      "m 109\n",
      "i 105\n",
      "n 110\n",
      "g 103\n"
     ]
    }
   ],
   "source": [
    "for ch in s: \n",
    "    print(ch,ord(ch))"
   ]
  },
  {
   "cell_type": "code",
   "execution_count": 7,
   "id": "9412a5c8",
   "metadata": {},
   "outputs": [
    {
     "name": "stdout",
     "output_type": "stream",
     "text": [
      "1 1\n",
      "2 4\n",
      "3 9\n",
      "4 16\n",
      "5 25\n",
      "6 36\n",
      "7 49\n",
      "8 64\n",
      "9 81\n"
     ]
    }
   ],
   "source": [
    "s = [1,2,3,4,5,6,7,8,9]\n",
    "for num in s: \n",
    "    print(num,num**2)\n"
   ]
  },
  {
   "cell_type": "markdown",
   "id": "003eac6f",
   "metadata": {},
   "source": [
    "### Range function: \n",
    "range(start, stop, step)"
   ]
  },
  {
   "cell_type": "code",
   "execution_count": 9,
   "id": "24689751",
   "metadata": {},
   "outputs": [
    {
     "name": "stdout",
     "output_type": "stream",
     "text": [
      "18 x 1 = 18\n",
      "18 x 2 = 36\n",
      "18 x 3 = 54\n",
      "18 x 4 = 72\n",
      "18 x 5 = 90\n",
      "18 x 6 = 108\n",
      "18 x 7 = 126\n",
      "18 x 8 = 144\n",
      "18 x 9 = 162\n",
      "18 x 10 = 180\n",
      "18 x 11 = 198\n",
      "18 x 12 = 216\n",
      "18 x 13 = 234\n",
      "18 x 14 = 252\n",
      "18 x 15 = 270\n",
      "18 x 16 = 288\n",
      "18 x 17 = 306\n",
      "18 x 18 = 324\n",
      "18 x 19 = 342\n",
      "18 x 20 = 360\n"
     ]
    }
   ],
   "source": [
    "num = int(input(\"enter the table number: \"))\n",
    "for i in range(1,21):\n",
    "    print(f\"{num} x {i} = {num*i}\")\n"
   ]
  },
  {
   "cell_type": "code",
   "execution_count": 19,
   "id": "a917ea05",
   "metadata": {},
   "outputs": [
    {
     "name": "stdout",
     "output_type": "stream",
     "text": [
      "s 1\n",
      "s 2\n",
      "s 3\n"
     ]
    }
   ],
   "source": [
    "s = \"Praveen Harshith Varun Sheshu\"\n",
    "n = len(s)\n",
    "count = 0\n",
    "for i in s: \n",
    "    if i == \"s\" or i == \"S\":\n",
    "        count += 1 \n",
    "        print(\"s\" , count)\n",
    "    else: \n",
    "        continue\n"
   ]
  },
  {
   "cell_type": "code",
   "execution_count": 15,
   "id": "927c4b7c",
   "metadata": {},
   "outputs": [
    {
     "name": "stdout",
     "output_type": "stream",
     "text": [
      "s 11\n",
      "s 26\n"
     ]
    }
   ],
   "source": [
    "n = len(s)\n",
    "ch = input(\"Enter the character: \")\n",
    "for i in range(n):\n",
    "    if s[i] == ch: \n",
    "        print(s[i], i)\n"
   ]
  },
  {
   "cell_type": "code",
   "execution_count": 20,
   "id": "39beb510",
   "metadata": {},
   "outputs": [
    {
     "name": "stdout",
     "output_type": "stream",
     "text": [
      "0 cycle\n"
     ]
    }
   ],
   "source": [
    "products = ['cycle', 'watch', 'laptop', 'mobile', 'mouse']\n",
    "items = input(\"Enter the items : \").split()\n",
    "\n",
    "for i in items: \n",
    "    if i in products:\n",
    "        print(products.index(i), i)\n",
    "    else: \n",
    "        print(f\"{i} is not available\")"
   ]
  },
  {
   "cell_type": "markdown",
   "id": "d9fa9161",
   "metadata": {},
   "source": [
    "## while loops :\n",
    "used when the number of time an iteration is not known."
   ]
  },
  {
   "cell_type": "code",
   "execution_count": 8,
   "id": "ebfa259f",
   "metadata": {},
   "outputs": [
    {
     "name": "stdout",
     "output_type": "stream",
     "text": [
      "Fire! 29 are left\n",
      "Fire! 28 are left\n",
      "Fire! 27 are left\n",
      "Fire! 26 are left\n",
      "Fire! 25 are left\n",
      "Fire! 24 are left\n",
      "Fire! 23 are left\n",
      "Fire! 22 are left\n",
      "Fire! 21 are left\n",
      "Fire! 20 are left\n",
      "Fire! 19 are left\n",
      "Fire! 18 are left\n",
      "Fire! 17 are left\n",
      "Fire! 16 are left\n",
      "Fire! 15 are left\n",
      "Fire! 14 are left\n",
      "break,user dead\n"
     ]
    }
   ],
   "source": [
    "bullets = 30\n",
    "dead=int(input(\"Enter the dead spot: \"))\n",
    "\n",
    "while bullets > 0:\n",
    "    if bullets <dead:\n",
    "        print(\"break,user dead\") \n",
    "        break #to exit the while loop\n",
    "    bullets -= 1 \n",
    "    print(f\"Fire! {bullets} are left\")\n",
    "\n",
    "else: #when 'break' executes, 'else' doesnt execute and vice-versa. \n",
    "    print(\"Game Over. you win\")"
   ]
  },
  {
   "cell_type": "code",
   "execution_count": 3,
   "id": "7b791d53",
   "metadata": {},
   "outputs": [
    {
     "name": "stdout",
     "output_type": "stream",
     "text": [
      "Invalid login\n",
      "Login successful!\n"
     ]
    }
   ],
   "source": [
    "# Login \n",
    "email, pwd = 'xyz@gmail.com', 'xyz@123'\n",
    "\n",
    "max_attempts = 5 \n",
    "while max_attempts > 0 :\n",
    "    user_email= input(\"enter the email: \")\n",
    "    password = input(\"enter the password: \")\n",
    "    if user_email == email and password == pwd: \n",
    "        print(\"Login successful!\")\n",
    "        break \n",
    "    else: \n",
    "        print(\"Invalid login\")\n",
    "    max_attempts -= 1 \n",
    "\n",
    "else: \n",
    "    print(\"Try again later. \")"
   ]
  },
  {
   "cell_type": "code",
   "execution_count": null,
   "id": "789db198",
   "metadata": {},
   "outputs": [],
   "source": []
  },
  {
   "cell_type": "code",
   "execution_count": null,
   "id": "3f79c0f9",
   "metadata": {},
   "outputs": [],
   "source": []
  }
 ],
 "metadata": {
  "kernelspec": {
   "display_name": "Python 3",
   "language": "python",
   "name": "python3"
  },
  "language_info": {
   "codemirror_mode": {
    "name": "ipython",
    "version": 3
   },
   "file_extension": ".py",
   "mimetype": "text/x-python",
   "name": "python",
   "nbconvert_exporter": "python",
   "pygments_lexer": "ipython3",
   "version": "3.11.4"
  }
 },
 "nbformat": 4,
 "nbformat_minor": 5
}
