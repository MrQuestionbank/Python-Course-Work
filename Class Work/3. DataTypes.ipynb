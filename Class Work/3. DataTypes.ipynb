{
 "cells": [
  {
   "cell_type": "markdown",
   "id": "cb948de2",
   "metadata": {},
   "source": [
    "### Numeric data type "
   ]
  },
  {
   "cell_type": "code",
   "execution_count": 1,
   "id": "681fabb5",
   "metadata": {},
   "outputs": [
    {
     "data": {
      "text/plain": [
       "int"
      ]
     },
     "execution_count": 1,
     "metadata": {},
     "output_type": "execute_result"
    }
   ],
   "source": [
    "a = 10 \n",
    "type(a) "
   ]
  },
  {
   "cell_type": "code",
   "execution_count": 2,
   "id": "38704574",
   "metadata": {},
   "outputs": [
    {
     "data": {
      "text/plain": [
       "float"
      ]
     },
     "execution_count": 2,
     "metadata": {},
     "output_type": "execute_result"
    }
   ],
   "source": [
    "a = 10.342\n",
    "type(a)"
   ]
  },
  {
   "cell_type": "code",
   "execution_count": 4,
   "id": "f21ed834",
   "metadata": {},
   "outputs": [
    {
     "data": {
      "text/plain": [
       "complex"
      ]
     },
     "execution_count": 4,
     "metadata": {},
     "output_type": "execute_result"
    }
   ],
   "source": [
    "a = 3+3j\n",
    "type(a)"
   ]
  },
  {
   "cell_type": "markdown",
   "id": "a421492a",
   "metadata": {},
   "source": [
    "### String datatype"
   ]
  },
  {
   "cell_type": "code",
   "execution_count": 6,
   "id": "22581a43",
   "metadata": {},
   "outputs": [
    {
     "data": {
      "text/plain": [
       "str"
      ]
     },
     "execution_count": 6,
     "metadata": {},
     "output_type": "execute_result"
    }
   ],
   "source": [
    "name = \"Tarit\" # using ouble quotes/ single quotes\n",
    "type(name)"
   ]
  },
  {
   "cell_type": "code",
   "execution_count": 8,
   "id": "cbf5c9b2",
   "metadata": {},
   "outputs": [
    {
     "data": {
      "text/plain": [
       "str"
      ]
     },
     "execution_count": 8,
     "metadata": {},
     "output_type": "execute_result"
    }
   ],
   "source": [
    "name = ''''kumar \n",
    "sdasd\n",
    "asda\n",
    "''' # triple quotes for multiple line string\n",
    "type(name)"
   ]
  },
  {
   "cell_type": "markdown",
   "id": "7bc43b08",
   "metadata": {},
   "source": [
    "### List : "
   ]
  },
  {
   "cell_type": "code",
   "execution_count": 10,
   "id": "37883aa6",
   "metadata": {},
   "outputs": [],
   "source": [
    "fav =[\"phone\", \"playstation\",\"train\"] #square brackets used to make a list\n",
    "fav =[] #declare empty list \n",
    "fav = list() # converts smtg to a list"
   ]
  },
  {
   "cell_type": "markdown",
   "id": "b0b16d6d",
   "metadata": {},
   "source": [
    "List is ordered, mutable and heterogeneous (can hold any data type) collection of items. "
   ]
  },
  {
   "cell_type": "code",
   "execution_count": 14,
   "id": "3eb5dacc",
   "metadata": {},
   "outputs": [
    {
     "name": "stdout",
     "output_type": "stream",
     "text": [
      "['asda', 'asda', 'asda', 'asda']\n"
     ]
    },
    {
     "data": {
      "text/plain": [
       "list"
      ]
     },
     "execution_count": 14,
     "metadata": {},
     "output_type": "execute_result"
    }
   ],
   "source": [
    "fav.append(\"asda\")\n",
    "print(fav)\n",
    "type(fav)"
   ]
  },
  {
   "cell_type": "markdown",
   "id": "21a44aac",
   "metadata": {},
   "source": [
    "### Tuple :  "
   ]
  },
  {
   "cell_type": "markdown",
   "id": "4d421025",
   "metadata": {},
   "source": [
    "- Like list but immutable.\n",
    "- Used when dealing with fixed data. Saves memory and time complexity and hence faster to process than lists."
   ]
  },
  {
   "cell_type": "code",
   "execution_count": 17,
   "id": "7933c1ea",
   "metadata": {},
   "outputs": [
    {
     "data": {
      "text/plain": [
       "(1, 2, 3)"
      ]
     },
     "execution_count": 17,
     "metadata": {},
     "output_type": "execute_result"
    }
   ],
   "source": [
    "t = () \n",
    "t =tuple()\n",
    "t= (1,2,3)\n",
    "t"
   ]
  },
  {
   "cell_type": "markdown",
   "id": "06f38223",
   "metadata": {},
   "source": [
    "### Sets : "
   ]
  },
  {
   "cell_type": "markdown",
   "id": "b34bfd58",
   "metadata": {},
   "source": [
    "- Unordered collection, mutable and no duplicates. "
   ]
  },
  {
   "cell_type": "code",
   "execution_count": 18,
   "id": "ffca441c",
   "metadata": {},
   "outputs": [
    {
     "data": {
      "text/plain": [
       "{1, 2, 4}"
      ]
     },
     "execution_count": 18,
     "metadata": {},
     "output_type": "execute_result"
    }
   ],
   "source": [
    "s={1,1,1,1,2,2,2,4,4,4}\n",
    "s"
   ]
  },
  {
   "cell_type": "code",
   "execution_count": 21,
   "id": "672883cb",
   "metadata": {},
   "outputs": [],
   "source": [
    "s=set() #Set has only one type of declaration. Note - empty curly braces {} is for dictionary."
   ]
  },
  {
   "cell_type": "code",
   "execution_count": 22,
   "id": "3ff347c8",
   "metadata": {},
   "outputs": [
    {
     "data": {
      "text/plain": [
       "set"
      ]
     },
     "execution_count": 22,
     "metadata": {},
     "output_type": "execute_result"
    }
   ],
   "source": [
    "type(s)"
   ]
  },
  {
   "cell_type": "code",
   "execution_count": 28,
   "id": "d62adb1e",
   "metadata": {},
   "outputs": [],
   "source": [
    "s = frozenset({1,2,3}) # immutable set"
   ]
  },
  {
   "cell_type": "code",
   "execution_count": 29,
   "id": "62707240",
   "metadata": {},
   "outputs": [
    {
     "data": {
      "text/plain": [
       "frozenset"
      ]
     },
     "execution_count": 29,
     "metadata": {},
     "output_type": "execute_result"
    }
   ],
   "source": [
    "type(s)"
   ]
  },
  {
   "cell_type": "markdown",
   "id": "aa987c39",
   "metadata": {},
   "source": [
    "### Dictionary :"
   ]
  },
  {
   "cell_type": "markdown",
   "id": "36acbfe2",
   "metadata": {},
   "source": [
    "- Key-Value pairs i.e., defines what is what. \n",
    "- keys are immutable, and values are mutable."
   ]
  },
  {
   "cell_type": "code",
   "execution_count": 31,
   "id": "0bbff4c6",
   "metadata": {},
   "outputs": [],
   "source": [
    "d = { 'name' : 'Tarit', 'age' : 20, 'bldgrp' : 'A +ve' }"
   ]
  },
  {
   "cell_type": "code",
   "execution_count": 34,
   "id": "65d66168",
   "metadata": {},
   "outputs": [
    {
     "data": {
      "text/plain": [
       "'Tarit'"
      ]
     },
     "execution_count": 34,
     "metadata": {},
     "output_type": "execute_result"
    }
   ],
   "source": [
    "d['name'] #accessing a value by calling the key"
   ]
  },
  {
   "cell_type": "code",
   "execution_count": 35,
   "id": "facef2af",
   "metadata": {},
   "outputs": [
    {
     "data": {
      "text/plain": [
       "20"
      ]
     },
     "execution_count": 35,
     "metadata": {},
     "output_type": "execute_result"
    }
   ],
   "source": [
    "d['age']"
   ]
  },
  {
   "cell_type": "code",
   "execution_count": 36,
   "id": "c32dfe28",
   "metadata": {},
   "outputs": [],
   "source": [
    "d = {} # creates an empty dictionary. "
   ]
  },
  {
   "cell_type": "markdown",
   "id": "a0d1dfc5",
   "metadata": {},
   "source": [
    "### Boolean"
   ]
  },
  {
   "cell_type": "code",
   "execution_count": 37,
   "id": "e5c4ff7e",
   "metadata": {},
   "outputs": [
    {
     "data": {
      "text/plain": [
       "bool"
      ]
     },
     "execution_count": 37,
     "metadata": {},
     "output_type": "execute_result"
    }
   ],
   "source": [
    "status = True \n",
    "status = False\n",
    "type(status)"
   ]
  },
  {
   "cell_type": "markdown",
   "id": "2ed96ded",
   "metadata": {},
   "source": [
    "### Null"
   ]
  },
  {
   "cell_type": "code",
   "execution_count": 38,
   "id": "80faf6fd",
   "metadata": {},
   "outputs": [
    {
     "data": {
      "text/plain": [
       "NoneType"
      ]
     },
     "execution_count": 38,
     "metadata": {},
     "output_type": "execute_result"
    }
   ],
   "source": [
    "randomvar = None # when you dont know the type of the data you want it to be \n",
    "type(randomvar)"
   ]
  },
  {
   "cell_type": "code",
   "execution_count": null,
   "id": "80486797",
   "metadata": {},
   "outputs": [],
   "source": []
  }
 ],
 "metadata": {
  "kernelspec": {
   "display_name": "Python 3",
   "language": "python",
   "name": "python3"
  },
  "language_info": {
   "codemirror_mode": {
    "name": "ipython",
    "version": 3
   },
   "file_extension": ".py",
   "mimetype": "text/x-python",
   "name": "python",
   "nbconvert_exporter": "python",
   "pygments_lexer": "ipython3",
   "version": "3.11.4"
  }
 },
 "nbformat": 4,
 "nbformat_minor": 5
}
