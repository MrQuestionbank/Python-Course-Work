{
 "cells": [
  {
   "cell_type": "markdown",
   "id": "a1c00d8d",
   "metadata": {},
   "source": [
    "# List Comprehension : "
   ]
  },
  {
   "cell_type": "code",
   "execution_count": 2,
   "id": "3c773b7f",
   "metadata": {},
   "outputs": [
    {
     "name": "stdout",
     "output_type": "stream",
     "text": [
      "[1, 2, 3, 4, 5, 6]\n"
     ]
    }
   ],
   "source": [
    "n = int(input(\"enter the number\"))\n",
    "l = []\n",
    "\n",
    "for i in range(1,n+1):\n",
    "    l.append(i)\n",
    "    \n",
    "print(l)"
   ]
  },
  {
   "cell_type": "code",
   "execution_count": null,
   "id": "8ba24813",
   "metadata": {},
   "outputs": [
    {
     "name": "stdout",
     "output_type": "stream",
     "text": [
      "[1, 2, 3, 4, 5, 6]\n"
     ]
    }
   ],
   "source": [
    "k = [ i for i in range(1,n+1)] #this is list comprehension technique\n",
    "print(k)"
   ]
  },
  {
   "cell_type": "markdown",
   "id": "61ff5caf",
   "metadata": {},
   "source": [
    "This technique is used to shorten the code. \n",
    "'k' is declared as an empty list and each element is added according to the range specified. "
   ]
  },
  {
   "cell_type": "code",
   "execution_count": 8,
   "id": "98c478f6",
   "metadata": {},
   "outputs": [
    {
     "data": {
      "text/plain": [
       "[0, 2, 4, 6, 8]"
      ]
     },
     "execution_count": 8,
     "metadata": {},
     "output_type": "execute_result"
    }
   ],
   "source": [
    "even_list = [ i for i in range(10) if i%2==0] # i for i in range(10) - is iterations \n",
    "# if condition is applied to the loop. \n",
    "# elements are appended to the empty list 'even_list' provided they are divisible by 2 i.e. even\n",
    "even_list"
   ]
  },
  {
   "cell_type": "code",
   "execution_count": 20,
   "id": "cc2c3876",
   "metadata": {},
   "outputs": [
    {
     "data": {
      "text/plain": [
       "['a', 'a']"
      ]
     },
     "execution_count": 20,
     "metadata": {},
     "output_type": "execute_result"
    }
   ],
   "source": [
    "j = input(\"Enter a string\")\n",
    "v ='aeiouAEIOU'\n",
    "'''for i in j: \n",
    "    if i in v: \n",
    "        0.append(i)'''\n",
    "\n",
    "o = [i  for i in j if i in v ]\n",
    "o"
   ]
  },
  {
   "cell_type": "code",
   "execution_count": 21,
   "id": "37e7fa70",
   "metadata": {},
   "outputs": [
    {
     "data": {
      "text/plain": [
       "['1', '2', '3', '4', '5', 0, 0, 0, 0, 0, 0, 0, 0, 0, 0, '7', '8', '9']"
      ]
     },
     "execution_count": 21,
     "metadata": {},
     "output_type": "execute_result"
    }
   ],
   "source": [
    "s = '12345dghiacdvke789'\n",
    "l = [i if i.isdigit() else 0 for i in s ] # when using 'else' the 'if-else' statement comes before the loop.\n",
    "# but incase of only 'if' then the condition comes post the loop.\n",
    "l"
   ]
  },
  {
   "cell_type": "code",
   "execution_count": null,
   "id": "a3bfa3ce",
   "metadata": {},
   "outputs": [
    {
     "data": {
      "text/plain": [
       "{0: 0, 1: 1, 2: 4, 3: 9, 4: 16, 5: 25, 6: 36, 7: 49, 8: 64, 9: 81}"
      ]
     },
     "execution_count": 23,
     "metadata": {},
     "output_type": "execute_result"
    }
   ],
   "source": [
    "# for dictionaries \n",
    "# d = {key:values for key in sequence}\n",
    "d = {i: i**2 for i in range(10)}\n",
    "d"
   ]
  },
  {
   "cell_type": "code",
   "execution_count": 24,
   "id": "edf05fe4",
   "metadata": {},
   "outputs": [],
   "source": [
    "# for list \n",
    "# l = [value for value in sequence]"
   ]
  },
  {
   "cell_type": "code",
   "execution_count": 25,
   "id": "71b3b24e",
   "metadata": {},
   "outputs": [],
   "source": [
    "# for set\n",
    "# s = {val for val in sequence}"
   ]
  },
  {
   "cell_type": "code",
   "execution_count": 27,
   "id": "f4083729",
   "metadata": {},
   "outputs": [
    {
     "data": {
      "text/plain": [
       "{'vikas': 'absent',\n",
       " 'aditya': 'absent',\n",
       " 'varun': 'absent',\n",
       " 'arya': 'absent',\n",
       " 'tarit': 'absent'}"
      ]
     },
     "execution_count": 27,
     "metadata": {},
     "output_type": "execute_result"
    }
   ],
   "source": [
    "names = ['vikas', 'aditya', 'varun', 'arya' ,'tarit']\n",
    "d = {i: 'absent' for i in names}\n",
    "d"
   ]
  },
  {
   "cell_type": "code",
   "execution_count": 31,
   "id": "a723c2fc",
   "metadata": {},
   "outputs": [
    {
     "data": {
      "text/plain": [
       "{'vikas': 'Absent',\n",
       " 'aditya': 'Present',\n",
       " 'varun': 'Absent',\n",
       " 'arya': 'Present',\n",
       " 'tarit': 'Absent'}"
      ]
     },
     "execution_count": 31,
     "metadata": {},
     "output_type": "execute_result"
    }
   ],
   "source": [
    "d = {value : 'Absent' if index %2 == 0 else \"Present\" for index, value in enumerate(names)} \n",
    "d\n",
    "#here enumerate returns a tuples containing (index, values) like -(0, 'vikas), (1, 'aditya')..."
   ]
  },
  {
   "cell_type": "code",
   "execution_count": null,
   "id": "53f48c2f",
   "metadata": {},
   "outputs": [],
   "source": []
  }
 ],
 "metadata": {
  "kernelspec": {
   "display_name": "Python 3",
   "language": "python",
   "name": "python3"
  },
  "language_info": {
   "codemirror_mode": {
    "name": "ipython",
    "version": 3
   },
   "file_extension": ".py",
   "mimetype": "text/x-python",
   "name": "python",
   "nbconvert_exporter": "python",
   "pygments_lexer": "ipython3",
   "version": "3.11.4"
  }
 },
 "nbformat": 4,
 "nbformat_minor": 5
}
